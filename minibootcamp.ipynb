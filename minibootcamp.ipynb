{
  "cells": [
    {
      "cell_type": "markdown",
      "metadata": {
        "id": "GFB1i4nUXbL5"
      },
      "source": [
        "# Day 1 - Pengenalan Dasar Python"
      ]
    },
    {
      "cell_type": "code",
      "execution_count": null,
      "metadata": {
        "colab": {
          "base_uri": "https://localhost:8080/"
        },
        "id": "br7C4o2AZbDs",
        "outputId": "2227eb72-742e-4548-d021-46d93de24490"
      },
      "outputs": [
        {
          "name": "stdout",
          "output_type": "stream",
          "text": [
            "Belajar Python\n"
          ]
        }
      ],
      "source": [
        "print(\"Belajar Python\")"
      ]
    },
    {
      "cell_type": "code",
      "execution_count": null,
      "metadata": {
        "colab": {
          "base_uri": "https://localhost:8080/"
        },
        "id": "eqcLHla4ah2j",
        "outputId": "7fa9e4b6-df05-4357-bb05-a3a28e246418"
      },
      "outputs": [
        {
          "name": "stdout",
          "output_type": "stream",
          "text": [
            "Belajar Python\n"
          ]
        }
      ],
      "source": [
        "print('Belajar Python')"
      ]
    },
    {
      "cell_type": "code",
      "execution_count": null,
      "metadata": {
        "id": "ie3_VLXEarBW"
      },
      "outputs": [],
      "source": [
        "#ini adalah sebuah komentar"
      ]
    },
    {
      "cell_type": "code",
      "execution_count": null,
      "metadata": {
        "colab": {
          "base_uri": "https://localhost:8080/"
        },
        "id": "O9tCylH5a6Sd",
        "outputId": "fa59fd53-ec25-47ec-c6ab-50b0d773e934"
      },
      "outputs": [
        {
          "name": "stdout",
          "output_type": "stream",
          "text": [
            "10\n"
          ]
        },
        {
          "data": {
            "text/plain": [
              "int"
            ]
          },
          "execution_count": 5,
          "metadata": {
            "tags": []
          },
          "output_type": "execute_result"
        }
      ],
      "source": [
        "#belajar tipe data\n",
        "\n",
        "#tipe data integer\n",
        "print(10)\n",
        "type(10)"
      ]
    },
    {
      "cell_type": "code",
      "execution_count": null,
      "metadata": {
        "colab": {
          "base_uri": "https://localhost:8080/"
        },
        "id": "Pf8iBi3ebTkr",
        "outputId": "0bd397ac-86a3-43d3-e654-1c77d65f6f33"
      },
      "outputs": [
        {
          "name": "stdout",
          "output_type": "stream",
          "text": [
            "-3\n"
          ]
        },
        {
          "data": {
            "text/plain": [
              "int"
            ]
          },
          "execution_count": 6,
          "metadata": {
            "tags": []
          },
          "output_type": "execute_result"
        }
      ],
      "source": [
        "print(-3)\n",
        "type(-3)"
      ]
    },
    {
      "cell_type": "code",
      "execution_count": null,
      "metadata": {
        "colab": {
          "base_uri": "https://localhost:8080/"
        },
        "id": "FQWJMllRbW-B",
        "outputId": "5fc3a2bb-29ab-4f7f-8981-ecfd2ca2a1ca"
      },
      "outputs": [
        {
          "name": "stdout",
          "output_type": "stream",
          "text": [
            "ini adalah sebuah string\n"
          ]
        },
        {
          "data": {
            "text/plain": [
              "str"
            ]
          },
          "execution_count": 7,
          "metadata": {
            "tags": []
          },
          "output_type": "execute_result"
        }
      ],
      "source": [
        "#tipe data string\n",
        "print(\"ini adalah sebuah string\")\n",
        "type(\"ini adalah sebuah string\")"
      ]
    },
    {
      "cell_type": "code",
      "execution_count": null,
      "metadata": {
        "colab": {
          "base_uri": "https://localhost:8080/"
        },
        "id": "p7sAJ8OebjGX",
        "outputId": "ff8d648d-7d23-4ea0-d4c2-107d1317750e"
      },
      "outputs": [
        {
          "name": "stdout",
          "output_type": "stream",
          "text": [
            "3.14\n"
          ]
        },
        {
          "data": {
            "text/plain": [
              "float"
            ]
          },
          "execution_count": 8,
          "metadata": {
            "tags": []
          },
          "output_type": "execute_result"
        }
      ],
      "source": [
        "#tipe data float\n",
        "print(3.14)\n",
        "type(3.14)"
      ]
    },
    {
      "cell_type": "code",
      "execution_count": null,
      "metadata": {
        "colab": {
          "base_uri": "https://localhost:8080/"
        },
        "id": "IL7cVspPbtzt",
        "outputId": "3beaef19-215f-4019-ff46-980dae3f2c66"
      },
      "outputs": [
        {
          "name": "stdout",
          "output_type": "stream",
          "text": [
            "[10, 'Python', 3.14]\n"
          ]
        },
        {
          "data": {
            "text/plain": [
              "list"
            ]
          },
          "execution_count": 10,
          "metadata": {
            "tags": []
          },
          "output_type": "execute_result"
        }
      ],
      "source": [
        "#tipe data list\n",
        "print([10, \"Python\", 3.14])\n",
        "type([10, \"Python\", 3.14])"
      ]
    },
    {
      "cell_type": "code",
      "execution_count": null,
      "metadata": {
        "colab": {
          "base_uri": "https://localhost:8080/"
        },
        "id": "iLohfOJIcM14",
        "outputId": "a63361b1-8d6f-4d98-a794-272501a562d7"
      },
      "outputs": [
        {
          "name": "stdout",
          "output_type": "stream",
          "text": [
            "{'nama': 'fahmi', 'umur': 22}\n"
          ]
        },
        {
          "data": {
            "text/plain": [
              "dict"
            ]
          },
          "execution_count": 12,
          "metadata": {
            "tags": []
          },
          "output_type": "execute_result"
        }
      ],
      "source": [
        "#tipe data dictionary\n",
        "#key : value\n",
        "print({\"nama\":\"fahmi\", \"umur\":22})\n",
        "type({\"nama\":\"fahmi\", \"umur\":22})"
      ]
    },
    {
      "cell_type": "code",
      "execution_count": null,
      "metadata": {
        "colab": {
          "base_uri": "https://localhost:8080/"
        },
        "id": "z60eXX5scpr6",
        "outputId": "6abafdd8-90ba-4134-8591-d435e1a04339"
      },
      "outputs": [
        {
          "name": "stdout",
          "output_type": "stream",
          "text": [
            "True\n"
          ]
        },
        {
          "data": {
            "text/plain": [
              "bool"
            ]
          },
          "execution_count": 13,
          "metadata": {
            "tags": []
          },
          "output_type": "execute_result"
        }
      ],
      "source": [
        "#tipe data boolean\n",
        "print(True)\n",
        "type(True)"
      ]
    },
    {
      "cell_type": "code",
      "execution_count": null,
      "metadata": {
        "colab": {
          "base_uri": "https://localhost:8080/"
        },
        "id": "m1CHnDGocw00",
        "outputId": "5eedffe2-da41-498f-f551-8e8e101c3ca2"
      },
      "outputs": [
        {
          "name": "stdout",
          "output_type": "stream",
          "text": [
            "False\n"
          ]
        },
        {
          "data": {
            "text/plain": [
              "bool"
            ]
          },
          "execution_count": 14,
          "metadata": {
            "tags": []
          },
          "output_type": "execute_result"
        }
      ],
      "source": [
        "print(False)\n",
        "type(False)"
      ]
    },
    {
      "cell_type": "code",
      "execution_count": null,
      "metadata": {
        "id": "E5Jkl38fc3HU"
      },
      "outputs": [],
      "source": [
        "#belajar variabel\n",
        "x = 100"
      ]
    },
    {
      "cell_type": "code",
      "execution_count": null,
      "metadata": {
        "colab": {
          "base_uri": "https://localhost:8080/"
        },
        "id": "7rHylEoqdJoe",
        "outputId": "3fee7196-0611-46cb-f772-892fcce8d20d"
      },
      "outputs": [
        {
          "data": {
            "text/plain": [
              "100"
            ]
          },
          "execution_count": 16,
          "metadata": {
            "tags": []
          },
          "output_type": "execute_result"
        }
      ],
      "source": [
        "x"
      ]
    },
    {
      "cell_type": "code",
      "execution_count": null,
      "metadata": {
        "colab": {
          "base_uri": "https://localhost:8080/",
          "height": 35
        },
        "id": "5V3XqbRudPbB",
        "outputId": "db2aec91-c309-487a-c22c-021614a1aba2"
      },
      "outputs": [
        {
          "data": {
            "application/vnd.google.colaboratory.intrinsic+json": {
              "type": "string"
            },
            "text/plain": [
              "'bisa ai'"
            ]
          },
          "execution_count": 17,
          "metadata": {
            "tags": []
          },
          "output_type": "execute_result"
        }
      ],
      "source": [
        "y = \"bisa ai\"\n",
        "y"
      ]
    },
    {
      "cell_type": "code",
      "execution_count": null,
      "metadata": {
        "id": "fxduhqVIdY0g"
      },
      "outputs": [],
      "source": [
        "kalimat = \"Aku hari ini mengikuti mini bootcamp data science\""
      ]
    },
    {
      "cell_type": "code",
      "execution_count": null,
      "metadata": {
        "colab": {
          "base_uri": "https://localhost:8080/",
          "height": 35
        },
        "id": "CYbfG57mden5",
        "outputId": "d128ca20-8966-4899-fbd0-3c89a8f55b71"
      },
      "outputs": [
        {
          "data": {
            "application/vnd.google.colaboratory.intrinsic+json": {
              "type": "string"
            },
            "text/plain": [
              "'Aku hari ini mengikuti mini bootcamp data science'"
            ]
          },
          "execution_count": 19,
          "metadata": {
            "tags": []
          },
          "output_type": "execute_result"
        }
      ],
      "source": [
        "kalimat"
      ]
    },
    {
      "cell_type": "code",
      "execution_count": null,
      "metadata": {
        "colab": {
          "base_uri": "https://localhost:8080/",
          "height": 53
        },
        "id": "vQblN1E6djUn",
        "outputId": "484081ab-0ebf-43e9-c9fe-a1d22732369d"
      },
      "outputs": [
        {
          "name": "stdout",
          "output_type": "stream",
          "text": [
            "Siapa nama kamu? Fahmi\n"
          ]
        },
        {
          "data": {
            "application/vnd.google.colaboratory.intrinsic+json": {
              "type": "string"
            },
            "text/plain": [
              "'Fahmi'"
            ]
          },
          "execution_count": 20,
          "metadata": {
            "tags": []
          },
          "output_type": "execute_result"
        }
      ],
      "source": [
        "#belajar input\n",
        "input(\"Siapa nama kamu? \")"
      ]
    },
    {
      "cell_type": "code",
      "execution_count": null,
      "metadata": {
        "colab": {
          "base_uri": "https://localhost:8080/"
        },
        "id": "yPQg9Dibd7kq",
        "outputId": "b6c8851c-287b-4e27-9a15-dae80df714e7"
      },
      "outputs": [
        {
          "name": "stdout",
          "output_type": "stream",
          "text": [
            "Siapa nama kamu?Agus\n"
          ]
        }
      ],
      "source": [
        "nama = input(\"Siapa nama kamu?\" )"
      ]
    },
    {
      "cell_type": "code",
      "execution_count": null,
      "metadata": {
        "colab": {
          "base_uri": "https://localhost:8080/",
          "height": 35
        },
        "id": "4zEFsR-ieMCU",
        "outputId": "29000aeb-385f-4790-d8f5-3240c106dfd7"
      },
      "outputs": [
        {
          "data": {
            "application/vnd.google.colaboratory.intrinsic+json": {
              "type": "string"
            },
            "text/plain": [
              "'Agus'"
            ]
          },
          "execution_count": 22,
          "metadata": {
            "tags": []
          },
          "output_type": "execute_result"
        }
      ],
      "source": [
        "nama"
      ]
    },
    {
      "cell_type": "code",
      "execution_count": null,
      "metadata": {
        "colab": {
          "base_uri": "https://localhost:8080/"
        },
        "id": "xo7uhDxPeQXX",
        "outputId": "f90389fc-0bc4-40b2-8a49-f97c09937e57"
      },
      "outputs": [
        {
          "name": "stdout",
          "output_type": "stream",
          "text": [
            "Halo Agus\n"
          ]
        }
      ],
      "source": [
        "print('Halo ' + nama)"
      ]
    },
    {
      "cell_type": "code",
      "execution_count": null,
      "metadata": {
        "colab": {
          "base_uri": "https://localhost:8080/"
        },
        "id": "tBK-AIDmeht2",
        "outputId": "59514d78-c1de-49b6-cd0a-bc9b5dd0374a"
      },
      "outputs": [
        {
          "name": "stdout",
          "output_type": "stream",
          "text": [
            "Masukkan sebuah angka: 100\n"
          ]
        },
        {
          "data": {
            "text/plain": [
              "100"
            ]
          },
          "execution_count": 26,
          "metadata": {
            "tags": []
          },
          "output_type": "execute_result"
        }
      ],
      "source": [
        "angka = int(input(\"Masukkan sebuah angka: \"))\n",
        "angka"
      ]
    },
    {
      "cell_type": "code",
      "execution_count": null,
      "metadata": {
        "id": "B0VdS9ECfFI5"
      },
      "outputs": [],
      "source": [
        "tambah = angka + 10"
      ]
    },
    {
      "cell_type": "code",
      "execution_count": null,
      "metadata": {
        "colab": {
          "base_uri": "https://localhost:8080/"
        },
        "id": "_d7xxt0ffPF6",
        "outputId": "a8f3f74c-de3e-4cca-fffb-4b4a3750b36e"
      },
      "outputs": [
        {
          "data": {
            "text/plain": [
              "110"
            ]
          },
          "execution_count": 28,
          "metadata": {
            "tags": []
          },
          "output_type": "execute_result"
        }
      ],
      "source": [
        "tambah"
      ]
    },
    {
      "cell_type": "code",
      "execution_count": null,
      "metadata": {
        "colab": {
          "base_uri": "https://localhost:8080/"
        },
        "id": "TXrWkgd2fTqB",
        "outputId": "d1f20acd-2c4e-4329-b85f-4cf60543fd0c"
      },
      "outputs": [
        {
          "name": "stdout",
          "output_type": "stream",
          "text": [
            "Masukkan angka pertama: 5\n",
            "Masukkan angka kedua : 10\n"
          ]
        }
      ],
      "source": [
        "a = int(input(\"Masukkan angka pertama: \"))\n",
        "b = int(input(\"Masukkan angka kedua : \"))\n",
        "c = a + b"
      ]
    },
    {
      "cell_type": "code",
      "execution_count": null,
      "metadata": {
        "colab": {
          "base_uri": "https://localhost:8080/"
        },
        "id": "b7ZfuHDzfnEU",
        "outputId": "0b329c7e-787b-48f7-ec2f-3c37e0acece5"
      },
      "outputs": [
        {
          "data": {
            "text/plain": [
              "15"
            ]
          },
          "execution_count": 30,
          "metadata": {
            "tags": []
          },
          "output_type": "execute_result"
        }
      ],
      "source": [
        "c"
      ]
    },
    {
      "cell_type": "code",
      "execution_count": null,
      "metadata": {
        "colab": {
          "base_uri": "https://localhost:8080/"
        },
        "id": "I_GbH9-jfukQ",
        "outputId": "c0286b0d-231b-4332-846d-0d54bbfd0b59"
      },
      "outputs": [
        {
          "name": "stdout",
          "output_type": "stream",
          "text": [
            "Latihan\n",
            "Siapa nama kamu? Aditya\n",
            "Berapa umur kamu? 21\n",
            "Nama saya Aditya\n",
            "Umur saya 21\n"
          ]
        }
      ],
      "source": [
        "print(\"Latihan\")\n",
        "\n",
        "nama = input(\"Siapa nama kamu? \")\n",
        "umur = input(\"Berapa umur kamu? \")\n",
        "\n",
        "print(\"Nama saya \" + nama)\n",
        "print(\"Umur saya \" + umur)"
      ]
    },
    {
      "cell_type": "code",
      "execution_count": null,
      "metadata": {
        "id": "E-yftZzvgJj2"
      },
      "outputs": [],
      "source": [
        "#belajar membuat sebuah fungsi\n",
        "\n",
        "def halo():\n",
        "  print(\"Ini berasal dari fungsi halo\")"
      ]
    },
    {
      "cell_type": "code",
      "execution_count": null,
      "metadata": {
        "colab": {
          "base_uri": "https://localhost:8080/"
        },
        "id": "isiDc1NagVaD",
        "outputId": "f0d66b96-5fa2-4929-94ff-b966f1a348ab"
      },
      "outputs": [
        {
          "name": "stdout",
          "output_type": "stream",
          "text": [
            "Ini berasal dari fungsi halo\n"
          ]
        }
      ],
      "source": [
        "halo()"
      ]
    },
    {
      "cell_type": "code",
      "execution_count": null,
      "metadata": {
        "id": "9csZvrLUgcY3"
      },
      "outputs": [],
      "source": [
        "#belajar fungsi dengan parameter\n",
        "\n",
        "def hai(nama):\n",
        "  print(\"Assalamualaikum, Halo {}\".format(nama))"
      ]
    },
    {
      "cell_type": "code",
      "execution_count": null,
      "metadata": {
        "colab": {
          "base_uri": "https://localhost:8080/"
        },
        "id": "QvJwkB8Agw-k",
        "outputId": "4ec5d90c-4cf3-40ff-bd3a-a0c952c53ad7"
      },
      "outputs": [
        {
          "name": "stdout",
          "output_type": "stream",
          "text": [
            "Assalamualaikum, Halo Media\n",
            "Assalamualaikum, Halo Dzihan\n"
          ]
        }
      ],
      "source": [
        "hai('Media')\n",
        "hai('Dzihan')"
      ]
    },
    {
      "cell_type": "code",
      "execution_count": null,
      "metadata": {
        "id": "Conzo3Mbg90Z"
      },
      "outputs": [],
      "source": [
        "def biodata(nama, asal, umur):\n",
        "  print(\"{} {} {}\".format(nama,asal,umur))"
      ]
    },
    {
      "cell_type": "code",
      "execution_count": null,
      "metadata": {
        "colab": {
          "base_uri": "https://localhost:8080/"
        },
        "id": "dym2SUiNhN_L",
        "outputId": "543a952c-849a-44c2-bb7d-317846c718cf"
      },
      "outputs": [
        {
          "name": "stdout",
          "output_type": "stream",
          "text": [
            "Ruslan Bekasi 20\n",
            "Tafia Bandung 21\n"
          ]
        }
      ],
      "source": [
        "biodata('Ruslan', 'Bekasi', 20)\n",
        "biodata('Tafia', 'Bandung', 21)"
      ]
    },
    {
      "cell_type": "code",
      "execution_count": null,
      "metadata": {
        "colab": {
          "base_uri": "https://localhost:8080/"
        },
        "id": "Xwf0BKi6hdhc",
        "outputId": "a4d123bf-5af3-41cd-dd49-6a8fb8db62e3"
      },
      "outputs": [
        {
          "name": "stdout",
          "output_type": "stream",
          "text": [
            "Menu Operasi:\n",
            " 1.Penjumlahan \n",
            " 2.Pengurangan \n",
            " 3.Perkalian \n",
            " 4.Pembagian\n",
            "Silahkan masukkan operasi apa yang kamu mau (dalam angka) 3\n",
            "Masukkan angka pertama: 10\n",
            "Masukkan angka kedua: 3\n",
            "30\n"
          ]
        }
      ],
      "source": [
        "def tambah(x, y):\n",
        "  return x + y\n",
        "\n",
        "def kurang(x, y):\n",
        "  return x - y\n",
        "\n",
        "def kali(x, y):\n",
        "  return x * y\n",
        "\n",
        "def bagi(x, y):\n",
        "  return x / y\n",
        "\n",
        "print(\"Menu Operasi:\\n 1.Penjumlahan \\n 2.Pengurangan \\n 3.Perkalian \\n 4.Pembagian\")\n",
        "\n",
        "operasi = int(input(\"Silahkan masukkan operasi apa yang kamu mau (dalam angka) \"))\n",
        "x = int(input('Masukkan angka pertama: '))\n",
        "y = int(input('Masukkan angka kedua: '))\n",
        "\n",
        "if operasi == 1:\n",
        "  print(tambah(x, y))\n",
        "elif operasi == 2:\n",
        "  print(kurang(x, y))\n",
        "elif operasi == 3:\n",
        "  print(kali(x, y))\n",
        "elif operasi == 4:\n",
        "  print(bagi(x, y))"
      ]
    },
    {
      "cell_type": "code",
      "execution_count": null,
      "metadata": {
        "colab": {
          "base_uri": "https://localhost:8080/"
        },
        "id": "g6Gw3DIsjfel",
        "outputId": "74288055-210c-4c32-d8b1-4ad756a80726"
      },
      "outputs": [
        {
          "name": "stdout",
          "output_type": "stream",
          "text": [
            "1\n"
          ]
        }
      ],
      "source": [
        "print(1)"
      ]
    },
    {
      "cell_type": "markdown",
      "metadata": {
        "id": "ngJO6qvoX-aX"
      },
      "source": []
    },
    {
      "cell_type": "markdown",
      "metadata": {
        "id": "mFhbHwRaXsXm"
      },
      "source": [
        "# Day 2 - Scraping Data Twitter"
      ]
    },
    {
      "cell_type": "markdown",
      "metadata": {
        "id": "vOBfcq3UUN4C"
      },
      "source": [
        "## Apa itu scraping data ?"
      ]
    },
    {
      "cell_type": "markdown",
      "metadata": {
        "id": "SYzZa_EOUQ0s"
      },
      "source": [
        "Web scraping adalah proses ekstrasi data dari sebuah website. Salah satu contohnya adalah meng-copy daftar contact dari sebuah direktori web. Memang Anda bisa saja melakukan ini secara manual dengann meng-copy paste data ke excel, misalnya.\n",
        "\n",
        "Tetapi bagaimana kalau datanya banyak? Untuk ini, Anda membutuhkan automation yang bisa membantu proses web scraping Anda lebih cepat dan mudah.\n",
        "\n",
        "Secara umum, ada dua cara yang bisa Anda gunakan untuk melakukannya:\n",
        "\n",
        "1. Manual — metode di mana Anda menyalin data dengan cara copy paste dari sebuah website\n",
        "2. Otomatis — metode yang menggunakan koding, aplikasi, atau extension browser."
      ]
    },
    {
      "cell_type": "markdown",
      "metadata": {
        "id": "i2dzFKluUUK2"
      },
      "source": [
        "## Scraping data melalui Python ?"
      ]
    },
    {
      "cell_type": "markdown",
      "metadata": {
        "id": "GcAm2wYXUVv3"
      },
      "source": [
        "1. Selenium\n",
        "2. Library\n",
        "3. dll"
      ]
    },
    {
      "cell_type": "markdown",
      "metadata": {
        "id": "m7Bdq21VctIt"
      },
      "source": [
        "## Membuat Dataset Twitter"
      ]
    },
    {
      "cell_type": "code",
      "execution_count": 2,
      "metadata": {
        "colab": {
          "base_uri": "https://localhost:8080/"
        },
        "id": "2bbeUaRqYq5D",
        "outputId": "0764aab4-d3b4-46b7-d965-1bf9eddba596"
      },
      "outputs": [],
      "source": [
        "import pandas as pd\n",
        "\n",
        "# !pip install snscrape\n",
        "import snscrape.modules.twitter as sntwitter\n",
        "import itertools\n",
        "\n",
        "import numpy as np\n",
        "import csv"
      ]
    },
    {
      "cell_type": "code",
      "execution_count": 1,
      "metadata": {
        "id": "5VJ-WIIQZ4ZL"
      },
      "outputs": [
        {
          "ename": "NameError",
          "evalue": "name 'pd' is not defined",
          "output_type": "error",
          "traceback": [
            "\u001b[1;31m---------------------------------------------------------------------------\u001b[0m",
            "\u001b[1;31mNameError\u001b[0m                                 Traceback (most recent call last)",
            "\u001b[1;32me:\\Porto Data\\Sentiment Analysis\\minibootcamp.ipynb Cell 44'\u001b[0m in \u001b[0;36m<cell line: 2>\u001b[1;34m()\u001b[0m\n\u001b[0;32m      <a href='vscode-notebook-cell:/e%3A/Porto%20Data/Sentiment%20Analysis/minibootcamp.ipynb#ch0000043?line=0'>1</a>\u001b[0m \u001b[39m#scraping data dengan keyword vaksin\u001b[39;00m\n\u001b[1;32m----> <a href='vscode-notebook-cell:/e%3A/Porto%20Data/Sentiment%20Analysis/minibootcamp.ipynb#ch0000043?line=1'>2</a>\u001b[0m df \u001b[39m=\u001b[39m pd\u001b[39m.\u001b[39mDataFrame(itertools\u001b[39m.\u001b[39mislice(sntwitter\u001b[39m.\u001b[39mTwitterSearchScraper(\n\u001b[0;32m      <a href='vscode-notebook-cell:/e%3A/Porto%20Data/Sentiment%20Analysis/minibootcamp.ipynb#ch0000043?line=2'>3</a>\u001b[0m     \u001b[39m'\u001b[39m\u001b[39mcryptocurrency\u001b[39m\u001b[39m'\u001b[39m)\u001b[39m.\u001b[39mget_items(), \u001b[39m100\u001b[39m))[[\u001b[39m'\u001b[39m\u001b[39muser\u001b[39m\u001b[39m'\u001b[39m, \u001b[39m'\u001b[39m\u001b[39mdate\u001b[39m\u001b[39m'\u001b[39m, \u001b[39m'\u001b[39m\u001b[39mcontent\u001b[39m\u001b[39m'\u001b[39m]]\n",
            "\u001b[1;31mNameError\u001b[0m: name 'pd' is not defined"
          ]
        }
      ],
      "source": [
        "#scraping data dengan keyword vaksin\n",
        "df = pd.DataFrame(itertools.islice(sntwitter.TwitterSearchScraper(\n",
        "    'cryptocurrency').get_items(), 100))[['user', 'date', 'content']]"
      ]
    },
    {
      "cell_type": "code",
      "execution_count": 54,
      "metadata": {},
      "outputs": [
        {
          "data": {
            "text/html": [
              "<div>\n",
              "<style scoped>\n",
              "    .dataframe tbody tr th:only-of-type {\n",
              "        vertical-align: middle;\n",
              "    }\n",
              "\n",
              "    .dataframe tbody tr th {\n",
              "        vertical-align: top;\n",
              "    }\n",
              "\n",
              "    .dataframe thead th {\n",
              "        text-align: right;\n",
              "    }\n",
              "</style>\n",
              "<table border=\"1\" class=\"dataframe\">\n",
              "  <thead>\n",
              "    <tr style=\"text-align: right;\">\n",
              "      <th></th>\n",
              "      <th>user</th>\n",
              "      <th>date</th>\n",
              "      <th>content</th>\n",
              "    </tr>\n",
              "  </thead>\n",
              "  <tbody>\n",
              "    <tr>\n",
              "      <th>0</th>\n",
              "      <td>{'username': 'RobbyPanggabea1', 'id': 13868336...</td>\n",
              "      <td>2022-07-01 10:01:48+00:00</td>\n",
              "      <td>@unduk @H4N33T_ Kadrun udah vaksin blm?</td>\n",
              "    </tr>\n",
              "    <tr>\n",
              "      <th>1</th>\n",
              "      <td>{'username': 'FitzRey12', 'id': 14218836934051...</td>\n",
              "      <td>2022-07-01 10:01:21+00:00</td>\n",
              "      <td>@imswaggu Yes</td>\n",
              "    </tr>\n",
              "    <tr>\n",
              "      <th>2</th>\n",
              "      <td>{'username': 'polribelitung1', 'id': 125716165...</td>\n",
              "      <td>2022-07-01 10:00:36+00:00</td>\n",
              "      <td>Sinovac\\n•Pfizer\\n•Astrazeneca\\n\\n•Vaksin 1 da...</td>\n",
              "    </tr>\n",
              "    <tr>\n",
              "      <th>3</th>\n",
              "      <td>{'username': 'polribelitung1', 'id': 125716165...</td>\n",
              "      <td>2022-07-01 10:00:35+00:00</td>\n",
              "      <td>Yuk… Kita Vaksin\\n\\nJadwal Vaksinasi Covid 19\\...</td>\n",
              "    </tr>\n",
              "    <tr>\n",
              "      <th>4</th>\n",
              "      <td>{'username': 'cakradara20', 'id': 600631500, '...</td>\n",
              "      <td>2022-07-01 09:59:55+00:00</td>\n",
              "      <td>@us_aya6 @_1507chan buat teman-teman di lokasi...</td>\n",
              "    </tr>\n",
              "  </tbody>\n",
              "</table>\n",
              "</div>"
            ],
            "text/plain": [
              "                                                user  \\\n",
              "0  {'username': 'RobbyPanggabea1', 'id': 13868336...   \n",
              "1  {'username': 'FitzRey12', 'id': 14218836934051...   \n",
              "2  {'username': 'polribelitung1', 'id': 125716165...   \n",
              "3  {'username': 'polribelitung1', 'id': 125716165...   \n",
              "4  {'username': 'cakradara20', 'id': 600631500, '...   \n",
              "\n",
              "                       date                                            content  \n",
              "0 2022-07-01 10:01:48+00:00            @unduk @H4N33T_ Kadrun udah vaksin blm?  \n",
              "1 2022-07-01 10:01:21+00:00                                      @imswaggu Yes  \n",
              "2 2022-07-01 10:00:36+00:00  Sinovac\\n•Pfizer\\n•Astrazeneca\\n\\n•Vaksin 1 da...  \n",
              "3 2022-07-01 10:00:35+00:00  Yuk… Kita Vaksin\\n\\nJadwal Vaksinasi Covid 19\\...  \n",
              "4 2022-07-01 09:59:55+00:00  @us_aya6 @_1507chan buat teman-teman di lokasi...  "
            ]
          },
          "execution_count": 54,
          "metadata": {},
          "output_type": "execute_result"
        }
      ],
      "source": [
        "df.head()"
      ]
    },
    {
      "cell_type": "code",
      "execution_count": 65,
      "metadata": {
        "colab": {
          "base_uri": "https://localhost:8080/",
          "height": 206
        },
        "id": "PfHWvDGQbA_o",
        "outputId": "2d2f5f9d-2011-44fb-a0bc-d356846c3bf9"
      },
      "outputs": [
        {
          "ename": "KeyError",
          "evalue": "'username'",
          "output_type": "error",
          "traceback": [
            "\u001b[1;31m---------------------------------------------------------------------------\u001b[0m",
            "\u001b[1;31mKeyError\u001b[0m                                  Traceback (most recent call last)",
            "File \u001b[1;32me:\\Porto Data\\Sentiment Analysis\\env\\lib\\site-packages\\pandas\\core\\indexes\\base.py:3621\u001b[0m, in \u001b[0;36mIndex.get_loc\u001b[1;34m(self, key, method, tolerance)\u001b[0m\n\u001b[0;32m   3620\u001b[0m \u001b[39mtry\u001b[39;00m:\n\u001b[1;32m-> 3621\u001b[0m     \u001b[39mreturn\u001b[39;00m \u001b[39mself\u001b[39;49m\u001b[39m.\u001b[39;49m_engine\u001b[39m.\u001b[39;49mget_loc(casted_key)\n\u001b[0;32m   3622\u001b[0m \u001b[39mexcept\u001b[39;00m \u001b[39mKeyError\u001b[39;00m \u001b[39mas\u001b[39;00m err:\n",
            "File \u001b[1;32me:\\Porto Data\\Sentiment Analysis\\env\\lib\\site-packages\\pandas\\_libs\\index.pyx:136\u001b[0m, in \u001b[0;36mpandas._libs.index.IndexEngine.get_loc\u001b[1;34m()\u001b[0m\n",
            "File \u001b[1;32me:\\Porto Data\\Sentiment Analysis\\env\\lib\\site-packages\\pandas\\_libs\\index.pyx:163\u001b[0m, in \u001b[0;36mpandas._libs.index.IndexEngine.get_loc\u001b[1;34m()\u001b[0m\n",
            "File \u001b[1;32mpandas\\_libs\\hashtable_class_helper.pxi:5198\u001b[0m, in \u001b[0;36mpandas._libs.hashtable.PyObjectHashTable.get_item\u001b[1;34m()\u001b[0m\n",
            "File \u001b[1;32mpandas\\_libs\\hashtable_class_helper.pxi:5206\u001b[0m, in \u001b[0;36mpandas._libs.hashtable.PyObjectHashTable.get_item\u001b[1;34m()\u001b[0m\n",
            "\u001b[1;31mKeyError\u001b[0m: 'username'",
            "\nThe above exception was the direct cause of the following exception:\n",
            "\u001b[1;31mKeyError\u001b[0m                                  Traceback (most recent call last)",
            "\u001b[1;32me:\\Porto Data\\Sentiment Analysis\\minibootcamp.ipynb Cell 46'\u001b[0m in \u001b[0;36m<cell line: 2>\u001b[1;34m()\u001b[0m\n\u001b[0;32m      <a href='vscode-notebook-cell:/e%3A/Porto%20Data/Sentiment%20Analysis/minibootcamp.ipynb#ch0000044?line=0'>1</a>\u001b[0m df_user \u001b[39m=\u001b[39m pd\u001b[39m.\u001b[39mDataFrame(df[\u001b[39m'\u001b[39m\u001b[39muser\u001b[39m\u001b[39m'\u001b[39m]\u001b[39m.\u001b[39mT)\n\u001b[1;32m----> <a href='vscode-notebook-cell:/e%3A/Porto%20Data/Sentiment%20Analysis/minibootcamp.ipynb#ch0000044?line=1'>2</a>\u001b[0m user \u001b[39m=\u001b[39m df_user[\u001b[39m'\u001b[39;49m\u001b[39musername\u001b[39;49m\u001b[39m'\u001b[39;49m]\n\u001b[0;32m      <a href='vscode-notebook-cell:/e%3A/Porto%20Data/Sentiment%20Analysis/minibootcamp.ipynb#ch0000044?line=2'>3</a>\u001b[0m \u001b[39mprint\u001b[39m(user)\n",
            "File \u001b[1;32me:\\Porto Data\\Sentiment Analysis\\env\\lib\\site-packages\\pandas\\core\\frame.py:3505\u001b[0m, in \u001b[0;36mDataFrame.__getitem__\u001b[1;34m(self, key)\u001b[0m\n\u001b[0;32m   3503\u001b[0m \u001b[39mif\u001b[39;00m \u001b[39mself\u001b[39m\u001b[39m.\u001b[39mcolumns\u001b[39m.\u001b[39mnlevels \u001b[39m>\u001b[39m \u001b[39m1\u001b[39m:\n\u001b[0;32m   3504\u001b[0m     \u001b[39mreturn\u001b[39;00m \u001b[39mself\u001b[39m\u001b[39m.\u001b[39m_getitem_multilevel(key)\n\u001b[1;32m-> 3505\u001b[0m indexer \u001b[39m=\u001b[39m \u001b[39mself\u001b[39;49m\u001b[39m.\u001b[39;49mcolumns\u001b[39m.\u001b[39;49mget_loc(key)\n\u001b[0;32m   3506\u001b[0m \u001b[39mif\u001b[39;00m is_integer(indexer):\n\u001b[0;32m   3507\u001b[0m     indexer \u001b[39m=\u001b[39m [indexer]\n",
            "File \u001b[1;32me:\\Porto Data\\Sentiment Analysis\\env\\lib\\site-packages\\pandas\\core\\indexes\\base.py:3623\u001b[0m, in \u001b[0;36mIndex.get_loc\u001b[1;34m(self, key, method, tolerance)\u001b[0m\n\u001b[0;32m   3621\u001b[0m     \u001b[39mreturn\u001b[39;00m \u001b[39mself\u001b[39m\u001b[39m.\u001b[39m_engine\u001b[39m.\u001b[39mget_loc(casted_key)\n\u001b[0;32m   3622\u001b[0m \u001b[39mexcept\u001b[39;00m \u001b[39mKeyError\u001b[39;00m \u001b[39mas\u001b[39;00m err:\n\u001b[1;32m-> 3623\u001b[0m     \u001b[39mraise\u001b[39;00m \u001b[39mKeyError\u001b[39;00m(key) \u001b[39mfrom\u001b[39;00m \u001b[39merr\u001b[39;00m\n\u001b[0;32m   3624\u001b[0m \u001b[39mexcept\u001b[39;00m \u001b[39mTypeError\u001b[39;00m:\n\u001b[0;32m   3625\u001b[0m     \u001b[39m# If we have a listlike key, _check_indexing_error will raise\u001b[39;00m\n\u001b[0;32m   3626\u001b[0m     \u001b[39m#  InvalidIndexError. Otherwise we fall through and re-raise\u001b[39;00m\n\u001b[0;32m   3627\u001b[0m     \u001b[39m#  the TypeError.\u001b[39;00m\n\u001b[0;32m   3628\u001b[0m     \u001b[39mself\u001b[39m\u001b[39m.\u001b[39m_check_indexing_error(key)\n",
            "\u001b[1;31mKeyError\u001b[0m: 'username'"
          ]
        }
      ],
      "source": [
        "df_user = pd.DataFrame(df['user'].T)\n",
        "# user = df_user['username']\n",
        "# print(user)"
      ]
    },
    {
      "cell_type": "code",
      "execution_count": 4,
      "metadata": {
        "colab": {
          "base_uri": "https://localhost:8080/",
          "height": 423
        },
        "id": "g3ELN3B8bfHT",
        "outputId": "de04098d-9434-4706-bdb6-1dce59a2492f"
      },
      "outputs": [
        {
          "data": {
            "text/html": [
              "<div>\n",
              "<style scoped>\n",
              "    .dataframe tbody tr th:only-of-type {\n",
              "        vertical-align: middle;\n",
              "    }\n",
              "\n",
              "    .dataframe tbody tr th {\n",
              "        vertical-align: top;\n",
              "    }\n",
              "\n",
              "    .dataframe thead th {\n",
              "        text-align: right;\n",
              "    }\n",
              "</style>\n",
              "<table border=\"1\" class=\"dataframe\">\n",
              "  <thead>\n",
              "    <tr style=\"text-align: right;\">\n",
              "      <th></th>\n",
              "      <th>user</th>\n",
              "      <th>date</th>\n",
              "      <th>content</th>\n",
              "    </tr>\n",
              "  </thead>\n",
              "  <tbody>\n",
              "    <tr>\n",
              "      <th>0</th>\n",
              "      <td>{'username': 'lemarikayu163', 'id': 1366978789...</td>\n",
              "      <td>2022-07-01 09:52:19+00:00</td>\n",
              "      <td>@BangPitung_AJW @DokterTifa lah , ibu saya 74 ...</td>\n",
              "    </tr>\n",
              "    <tr>\n",
              "      <th>1</th>\n",
              "      <td>{'username': 'PDI_Perjuangan', 'id': 153407983...</td>\n",
              "      <td>2022-07-01 09:50:54+00:00</td>\n",
              "      <td>Oleh karena itu, Dewan Perwakilan Rakyat (DPRD...</td>\n",
              "    </tr>\n",
              "    <tr>\n",
              "      <th>2</th>\n",
              "      <td>{'username': 'cakradara20', 'id': 600631500, '...</td>\n",
              "      <td>2022-07-01 09:50:41+00:00</td>\n",
              "      <td>@_1507chan itu si pelaku menerobos barikade, s...</td>\n",
              "    </tr>\n",
              "    <tr>\n",
              "      <th>3</th>\n",
              "      <td>{'username': 'GATRA_com', 'id': 202559038, 'di...</td>\n",
              "      <td>2022-07-01 09:50:01+00:00</td>\n",
              "      <td>Bupati Karanganyar: Penolakan Vaksin PMK Sapi ...</td>\n",
              "    </tr>\n",
              "    <tr>\n",
              "      <th>4</th>\n",
              "      <td>{'username': 'lemarikayu163', 'id': 1366978789...</td>\n",
              "      <td>2022-07-01 09:49:51+00:00</td>\n",
              "      <td>vaksin oh vaksin https://t.co/G2D1km3Vux</td>\n",
              "    </tr>\n",
              "    <tr>\n",
              "      <th>...</th>\n",
              "      <td>...</td>\n",
              "      <td>...</td>\n",
              "      <td>...</td>\n",
              "    </tr>\n",
              "    <tr>\n",
              "      <th>95</th>\n",
              "      <td>{'username': 'ncbell_', 'id': 3159308112, 'dis...</td>\n",
              "      <td>2022-07-01 08:55:24+00:00</td>\n",
              "      <td>@n_axie Ada vaksin ke utk influenza</td>\n",
              "    </tr>\n",
              "    <tr>\n",
              "      <th>96</th>\n",
              "      <td>{'username': 'Prianto27', 'id': 545212274, 'di...</td>\n",
              "      <td>2022-07-01 08:54:13+00:00</td>\n",
              "      <td>@StopPlandemit Ini baru bangun apa gimna ini? ...</td>\n",
              "    </tr>\n",
              "    <tr>\n",
              "      <th>97</th>\n",
              "      <td>{'username': 'Jeza74422125', 'id': 12920083250...</td>\n",
              "      <td>2022-07-01 08:53:41+00:00</td>\n",
              "      <td>@Lisaamartatara4 @DokterTifa @PBIDI @DrEvaChan...</td>\n",
              "    </tr>\n",
              "    <tr>\n",
              "      <th>98</th>\n",
              "      <td>{'username': 'Rekgladi', 'id': 149610694923008...</td>\n",
              "      <td>2022-07-01 08:52:19+00:00</td>\n",
              "      <td>@MprAldo Beh pencerahan nya dong gimana cara m...</td>\n",
              "    </tr>\n",
              "    <tr>\n",
              "      <th>99</th>\n",
              "      <td>{'username': 'bonie0959', 'id': 2246719333, 'd...</td>\n",
              "      <td>2022-07-01 08:51:04+00:00</td>\n",
              "      <td>@KemenkesRI , banyak berita berseliweran menge...</td>\n",
              "    </tr>\n",
              "  </tbody>\n",
              "</table>\n",
              "<p>100 rows × 3 columns</p>\n",
              "</div>"
            ],
            "text/plain": [
              "                                                 user  \\\n",
              "0   {'username': 'lemarikayu163', 'id': 1366978789...   \n",
              "1   {'username': 'PDI_Perjuangan', 'id': 153407983...   \n",
              "2   {'username': 'cakradara20', 'id': 600631500, '...   \n",
              "3   {'username': 'GATRA_com', 'id': 202559038, 'di...   \n",
              "4   {'username': 'lemarikayu163', 'id': 1366978789...   \n",
              "..                                                ...   \n",
              "95  {'username': 'ncbell_', 'id': 3159308112, 'dis...   \n",
              "96  {'username': 'Prianto27', 'id': 545212274, 'di...   \n",
              "97  {'username': 'Jeza74422125', 'id': 12920083250...   \n",
              "98  {'username': 'Rekgladi', 'id': 149610694923008...   \n",
              "99  {'username': 'bonie0959', 'id': 2246719333, 'd...   \n",
              "\n",
              "                        date  \\\n",
              "0  2022-07-01 09:52:19+00:00   \n",
              "1  2022-07-01 09:50:54+00:00   \n",
              "2  2022-07-01 09:50:41+00:00   \n",
              "3  2022-07-01 09:50:01+00:00   \n",
              "4  2022-07-01 09:49:51+00:00   \n",
              "..                       ...   \n",
              "95 2022-07-01 08:55:24+00:00   \n",
              "96 2022-07-01 08:54:13+00:00   \n",
              "97 2022-07-01 08:53:41+00:00   \n",
              "98 2022-07-01 08:52:19+00:00   \n",
              "99 2022-07-01 08:51:04+00:00   \n",
              "\n",
              "                                              content  \n",
              "0   @BangPitung_AJW @DokterTifa lah , ibu saya 74 ...  \n",
              "1   Oleh karena itu, Dewan Perwakilan Rakyat (DPRD...  \n",
              "2   @_1507chan itu si pelaku menerobos barikade, s...  \n",
              "3   Bupati Karanganyar: Penolakan Vaksin PMK Sapi ...  \n",
              "4            vaksin oh vaksin https://t.co/G2D1km3Vux  \n",
              "..                                                ...  \n",
              "95                @n_axie Ada vaksin ke utk influenza  \n",
              "96  @StopPlandemit Ini baru bangun apa gimna ini? ...  \n",
              "97  @Lisaamartatara4 @DokterTifa @PBIDI @DrEvaChan...  \n",
              "98  @MprAldo Beh pencerahan nya dong gimana cara m...  \n",
              "99  @KemenkesRI , banyak berita berseliweran menge...  \n",
              "\n",
              "[100 rows x 3 columns]"
            ]
          },
          "execution_count": 4,
          "metadata": {},
          "output_type": "execute_result"
        }
      ],
      "source": [
        "df"
      ]
    },
    {
      "cell_type": "markdown",
      "metadata": {
        "id": "xcOQTnSAc7dA"
      },
      "source": [
        "## Exploratory Data Analysis (EDA)"
      ]
    },
    {
      "cell_type": "code",
      "execution_count": 5,
      "metadata": {
        "colab": {
          "base_uri": "https://localhost:8080/",
          "height": 206
        },
        "id": "t7glhia2dCHn",
        "outputId": "8586c740-984f-467a-b6d7-723a02b39b67"
      },
      "outputs": [
        {
          "data": {
            "text/html": [
              "<div>\n",
              "<style scoped>\n",
              "    .dataframe tbody tr th:only-of-type {\n",
              "        vertical-align: middle;\n",
              "    }\n",
              "\n",
              "    .dataframe tbody tr th {\n",
              "        vertical-align: top;\n",
              "    }\n",
              "\n",
              "    .dataframe thead th {\n",
              "        text-align: right;\n",
              "    }\n",
              "</style>\n",
              "<table border=\"1\" class=\"dataframe\">\n",
              "  <thead>\n",
              "    <tr style=\"text-align: right;\">\n",
              "      <th></th>\n",
              "      <th>user</th>\n",
              "      <th>date</th>\n",
              "      <th>content</th>\n",
              "    </tr>\n",
              "  </thead>\n",
              "  <tbody>\n",
              "    <tr>\n",
              "      <th>0</th>\n",
              "      <td>{'username': 'lemarikayu163', 'id': 1366978789...</td>\n",
              "      <td>2022-07-01 09:52:19+00:00</td>\n",
              "      <td>@BangPitung_AJW @DokterTifa lah , ibu saya 74 ...</td>\n",
              "    </tr>\n",
              "    <tr>\n",
              "      <th>1</th>\n",
              "      <td>{'username': 'PDI_Perjuangan', 'id': 153407983...</td>\n",
              "      <td>2022-07-01 09:50:54+00:00</td>\n",
              "      <td>Oleh karena itu, Dewan Perwakilan Rakyat (DPRD...</td>\n",
              "    </tr>\n",
              "    <tr>\n",
              "      <th>2</th>\n",
              "      <td>{'username': 'cakradara20', 'id': 600631500, '...</td>\n",
              "      <td>2022-07-01 09:50:41+00:00</td>\n",
              "      <td>@_1507chan itu si pelaku menerobos barikade, s...</td>\n",
              "    </tr>\n",
              "    <tr>\n",
              "      <th>3</th>\n",
              "      <td>{'username': 'GATRA_com', 'id': 202559038, 'di...</td>\n",
              "      <td>2022-07-01 09:50:01+00:00</td>\n",
              "      <td>Bupati Karanganyar: Penolakan Vaksin PMK Sapi ...</td>\n",
              "    </tr>\n",
              "    <tr>\n",
              "      <th>4</th>\n",
              "      <td>{'username': 'lemarikayu163', 'id': 1366978789...</td>\n",
              "      <td>2022-07-01 09:49:51+00:00</td>\n",
              "      <td>vaksin oh vaksin https://t.co/G2D1km3Vux</td>\n",
              "    </tr>\n",
              "  </tbody>\n",
              "</table>\n",
              "</div>"
            ],
            "text/plain": [
              "                                                user  \\\n",
              "0  {'username': 'lemarikayu163', 'id': 1366978789...   \n",
              "1  {'username': 'PDI_Perjuangan', 'id': 153407983...   \n",
              "2  {'username': 'cakradara20', 'id': 600631500, '...   \n",
              "3  {'username': 'GATRA_com', 'id': 202559038, 'di...   \n",
              "4  {'username': 'lemarikayu163', 'id': 1366978789...   \n",
              "\n",
              "                       date                                            content  \n",
              "0 2022-07-01 09:52:19+00:00  @BangPitung_AJW @DokterTifa lah , ibu saya 74 ...  \n",
              "1 2022-07-01 09:50:54+00:00  Oleh karena itu, Dewan Perwakilan Rakyat (DPRD...  \n",
              "2 2022-07-01 09:50:41+00:00  @_1507chan itu si pelaku menerobos barikade, s...  \n",
              "3 2022-07-01 09:50:01+00:00  Bupati Karanganyar: Penolakan Vaksin PMK Sapi ...  \n",
              "4 2022-07-01 09:49:51+00:00           vaksin oh vaksin https://t.co/G2D1km3Vux  "
            ]
          },
          "execution_count": 5,
          "metadata": {},
          "output_type": "execute_result"
        }
      ],
      "source": [
        "df.head()"
      ]
    },
    {
      "cell_type": "code",
      "execution_count": 6,
      "metadata": {
        "colab": {
          "base_uri": "https://localhost:8080/",
          "height": 363
        },
        "id": "Hkxd6E0ZdQd8",
        "outputId": "088ee46c-c305-483f-ae12-0bdcfbd7cbb9"
      },
      "outputs": [
        {
          "data": {
            "text/html": [
              "<div>\n",
              "<style scoped>\n",
              "    .dataframe tbody tr th:only-of-type {\n",
              "        vertical-align: middle;\n",
              "    }\n",
              "\n",
              "    .dataframe tbody tr th {\n",
              "        vertical-align: top;\n",
              "    }\n",
              "\n",
              "    .dataframe thead th {\n",
              "        text-align: right;\n",
              "    }\n",
              "</style>\n",
              "<table border=\"1\" class=\"dataframe\">\n",
              "  <thead>\n",
              "    <tr style=\"text-align: right;\">\n",
              "      <th></th>\n",
              "      <th>user</th>\n",
              "      <th>date</th>\n",
              "      <th>content</th>\n",
              "    </tr>\n",
              "  </thead>\n",
              "  <tbody>\n",
              "    <tr>\n",
              "      <th>0</th>\n",
              "      <td>{'username': 'lemarikayu163', 'id': 1366978789...</td>\n",
              "      <td>2022-07-01 09:52:19+00:00</td>\n",
              "      <td>@BangPitung_AJW @DokterTifa lah , ibu saya 74 ...</td>\n",
              "    </tr>\n",
              "    <tr>\n",
              "      <th>1</th>\n",
              "      <td>{'username': 'PDI_Perjuangan', 'id': 153407983...</td>\n",
              "      <td>2022-07-01 09:50:54+00:00</td>\n",
              "      <td>Oleh karena itu, Dewan Perwakilan Rakyat (DPRD...</td>\n",
              "    </tr>\n",
              "    <tr>\n",
              "      <th>2</th>\n",
              "      <td>{'username': 'cakradara20', 'id': 600631500, '...</td>\n",
              "      <td>2022-07-01 09:50:41+00:00</td>\n",
              "      <td>@_1507chan itu si pelaku menerobos barikade, s...</td>\n",
              "    </tr>\n",
              "    <tr>\n",
              "      <th>3</th>\n",
              "      <td>{'username': 'GATRA_com', 'id': 202559038, 'di...</td>\n",
              "      <td>2022-07-01 09:50:01+00:00</td>\n",
              "      <td>Bupati Karanganyar: Penolakan Vaksin PMK Sapi ...</td>\n",
              "    </tr>\n",
              "    <tr>\n",
              "      <th>4</th>\n",
              "      <td>{'username': 'lemarikayu163', 'id': 1366978789...</td>\n",
              "      <td>2022-07-01 09:49:51+00:00</td>\n",
              "      <td>vaksin oh vaksin https://t.co/G2D1km3Vux</td>\n",
              "    </tr>\n",
              "    <tr>\n",
              "      <th>5</th>\n",
              "      <td>{'username': 'kaasih_', 'id': 715631370, 'disp...</td>\n",
              "      <td>2022-07-01 09:49:39+00:00</td>\n",
              "      <td>YESSSS, KASIH RUSTIANI OFFICIALLY SUDAH VAKSIN...</td>\n",
              "    </tr>\n",
              "    <tr>\n",
              "      <th>6</th>\n",
              "      <td>{'username': 'rbadrya', 'id': 9739641170221424...</td>\n",
              "      <td>2022-07-01 09:49:20+00:00</td>\n",
              "      <td>@bdngfess uang aja kalau di kasusku. anak pert...</td>\n",
              "    </tr>\n",
              "    <tr>\n",
              "      <th>7</th>\n",
              "      <td>{'username': 'Foamwatcher', 'id': 150563535273...</td>\n",
              "      <td>2022-07-01 09:49:06+00:00</td>\n",
              "      <td>Orang-orang sakit diberi kursi untuk memimpin,...</td>\n",
              "    </tr>\n",
              "    <tr>\n",
              "      <th>8</th>\n",
              "      <td>{'username': 'memontum_online', 'id': 41106960...</td>\n",
              "      <td>2022-07-01 09:48:55+00:00</td>\n",
              "      <td>Lagi, 6900 Dosis Vaksin PMK Siap Digelontorkan...</td>\n",
              "    </tr>\n",
              "    <tr>\n",
              "      <th>9</th>\n",
              "      <td>{'username': 'bedugtengahawan', 'id': 14554323...</td>\n",
              "      <td>2022-07-01 09:47:34+00:00</td>\n",
              "      <td>@DokterTifa Semoga punggawa 62 yg bertanggungj...</td>\n",
              "    </tr>\n",
              "  </tbody>\n",
              "</table>\n",
              "</div>"
            ],
            "text/plain": [
              "                                                user  \\\n",
              "0  {'username': 'lemarikayu163', 'id': 1366978789...   \n",
              "1  {'username': 'PDI_Perjuangan', 'id': 153407983...   \n",
              "2  {'username': 'cakradara20', 'id': 600631500, '...   \n",
              "3  {'username': 'GATRA_com', 'id': 202559038, 'di...   \n",
              "4  {'username': 'lemarikayu163', 'id': 1366978789...   \n",
              "5  {'username': 'kaasih_', 'id': 715631370, 'disp...   \n",
              "6  {'username': 'rbadrya', 'id': 9739641170221424...   \n",
              "7  {'username': 'Foamwatcher', 'id': 150563535273...   \n",
              "8  {'username': 'memontum_online', 'id': 41106960...   \n",
              "9  {'username': 'bedugtengahawan', 'id': 14554323...   \n",
              "\n",
              "                       date                                            content  \n",
              "0 2022-07-01 09:52:19+00:00  @BangPitung_AJW @DokterTifa lah , ibu saya 74 ...  \n",
              "1 2022-07-01 09:50:54+00:00  Oleh karena itu, Dewan Perwakilan Rakyat (DPRD...  \n",
              "2 2022-07-01 09:50:41+00:00  @_1507chan itu si pelaku menerobos barikade, s...  \n",
              "3 2022-07-01 09:50:01+00:00  Bupati Karanganyar: Penolakan Vaksin PMK Sapi ...  \n",
              "4 2022-07-01 09:49:51+00:00           vaksin oh vaksin https://t.co/G2D1km3Vux  \n",
              "5 2022-07-01 09:49:39+00:00  YESSSS, KASIH RUSTIANI OFFICIALLY SUDAH VAKSIN...  \n",
              "6 2022-07-01 09:49:20+00:00  @bdngfess uang aja kalau di kasusku. anak pert...  \n",
              "7 2022-07-01 09:49:06+00:00  Orang-orang sakit diberi kursi untuk memimpin,...  \n",
              "8 2022-07-01 09:48:55+00:00  Lagi, 6900 Dosis Vaksin PMK Siap Digelontorkan...  \n",
              "9 2022-07-01 09:47:34+00:00  @DokterTifa Semoga punggawa 62 yg bertanggungj...  "
            ]
          },
          "execution_count": 6,
          "metadata": {},
          "output_type": "execute_result"
        }
      ],
      "source": [
        "df.head(10)"
      ]
    },
    {
      "cell_type": "code",
      "execution_count": 7,
      "metadata": {
        "colab": {
          "base_uri": "https://localhost:8080/",
          "height": 206
        },
        "id": "Z1mLf7Ezdhjn",
        "outputId": "bc8f1762-7a92-4fc3-ae23-3cfd869d7132"
      },
      "outputs": [
        {
          "data": {
            "text/html": [
              "<div>\n",
              "<style scoped>\n",
              "    .dataframe tbody tr th:only-of-type {\n",
              "        vertical-align: middle;\n",
              "    }\n",
              "\n",
              "    .dataframe tbody tr th {\n",
              "        vertical-align: top;\n",
              "    }\n",
              "\n",
              "    .dataframe thead th {\n",
              "        text-align: right;\n",
              "    }\n",
              "</style>\n",
              "<table border=\"1\" class=\"dataframe\">\n",
              "  <thead>\n",
              "    <tr style=\"text-align: right;\">\n",
              "      <th></th>\n",
              "      <th>user</th>\n",
              "      <th>date</th>\n",
              "      <th>content</th>\n",
              "    </tr>\n",
              "  </thead>\n",
              "  <tbody>\n",
              "    <tr>\n",
              "      <th>95</th>\n",
              "      <td>{'username': 'ncbell_', 'id': 3159308112, 'dis...</td>\n",
              "      <td>2022-07-01 08:55:24+00:00</td>\n",
              "      <td>@n_axie Ada vaksin ke utk influenza</td>\n",
              "    </tr>\n",
              "    <tr>\n",
              "      <th>96</th>\n",
              "      <td>{'username': 'Prianto27', 'id': 545212274, 'di...</td>\n",
              "      <td>2022-07-01 08:54:13+00:00</td>\n",
              "      <td>@StopPlandemit Ini baru bangun apa gimna ini? ...</td>\n",
              "    </tr>\n",
              "    <tr>\n",
              "      <th>97</th>\n",
              "      <td>{'username': 'Jeza74422125', 'id': 12920083250...</td>\n",
              "      <td>2022-07-01 08:53:41+00:00</td>\n",
              "      <td>@Lisaamartatara4 @DokterTifa @PBIDI @DrEvaChan...</td>\n",
              "    </tr>\n",
              "    <tr>\n",
              "      <th>98</th>\n",
              "      <td>{'username': 'Rekgladi', 'id': 149610694923008...</td>\n",
              "      <td>2022-07-01 08:52:19+00:00</td>\n",
              "      <td>@MprAldo Beh pencerahan nya dong gimana cara m...</td>\n",
              "    </tr>\n",
              "    <tr>\n",
              "      <th>99</th>\n",
              "      <td>{'username': 'bonie0959', 'id': 2246719333, 'd...</td>\n",
              "      <td>2022-07-01 08:51:04+00:00</td>\n",
              "      <td>@KemenkesRI , banyak berita berseliweran menge...</td>\n",
              "    </tr>\n",
              "  </tbody>\n",
              "</table>\n",
              "</div>"
            ],
            "text/plain": [
              "                                                 user  \\\n",
              "95  {'username': 'ncbell_', 'id': 3159308112, 'dis...   \n",
              "96  {'username': 'Prianto27', 'id': 545212274, 'di...   \n",
              "97  {'username': 'Jeza74422125', 'id': 12920083250...   \n",
              "98  {'username': 'Rekgladi', 'id': 149610694923008...   \n",
              "99  {'username': 'bonie0959', 'id': 2246719333, 'd...   \n",
              "\n",
              "                        date  \\\n",
              "95 2022-07-01 08:55:24+00:00   \n",
              "96 2022-07-01 08:54:13+00:00   \n",
              "97 2022-07-01 08:53:41+00:00   \n",
              "98 2022-07-01 08:52:19+00:00   \n",
              "99 2022-07-01 08:51:04+00:00   \n",
              "\n",
              "                                              content  \n",
              "95                @n_axie Ada vaksin ke utk influenza  \n",
              "96  @StopPlandemit Ini baru bangun apa gimna ini? ...  \n",
              "97  @Lisaamartatara4 @DokterTifa @PBIDI @DrEvaChan...  \n",
              "98  @MprAldo Beh pencerahan nya dong gimana cara m...  \n",
              "99  @KemenkesRI , banyak berita berseliweran menge...  "
            ]
          },
          "execution_count": 7,
          "metadata": {},
          "output_type": "execute_result"
        }
      ],
      "source": [
        "df.tail()"
      ]
    },
    {
      "cell_type": "code",
      "execution_count": 8,
      "metadata": {
        "colab": {
          "base_uri": "https://localhost:8080/",
          "height": 363
        },
        "id": "_5wJLqL2dqlJ",
        "outputId": "cf8b303d-e047-4fbb-8519-516ec6a162e2"
      },
      "outputs": [
        {
          "data": {
            "text/html": [
              "<div>\n",
              "<style scoped>\n",
              "    .dataframe tbody tr th:only-of-type {\n",
              "        vertical-align: middle;\n",
              "    }\n",
              "\n",
              "    .dataframe tbody tr th {\n",
              "        vertical-align: top;\n",
              "    }\n",
              "\n",
              "    .dataframe thead th {\n",
              "        text-align: right;\n",
              "    }\n",
              "</style>\n",
              "<table border=\"1\" class=\"dataframe\">\n",
              "  <thead>\n",
              "    <tr style=\"text-align: right;\">\n",
              "      <th></th>\n",
              "      <th>user</th>\n",
              "      <th>date</th>\n",
              "      <th>content</th>\n",
              "    </tr>\n",
              "  </thead>\n",
              "  <tbody>\n",
              "    <tr>\n",
              "      <th>90</th>\n",
              "      <td>{'username': 'novifath', 'id': 252445724, 'dis...</td>\n",
              "      <td>2022-07-01 08:57:46+00:00</td>\n",
              "      <td>Kita ini diposisikan mulia sama Allah, maka ja...</td>\n",
              "    </tr>\n",
              "    <tr>\n",
              "      <th>91</th>\n",
              "      <td>{'username': 'novifath', 'id': 252445724, 'dis...</td>\n",
              "      <td>2022-07-01 08:57:32+00:00</td>\n",
              "      <td>Manusia itu tidak ada dengan sendirinya, manus...</td>\n",
              "    </tr>\n",
              "    <tr>\n",
              "      <th>92</th>\n",
              "      <td>{'username': 'DewiAng40669929', 'id': 14874593...</td>\n",
              "      <td>2022-07-01 08:56:41+00:00</td>\n",
              "      <td>@virusketik vaksin efektif meminimalisir poten...</td>\n",
              "    </tr>\n",
              "    <tr>\n",
              "      <th>93</th>\n",
              "      <td>{'username': 'firdaus_00', 'id': 292184806, 'd...</td>\n",
              "      <td>2022-07-01 08:55:37+00:00</td>\n",
              "      <td>@Rekgladi @MprAldo Ada penyakit bawaan paru2, ...</td>\n",
              "    </tr>\n",
              "    <tr>\n",
              "      <th>94</th>\n",
              "      <td>{'username': 'antonijma', 'id': 97747079253014...</td>\n",
              "      <td>2022-07-01 08:55:35+00:00</td>\n",
              "      <td>@Lisaamartatara4 @DokterTifa @PBIDI @DrEvaChan...</td>\n",
              "    </tr>\n",
              "    <tr>\n",
              "      <th>95</th>\n",
              "      <td>{'username': 'ncbell_', 'id': 3159308112, 'dis...</td>\n",
              "      <td>2022-07-01 08:55:24+00:00</td>\n",
              "      <td>@n_axie Ada vaksin ke utk influenza</td>\n",
              "    </tr>\n",
              "    <tr>\n",
              "      <th>96</th>\n",
              "      <td>{'username': 'Prianto27', 'id': 545212274, 'di...</td>\n",
              "      <td>2022-07-01 08:54:13+00:00</td>\n",
              "      <td>@StopPlandemit Ini baru bangun apa gimna ini? ...</td>\n",
              "    </tr>\n",
              "    <tr>\n",
              "      <th>97</th>\n",
              "      <td>{'username': 'Jeza74422125', 'id': 12920083250...</td>\n",
              "      <td>2022-07-01 08:53:41+00:00</td>\n",
              "      <td>@Lisaamartatara4 @DokterTifa @PBIDI @DrEvaChan...</td>\n",
              "    </tr>\n",
              "    <tr>\n",
              "      <th>98</th>\n",
              "      <td>{'username': 'Rekgladi', 'id': 149610694923008...</td>\n",
              "      <td>2022-07-01 08:52:19+00:00</td>\n",
              "      <td>@MprAldo Beh pencerahan nya dong gimana cara m...</td>\n",
              "    </tr>\n",
              "    <tr>\n",
              "      <th>99</th>\n",
              "      <td>{'username': 'bonie0959', 'id': 2246719333, 'd...</td>\n",
              "      <td>2022-07-01 08:51:04+00:00</td>\n",
              "      <td>@KemenkesRI , banyak berita berseliweran menge...</td>\n",
              "    </tr>\n",
              "  </tbody>\n",
              "</table>\n",
              "</div>"
            ],
            "text/plain": [
              "                                                 user  \\\n",
              "90  {'username': 'novifath', 'id': 252445724, 'dis...   \n",
              "91  {'username': 'novifath', 'id': 252445724, 'dis...   \n",
              "92  {'username': 'DewiAng40669929', 'id': 14874593...   \n",
              "93  {'username': 'firdaus_00', 'id': 292184806, 'd...   \n",
              "94  {'username': 'antonijma', 'id': 97747079253014...   \n",
              "95  {'username': 'ncbell_', 'id': 3159308112, 'dis...   \n",
              "96  {'username': 'Prianto27', 'id': 545212274, 'di...   \n",
              "97  {'username': 'Jeza74422125', 'id': 12920083250...   \n",
              "98  {'username': 'Rekgladi', 'id': 149610694923008...   \n",
              "99  {'username': 'bonie0959', 'id': 2246719333, 'd...   \n",
              "\n",
              "                        date  \\\n",
              "90 2022-07-01 08:57:46+00:00   \n",
              "91 2022-07-01 08:57:32+00:00   \n",
              "92 2022-07-01 08:56:41+00:00   \n",
              "93 2022-07-01 08:55:37+00:00   \n",
              "94 2022-07-01 08:55:35+00:00   \n",
              "95 2022-07-01 08:55:24+00:00   \n",
              "96 2022-07-01 08:54:13+00:00   \n",
              "97 2022-07-01 08:53:41+00:00   \n",
              "98 2022-07-01 08:52:19+00:00   \n",
              "99 2022-07-01 08:51:04+00:00   \n",
              "\n",
              "                                              content  \n",
              "90  Kita ini diposisikan mulia sama Allah, maka ja...  \n",
              "91  Manusia itu tidak ada dengan sendirinya, manus...  \n",
              "92  @virusketik vaksin efektif meminimalisir poten...  \n",
              "93  @Rekgladi @MprAldo Ada penyakit bawaan paru2, ...  \n",
              "94  @Lisaamartatara4 @DokterTifa @PBIDI @DrEvaChan...  \n",
              "95                @n_axie Ada vaksin ke utk influenza  \n",
              "96  @StopPlandemit Ini baru bangun apa gimna ini? ...  \n",
              "97  @Lisaamartatara4 @DokterTifa @PBIDI @DrEvaChan...  \n",
              "98  @MprAldo Beh pencerahan nya dong gimana cara m...  \n",
              "99  @KemenkesRI , banyak berita berseliweran menge...  "
            ]
          },
          "execution_count": 8,
          "metadata": {},
          "output_type": "execute_result"
        }
      ],
      "source": [
        "df.tail(10)"
      ]
    },
    {
      "cell_type": "code",
      "execution_count": 9,
      "metadata": {
        "colab": {
          "base_uri": "https://localhost:8080/"
        },
        "id": "r5qCA6YGdx2D",
        "outputId": "2bcbf9c8-35a0-477a-926a-7182798ca922"
      },
      "outputs": [
        {
          "name": "stdout",
          "output_type": "stream",
          "text": [
            "<class 'pandas.core.frame.DataFrame'>\n",
            "RangeIndex: 100 entries, 0 to 99\n",
            "Data columns (total 3 columns):\n",
            " #   Column   Non-Null Count  Dtype              \n",
            "---  ------   --------------  -----              \n",
            " 0   user     100 non-null    object             \n",
            " 1   date     100 non-null    datetime64[ns, UTC]\n",
            " 2   content  100 non-null    object             \n",
            "dtypes: datetime64[ns, UTC](1), object(2)\n",
            "memory usage: 2.5+ KB\n"
          ]
        }
      ],
      "source": [
        "df.info()"
      ]
    },
    {
      "cell_type": "code",
      "execution_count": 10,
      "metadata": {
        "colab": {
          "base_uri": "https://localhost:8080/"
        },
        "id": "gd7rXuGIeHTC",
        "outputId": "4e1972da-50a0-472b-a5cf-d65c03be5fa8"
      },
      "outputs": [
        {
          "data": {
            "text/plain": [
              "user                    object\n",
              "date       datetime64[ns, UTC]\n",
              "content                 object\n",
              "dtype: object"
            ]
          },
          "execution_count": 10,
          "metadata": {},
          "output_type": "execute_result"
        }
      ],
      "source": [
        "df.dtypes"
      ]
    },
    {
      "cell_type": "code",
      "execution_count": 11,
      "metadata": {
        "colab": {
          "base_uri": "https://localhost:8080/"
        },
        "id": "xvGDVVvkeQb_",
        "outputId": "e9826121-70d9-4207-ec38-a00b80b79ed2"
      },
      "outputs": [
        {
          "data": {
            "text/plain": [
              "(100, 3)"
            ]
          },
          "execution_count": 11,
          "metadata": {},
          "output_type": "execute_result"
        }
      ],
      "source": [
        "df.shape"
      ]
    },
    {
      "cell_type": "code",
      "execution_count": 12,
      "metadata": {
        "colab": {
          "base_uri": "https://localhost:8080/",
          "height": 292
        },
        "id": "G4Cs_ah0eY81",
        "outputId": "dfcbc207-5f93-40b9-be85-43bef8bff0d6"
      },
      "outputs": [
        {
          "name": "stderr",
          "output_type": "stream",
          "text": [
            "C:\\Users\\Public\\Documents\\Wondershare\\CreatorTemp\\ipykernel_9956\\3627053830.py:1: FutureWarning: Treating datetime data as categorical rather than numeric in `.describe` is deprecated and will be removed in a future version of pandas. Specify `datetime_is_numeric=True` to silence this warning and adopt the future behavior now.\n",
            "  df.describe()\n"
          ]
        },
        {
          "data": {
            "text/html": [
              "<div>\n",
              "<style scoped>\n",
              "    .dataframe tbody tr th:only-of-type {\n",
              "        vertical-align: middle;\n",
              "    }\n",
              "\n",
              "    .dataframe tbody tr th {\n",
              "        vertical-align: top;\n",
              "    }\n",
              "\n",
              "    .dataframe thead th {\n",
              "        text-align: right;\n",
              "    }\n",
              "</style>\n",
              "<table border=\"1\" class=\"dataframe\">\n",
              "  <thead>\n",
              "    <tr style=\"text-align: right;\">\n",
              "      <th></th>\n",
              "      <th>user</th>\n",
              "      <th>date</th>\n",
              "      <th>content</th>\n",
              "    </tr>\n",
              "  </thead>\n",
              "  <tbody>\n",
              "    <tr>\n",
              "      <th>count</th>\n",
              "      <td>100</td>\n",
              "      <td>100</td>\n",
              "      <td>100</td>\n",
              "    </tr>\n",
              "    <tr>\n",
              "      <th>unique</th>\n",
              "      <td>81</td>\n",
              "      <td>99</td>\n",
              "      <td>100</td>\n",
              "    </tr>\n",
              "    <tr>\n",
              "      <th>top</th>\n",
              "      <td>{'username': 'huftsigh', 'id': 108953631402887...</td>\n",
              "      <td>2022-07-01 09:02:52+00:00</td>\n",
              "      <td>@BangPitung_AJW @DokterTifa lah , ibu saya 74 ...</td>\n",
              "    </tr>\n",
              "    <tr>\n",
              "      <th>freq</th>\n",
              "      <td>10</td>\n",
              "      <td>2</td>\n",
              "      <td>1</td>\n",
              "    </tr>\n",
              "    <tr>\n",
              "      <th>first</th>\n",
              "      <td>NaN</td>\n",
              "      <td>2022-07-01 08:51:04+00:00</td>\n",
              "      <td>NaN</td>\n",
              "    </tr>\n",
              "    <tr>\n",
              "      <th>last</th>\n",
              "      <td>NaN</td>\n",
              "      <td>2022-07-01 09:52:19+00:00</td>\n",
              "      <td>NaN</td>\n",
              "    </tr>\n",
              "  </tbody>\n",
              "</table>\n",
              "</div>"
            ],
            "text/plain": [
              "                                                     user  \\\n",
              "count                                                 100   \n",
              "unique                                                 81   \n",
              "top     {'username': 'huftsigh', 'id': 108953631402887...   \n",
              "freq                                                   10   \n",
              "first                                                 NaN   \n",
              "last                                                  NaN   \n",
              "\n",
              "                             date  \\\n",
              "count                         100   \n",
              "unique                         99   \n",
              "top     2022-07-01 09:02:52+00:00   \n",
              "freq                            2   \n",
              "first   2022-07-01 08:51:04+00:00   \n",
              "last    2022-07-01 09:52:19+00:00   \n",
              "\n",
              "                                                  content  \n",
              "count                                                 100  \n",
              "unique                                                100  \n",
              "top     @BangPitung_AJW @DokterTifa lah , ibu saya 74 ...  \n",
              "freq                                                    1  \n",
              "first                                                 NaN  \n",
              "last                                                  NaN  "
            ]
          },
          "execution_count": 12,
          "metadata": {},
          "output_type": "execute_result"
        }
      ],
      "source": [
        "df.describe()"
      ]
    },
    {
      "cell_type": "code",
      "execution_count": 13,
      "metadata": {
        "colab": {
          "base_uri": "https://localhost:8080/",
          "height": 363
        },
        "id": "XlFx342petuR",
        "outputId": "0109d382-dd11-45bc-f5ab-57579f9d853b"
      },
      "outputs": [
        {
          "data": {
            "text/html": [
              "<div>\n",
              "<style scoped>\n",
              "    .dataframe tbody tr th:only-of-type {\n",
              "        vertical-align: middle;\n",
              "    }\n",
              "\n",
              "    .dataframe tbody tr th {\n",
              "        vertical-align: top;\n",
              "    }\n",
              "\n",
              "    .dataframe thead th {\n",
              "        text-align: right;\n",
              "    }\n",
              "</style>\n",
              "<table border=\"1\" class=\"dataframe\">\n",
              "  <thead>\n",
              "    <tr style=\"text-align: right;\">\n",
              "      <th></th>\n",
              "      <th>user</th>\n",
              "      <th>date</th>\n",
              "      <th>content</th>\n",
              "    </tr>\n",
              "  </thead>\n",
              "  <tbody>\n",
              "    <tr>\n",
              "      <th>73</th>\n",
              "      <td>{'username': 'AnggaraSasih', 'id': 1097089224,...</td>\n",
              "      <td>2022-07-01 09:05:49+00:00</td>\n",
              "      <td>@_Banyoe @adit_youtuber @marlina_idha buihnya ...</td>\n",
              "    </tr>\n",
              "    <tr>\n",
              "      <th>62</th>\n",
              "      <td>{'username': 'Dhika_Widjaya', 'id': 98562849, ...</td>\n",
              "      <td>2022-07-01 09:15:03+00:00</td>\n",
              "      <td>Liat bocil cewe 3thn kok lawuchuu bingiitt yaa...</td>\n",
              "    </tr>\n",
              "    <tr>\n",
              "      <th>32</th>\n",
              "      <td>{'username': 'tribunjogja', 'id': 223476605, '...</td>\n",
              "      <td>2022-07-01 09:34:32+00:00</td>\n",
              "      <td>Capai Target, 3.100 Ternak di Sleman Telah Dis...</td>\n",
              "    </tr>\n",
              "    <tr>\n",
              "      <th>17</th>\n",
              "      <td>{'username': 'BersamaBersuara', 'id': 14981883...</td>\n",
              "      <td>2022-07-01 09:42:08+00:00</td>\n",
              "      <td>@t3luuur @MprAldo @DokterTifa @GratisTerbaik Y...</td>\n",
              "    </tr>\n",
              "    <tr>\n",
              "      <th>68</th>\n",
              "      <td>{'username': 'a_ming_tse', 'id': 2704190382, '...</td>\n",
              "      <td>2022-07-01 09:08:43+00:00</td>\n",
              "      <td>@BangPitung_AJW @DokterTifa Kenapa dulu RT bol...</td>\n",
              "    </tr>\n",
              "    <tr>\n",
              "      <th>97</th>\n",
              "      <td>{'username': 'Jeza74422125', 'id': 12920083250...</td>\n",
              "      <td>2022-07-01 08:53:41+00:00</td>\n",
              "      <td>@Lisaamartatara4 @DokterTifa @PBIDI @DrEvaChan...</td>\n",
              "    </tr>\n",
              "    <tr>\n",
              "      <th>66</th>\n",
              "      <td>{'username': 'voidotid', 'id': 118694665059541...</td>\n",
              "      <td>2022-07-01 09:11:09+00:00</td>\n",
              "      <td>Satuan Tugas Penanganan COVID-19 Provinsi Kepu...</td>\n",
              "    </tr>\n",
              "    <tr>\n",
              "      <th>30</th>\n",
              "      <td>{'username': 'aa4innn15', 'id': 2996032070, 'd...</td>\n",
              "      <td>2022-07-01 09:35:02+00:00</td>\n",
              "      <td>Rasa sesak sgt nafas nya</td>\n",
              "    </tr>\n",
              "    <tr>\n",
              "      <th>22</th>\n",
              "      <td>{'username': 'MunaZaza21', 'id': 328797996, 'd...</td>\n",
              "      <td>2022-07-01 09:39:21+00:00</td>\n",
              "      <td>@gforgea @kochengfs Halo kak ini aku dikasih t...</td>\n",
              "    </tr>\n",
              "    <tr>\n",
              "      <th>13</th>\n",
              "      <td>{'username': 'cakradara20', 'id': 600631500, '...</td>\n",
              "      <td>2022-07-01 09:45:58+00:00</td>\n",
              "      <td>@A_FionyJKT48 https://t.co/la2xx39Jka</td>\n",
              "    </tr>\n",
              "  </tbody>\n",
              "</table>\n",
              "</div>"
            ],
            "text/plain": [
              "                                                 user  \\\n",
              "73  {'username': 'AnggaraSasih', 'id': 1097089224,...   \n",
              "62  {'username': 'Dhika_Widjaya', 'id': 98562849, ...   \n",
              "32  {'username': 'tribunjogja', 'id': 223476605, '...   \n",
              "17  {'username': 'BersamaBersuara', 'id': 14981883...   \n",
              "68  {'username': 'a_ming_tse', 'id': 2704190382, '...   \n",
              "97  {'username': 'Jeza74422125', 'id': 12920083250...   \n",
              "66  {'username': 'voidotid', 'id': 118694665059541...   \n",
              "30  {'username': 'aa4innn15', 'id': 2996032070, 'd...   \n",
              "22  {'username': 'MunaZaza21', 'id': 328797996, 'd...   \n",
              "13  {'username': 'cakradara20', 'id': 600631500, '...   \n",
              "\n",
              "                        date  \\\n",
              "73 2022-07-01 09:05:49+00:00   \n",
              "62 2022-07-01 09:15:03+00:00   \n",
              "32 2022-07-01 09:34:32+00:00   \n",
              "17 2022-07-01 09:42:08+00:00   \n",
              "68 2022-07-01 09:08:43+00:00   \n",
              "97 2022-07-01 08:53:41+00:00   \n",
              "66 2022-07-01 09:11:09+00:00   \n",
              "30 2022-07-01 09:35:02+00:00   \n",
              "22 2022-07-01 09:39:21+00:00   \n",
              "13 2022-07-01 09:45:58+00:00   \n",
              "\n",
              "                                              content  \n",
              "73  @_Banyoe @adit_youtuber @marlina_idha buihnya ...  \n",
              "62  Liat bocil cewe 3thn kok lawuchuu bingiitt yaa...  \n",
              "32  Capai Target, 3.100 Ternak di Sleman Telah Dis...  \n",
              "17  @t3luuur @MprAldo @DokterTifa @GratisTerbaik Y...  \n",
              "68  @BangPitung_AJW @DokterTifa Kenapa dulu RT bol...  \n",
              "97  @Lisaamartatara4 @DokterTifa @PBIDI @DrEvaChan...  \n",
              "66  Satuan Tugas Penanganan COVID-19 Provinsi Kepu...  \n",
              "30                           Rasa sesak sgt nafas nya  \n",
              "22  @gforgea @kochengfs Halo kak ini aku dikasih t...  \n",
              "13              @A_FionyJKT48 https://t.co/la2xx39Jka  "
            ]
          },
          "execution_count": 13,
          "metadata": {},
          "output_type": "execute_result"
        }
      ],
      "source": [
        "df.sample(n=10)"
      ]
    },
    {
      "cell_type": "code",
      "execution_count": 14,
      "metadata": {
        "colab": {
          "base_uri": "https://localhost:8080/",
          "height": 423
        },
        "id": "bnzpR3jMe5TY",
        "outputId": "fef058c6-b3ed-4f3e-f7aa-c50cb68adb7d"
      },
      "outputs": [
        {
          "data": {
            "text/html": [
              "<div>\n",
              "<style scoped>\n",
              "    .dataframe tbody tr th:only-of-type {\n",
              "        vertical-align: middle;\n",
              "    }\n",
              "\n",
              "    .dataframe tbody tr th {\n",
              "        vertical-align: top;\n",
              "    }\n",
              "\n",
              "    .dataframe thead th {\n",
              "        text-align: right;\n",
              "    }\n",
              "</style>\n",
              "<table border=\"1\" class=\"dataframe\">\n",
              "  <thead>\n",
              "    <tr style=\"text-align: right;\">\n",
              "      <th></th>\n",
              "      <th>user</th>\n",
              "      <th>date</th>\n",
              "      <th>content</th>\n",
              "    </tr>\n",
              "  </thead>\n",
              "  <tbody>\n",
              "    <tr>\n",
              "      <th>0</th>\n",
              "      <td>False</td>\n",
              "      <td>False</td>\n",
              "      <td>False</td>\n",
              "    </tr>\n",
              "    <tr>\n",
              "      <th>1</th>\n",
              "      <td>False</td>\n",
              "      <td>False</td>\n",
              "      <td>False</td>\n",
              "    </tr>\n",
              "    <tr>\n",
              "      <th>2</th>\n",
              "      <td>False</td>\n",
              "      <td>False</td>\n",
              "      <td>False</td>\n",
              "    </tr>\n",
              "    <tr>\n",
              "      <th>3</th>\n",
              "      <td>False</td>\n",
              "      <td>False</td>\n",
              "      <td>False</td>\n",
              "    </tr>\n",
              "    <tr>\n",
              "      <th>4</th>\n",
              "      <td>False</td>\n",
              "      <td>False</td>\n",
              "      <td>False</td>\n",
              "    </tr>\n",
              "    <tr>\n",
              "      <th>...</th>\n",
              "      <td>...</td>\n",
              "      <td>...</td>\n",
              "      <td>...</td>\n",
              "    </tr>\n",
              "    <tr>\n",
              "      <th>95</th>\n",
              "      <td>False</td>\n",
              "      <td>False</td>\n",
              "      <td>False</td>\n",
              "    </tr>\n",
              "    <tr>\n",
              "      <th>96</th>\n",
              "      <td>False</td>\n",
              "      <td>False</td>\n",
              "      <td>False</td>\n",
              "    </tr>\n",
              "    <tr>\n",
              "      <th>97</th>\n",
              "      <td>False</td>\n",
              "      <td>False</td>\n",
              "      <td>False</td>\n",
              "    </tr>\n",
              "    <tr>\n",
              "      <th>98</th>\n",
              "      <td>False</td>\n",
              "      <td>False</td>\n",
              "      <td>False</td>\n",
              "    </tr>\n",
              "    <tr>\n",
              "      <th>99</th>\n",
              "      <td>False</td>\n",
              "      <td>False</td>\n",
              "      <td>False</td>\n",
              "    </tr>\n",
              "  </tbody>\n",
              "</table>\n",
              "<p>100 rows × 3 columns</p>\n",
              "</div>"
            ],
            "text/plain": [
              "     user   date  content\n",
              "0   False  False    False\n",
              "1   False  False    False\n",
              "2   False  False    False\n",
              "3   False  False    False\n",
              "4   False  False    False\n",
              "..    ...    ...      ...\n",
              "95  False  False    False\n",
              "96  False  False    False\n",
              "97  False  False    False\n",
              "98  False  False    False\n",
              "99  False  False    False\n",
              "\n",
              "[100 rows x 3 columns]"
            ]
          },
          "execution_count": 14,
          "metadata": {},
          "output_type": "execute_result"
        }
      ],
      "source": [
        "df.isnull()"
      ]
    },
    {
      "cell_type": "code",
      "execution_count": 15,
      "metadata": {
        "colab": {
          "base_uri": "https://localhost:8080/"
        },
        "id": "k-ECzSfdfBLj",
        "outputId": "87f54f93-08d3-402c-ce9c-bb8659c01d04"
      },
      "outputs": [
        {
          "data": {
            "text/plain": [
              "user       0\n",
              "date       0\n",
              "content    0\n",
              "dtype: int64"
            ]
          },
          "execution_count": 15,
          "metadata": {},
          "output_type": "execute_result"
        }
      ],
      "source": [
        "df.isna().sum()"
      ]
    },
    {
      "cell_type": "code",
      "execution_count": 16,
      "metadata": {
        "colab": {
          "base_uri": "https://localhost:8080/"
        },
        "id": "Z0fnVmhefIQS",
        "outputId": "9982960c-2fff-4646-8a3f-b8b20e750db5"
      },
      "outputs": [
        {
          "data": {
            "text/plain": [
              "user       0\n",
              "date       0\n",
              "content    0\n",
              "dtype: int64"
            ]
          },
          "execution_count": 16,
          "metadata": {},
          "output_type": "execute_result"
        }
      ],
      "source": [
        "df.isnull().sum()"
      ]
    },
    {
      "cell_type": "code",
      "execution_count": 17,
      "metadata": {
        "colab": {
          "base_uri": "https://localhost:8080/"
        },
        "id": "g2NiA3KZfNf_",
        "outputId": "6d0fc872-12a1-452d-8d78-2ce3e01fbf65"
      },
      "outputs": [
        {
          "data": {
            "text/plain": [
              "0     @BangPitung_AJW @DokterTifa lah , ibu saya 74 ...\n",
              "1     Oleh karena itu, Dewan Perwakilan Rakyat (DPRD...\n",
              "2     @_1507chan itu si pelaku menerobos barikade, s...\n",
              "3     Bupati Karanganyar: Penolakan Vaksin PMK Sapi ...\n",
              "4              vaksin oh vaksin https://t.co/G2D1km3Vux\n",
              "                            ...                        \n",
              "95                  @n_axie Ada vaksin ke utk influenza\n",
              "96    @StopPlandemit Ini baru bangun apa gimna ini? ...\n",
              "97    @Lisaamartatara4 @DokterTifa @PBIDI @DrEvaChan...\n",
              "98    @MprAldo Beh pencerahan nya dong gimana cara m...\n",
              "99    @KemenkesRI , banyak berita berseliweran menge...\n",
              "Name: content, Length: 100, dtype: object"
            ]
          },
          "execution_count": 17,
          "metadata": {},
          "output_type": "execute_result"
        }
      ],
      "source": [
        "df['content']"
      ]
    },
    {
      "cell_type": "code",
      "execution_count": 18,
      "metadata": {
        "id": "T-YwusxGfZkd"
      },
      "outputs": [],
      "source": [
        "df = df.drop(columns=['user', 'date'])"
      ]
    },
    {
      "cell_type": "code",
      "execution_count": 19,
      "metadata": {
        "colab": {
          "base_uri": "https://localhost:8080/",
          "height": 423
        },
        "id": "T3HLFXebflSk",
        "outputId": "5af27114-4ef1-4951-f781-6a17abe25bf2"
      },
      "outputs": [
        {
          "data": {
            "text/html": [
              "<div>\n",
              "<style scoped>\n",
              "    .dataframe tbody tr th:only-of-type {\n",
              "        vertical-align: middle;\n",
              "    }\n",
              "\n",
              "    .dataframe tbody tr th {\n",
              "        vertical-align: top;\n",
              "    }\n",
              "\n",
              "    .dataframe thead th {\n",
              "        text-align: right;\n",
              "    }\n",
              "</style>\n",
              "<table border=\"1\" class=\"dataframe\">\n",
              "  <thead>\n",
              "    <tr style=\"text-align: right;\">\n",
              "      <th></th>\n",
              "      <th>content</th>\n",
              "    </tr>\n",
              "  </thead>\n",
              "  <tbody>\n",
              "    <tr>\n",
              "      <th>0</th>\n",
              "      <td>@BangPitung_AJW @DokterTifa lah , ibu saya 74 ...</td>\n",
              "    </tr>\n",
              "    <tr>\n",
              "      <th>1</th>\n",
              "      <td>Oleh karena itu, Dewan Perwakilan Rakyat (DPRD...</td>\n",
              "    </tr>\n",
              "    <tr>\n",
              "      <th>2</th>\n",
              "      <td>@_1507chan itu si pelaku menerobos barikade, s...</td>\n",
              "    </tr>\n",
              "    <tr>\n",
              "      <th>3</th>\n",
              "      <td>Bupati Karanganyar: Penolakan Vaksin PMK Sapi ...</td>\n",
              "    </tr>\n",
              "    <tr>\n",
              "      <th>4</th>\n",
              "      <td>vaksin oh vaksin https://t.co/G2D1km3Vux</td>\n",
              "    </tr>\n",
              "    <tr>\n",
              "      <th>...</th>\n",
              "      <td>...</td>\n",
              "    </tr>\n",
              "    <tr>\n",
              "      <th>95</th>\n",
              "      <td>@n_axie Ada vaksin ke utk influenza</td>\n",
              "    </tr>\n",
              "    <tr>\n",
              "      <th>96</th>\n",
              "      <td>@StopPlandemit Ini baru bangun apa gimna ini? ...</td>\n",
              "    </tr>\n",
              "    <tr>\n",
              "      <th>97</th>\n",
              "      <td>@Lisaamartatara4 @DokterTifa @PBIDI @DrEvaChan...</td>\n",
              "    </tr>\n",
              "    <tr>\n",
              "      <th>98</th>\n",
              "      <td>@MprAldo Beh pencerahan nya dong gimana cara m...</td>\n",
              "    </tr>\n",
              "    <tr>\n",
              "      <th>99</th>\n",
              "      <td>@KemenkesRI , banyak berita berseliweran menge...</td>\n",
              "    </tr>\n",
              "  </tbody>\n",
              "</table>\n",
              "<p>100 rows × 1 columns</p>\n",
              "</div>"
            ],
            "text/plain": [
              "                                              content\n",
              "0   @BangPitung_AJW @DokterTifa lah , ibu saya 74 ...\n",
              "1   Oleh karena itu, Dewan Perwakilan Rakyat (DPRD...\n",
              "2   @_1507chan itu si pelaku menerobos barikade, s...\n",
              "3   Bupati Karanganyar: Penolakan Vaksin PMK Sapi ...\n",
              "4            vaksin oh vaksin https://t.co/G2D1km3Vux\n",
              "..                                                ...\n",
              "95                @n_axie Ada vaksin ke utk influenza\n",
              "96  @StopPlandemit Ini baru bangun apa gimna ini? ...\n",
              "97  @Lisaamartatara4 @DokterTifa @PBIDI @DrEvaChan...\n",
              "98  @MprAldo Beh pencerahan nya dong gimana cara m...\n",
              "99  @KemenkesRI , banyak berita berseliweran menge...\n",
              "\n",
              "[100 rows x 1 columns]"
            ]
          },
          "execution_count": 19,
          "metadata": {},
          "output_type": "execute_result"
        }
      ],
      "source": [
        "df"
      ]
    },
    {
      "cell_type": "code",
      "execution_count": 20,
      "metadata": {
        "id": "T65xLSxwftL7"
      },
      "outputs": [],
      "source": [
        "df.content=df.content.astype(str)"
      ]
    },
    {
      "cell_type": "code",
      "execution_count": 21,
      "metadata": {
        "colab": {
          "base_uri": "https://localhost:8080/",
          "height": 423
        },
        "id": "h6phWYyrf5jW",
        "outputId": "3267b399-5b29-4fa6-bc0c-08ee40a457a2"
      },
      "outputs": [
        {
          "data": {
            "text/html": [
              "<div>\n",
              "<style scoped>\n",
              "    .dataframe tbody tr th:only-of-type {\n",
              "        vertical-align: middle;\n",
              "    }\n",
              "\n",
              "    .dataframe tbody tr th {\n",
              "        vertical-align: top;\n",
              "    }\n",
              "\n",
              "    .dataframe thead th {\n",
              "        text-align: right;\n",
              "    }\n",
              "</style>\n",
              "<table border=\"1\" class=\"dataframe\">\n",
              "  <thead>\n",
              "    <tr style=\"text-align: right;\">\n",
              "      <th></th>\n",
              "      <th>content</th>\n",
              "    </tr>\n",
              "  </thead>\n",
              "  <tbody>\n",
              "    <tr>\n",
              "      <th>0</th>\n",
              "      <td>@BangPitung_AJW @DokterTifa lah , ibu saya 74 ...</td>\n",
              "    </tr>\n",
              "    <tr>\n",
              "      <th>1</th>\n",
              "      <td>Oleh karena itu, Dewan Perwakilan Rakyat (DPRD...</td>\n",
              "    </tr>\n",
              "    <tr>\n",
              "      <th>2</th>\n",
              "      <td>@_1507chan itu si pelaku menerobos barikade, s...</td>\n",
              "    </tr>\n",
              "    <tr>\n",
              "      <th>3</th>\n",
              "      <td>Bupati Karanganyar: Penolakan Vaksin PMK Sapi ...</td>\n",
              "    </tr>\n",
              "    <tr>\n",
              "      <th>4</th>\n",
              "      <td>vaksin oh vaksin https://t.co/G2D1km3Vux</td>\n",
              "    </tr>\n",
              "    <tr>\n",
              "      <th>...</th>\n",
              "      <td>...</td>\n",
              "    </tr>\n",
              "    <tr>\n",
              "      <th>95</th>\n",
              "      <td>@n_axie Ada vaksin ke utk influenza</td>\n",
              "    </tr>\n",
              "    <tr>\n",
              "      <th>96</th>\n",
              "      <td>@StopPlandemit Ini baru bangun apa gimna ini? ...</td>\n",
              "    </tr>\n",
              "    <tr>\n",
              "      <th>97</th>\n",
              "      <td>@Lisaamartatara4 @DokterTifa @PBIDI @DrEvaChan...</td>\n",
              "    </tr>\n",
              "    <tr>\n",
              "      <th>98</th>\n",
              "      <td>@MprAldo Beh pencerahan nya dong gimana cara m...</td>\n",
              "    </tr>\n",
              "    <tr>\n",
              "      <th>99</th>\n",
              "      <td>@KemenkesRI , banyak berita berseliweran menge...</td>\n",
              "    </tr>\n",
              "  </tbody>\n",
              "</table>\n",
              "<p>100 rows × 1 columns</p>\n",
              "</div>"
            ],
            "text/plain": [
              "                                              content\n",
              "0   @BangPitung_AJW @DokterTifa lah , ibu saya 74 ...\n",
              "1   Oleh karena itu, Dewan Perwakilan Rakyat (DPRD...\n",
              "2   @_1507chan itu si pelaku menerobos barikade, s...\n",
              "3   Bupati Karanganyar: Penolakan Vaksin PMK Sapi ...\n",
              "4            vaksin oh vaksin https://t.co/G2D1km3Vux\n",
              "..                                                ...\n",
              "95                @n_axie Ada vaksin ke utk influenza\n",
              "96  @StopPlandemit Ini baru bangun apa gimna ini? ...\n",
              "97  @Lisaamartatara4 @DokterTifa @PBIDI @DrEvaChan...\n",
              "98  @MprAldo Beh pencerahan nya dong gimana cara m...\n",
              "99  @KemenkesRI , banyak berita berseliweran menge...\n",
              "\n",
              "[100 rows x 1 columns]"
            ]
          },
          "execution_count": 21,
          "metadata": {},
          "output_type": "execute_result"
        }
      ],
      "source": [
        "df"
      ]
    },
    {
      "cell_type": "code",
      "execution_count": 22,
      "metadata": {
        "id": "MrsW4DOof-GD"
      },
      "outputs": [],
      "source": [
        "df.to_csv('dataset/dataset.csv', index=None)"
      ]
    },
    {
      "cell_type": "markdown",
      "metadata": {
        "id": "bJHBfQ-TK-p1"
      },
      "source": [
        "# Day 3 - Data Preparation & Cleaning"
      ]
    },
    {
      "cell_type": "markdown",
      "metadata": {
        "id": "J8-lO_gbLEJr"
      },
      "source": [
        "## Apa itu Data Preparation ? \n",
        "Data Preparation atau bisa disebut juga dengan data preprocessing adalah suatu proses/langkah yang dilakukan untuk membuat data mentah menjadi data yang berkualitas(input yang baik untuk data mining tools)."
      ]
    },
    {
      "cell_type": "markdown",
      "metadata": {
        "id": "ngcmazq8LIo8"
      },
      "source": [
        "## Cleaning atau Proses membersihkan Data\n",
        "Apa itu Data Cleaning? pengertian Data Cleaning/ Data cleansing adalah proses menyiapkan data untuk dilakukan analisis dengan cara menghapus atau memodifikasi data salah, tidak relevan, duplikat, dan tidak terformat."
      ]
    },
    {
      "cell_type": "markdown",
      "metadata": {
        "id": "bo7ttpdwhiel"
      },
      "source": [
        "## Cleaning Data"
      ]
    },
    {
      "cell_type": "code",
      "execution_count": 23,
      "metadata": {
        "id": "fQLh-EKAhguU"
      },
      "outputs": [],
      "source": [
        "import pandas as pd"
      ]
    },
    {
      "cell_type": "code",
      "execution_count": 24,
      "metadata": {
        "id": "4IsyFH0Kh2EG"
      },
      "outputs": [],
      "source": [
        "df = pd.read_csv('dataset/dataset.csv')"
      ]
    },
    {
      "cell_type": "code",
      "execution_count": 25,
      "metadata": {
        "colab": {
          "base_uri": "https://localhost:8080/",
          "height": 417
        },
        "id": "3vLx8bPliIpT",
        "outputId": "faf050d9-0c6c-49c2-a4ed-2c1cd4469e73"
      },
      "outputs": [
        {
          "data": {
            "text/html": [
              "<div>\n",
              "<style scoped>\n",
              "    .dataframe tbody tr th:only-of-type {\n",
              "        vertical-align: middle;\n",
              "    }\n",
              "\n",
              "    .dataframe tbody tr th {\n",
              "        vertical-align: top;\n",
              "    }\n",
              "\n",
              "    .dataframe thead th {\n",
              "        text-align: right;\n",
              "    }\n",
              "</style>\n",
              "<table border=\"1\" class=\"dataframe\">\n",
              "  <thead>\n",
              "    <tr style=\"text-align: right;\">\n",
              "      <th></th>\n",
              "      <th>content</th>\n",
              "    </tr>\n",
              "  </thead>\n",
              "  <tbody>\n",
              "    <tr>\n",
              "      <th>0</th>\n",
              "      <td>@BangPitung_AJW @DokterTifa lah , ibu saya 74 ...</td>\n",
              "    </tr>\n",
              "    <tr>\n",
              "      <th>1</th>\n",
              "      <td>Oleh karena itu, Dewan Perwakilan Rakyat (DPRD...</td>\n",
              "    </tr>\n",
              "    <tr>\n",
              "      <th>2</th>\n",
              "      <td>@_1507chan itu si pelaku menerobos barikade, s...</td>\n",
              "    </tr>\n",
              "    <tr>\n",
              "      <th>3</th>\n",
              "      <td>Bupati Karanganyar: Penolakan Vaksin PMK Sapi ...</td>\n",
              "    </tr>\n",
              "    <tr>\n",
              "      <th>4</th>\n",
              "      <td>vaksin oh vaksin https://t.co/G2D1km3Vux</td>\n",
              "    </tr>\n",
              "    <tr>\n",
              "      <th>...</th>\n",
              "      <td>...</td>\n",
              "    </tr>\n",
              "    <tr>\n",
              "      <th>95</th>\n",
              "      <td>@n_axie Ada vaksin ke utk influenza</td>\n",
              "    </tr>\n",
              "    <tr>\n",
              "      <th>96</th>\n",
              "      <td>@StopPlandemit Ini baru bangun apa gimna ini? ...</td>\n",
              "    </tr>\n",
              "    <tr>\n",
              "      <th>97</th>\n",
              "      <td>@Lisaamartatara4 @DokterTifa @PBIDI @DrEvaChan...</td>\n",
              "    </tr>\n",
              "    <tr>\n",
              "      <th>98</th>\n",
              "      <td>@MprAldo Beh pencerahan nya dong gimana cara m...</td>\n",
              "    </tr>\n",
              "    <tr>\n",
              "      <th>99</th>\n",
              "      <td>@KemenkesRI , banyak berita berseliweran menge...</td>\n",
              "    </tr>\n",
              "  </tbody>\n",
              "</table>\n",
              "<p>100 rows × 1 columns</p>\n",
              "</div>"
            ],
            "text/plain": [
              "                                              content\n",
              "0   @BangPitung_AJW @DokterTifa lah , ibu saya 74 ...\n",
              "1   Oleh karena itu, Dewan Perwakilan Rakyat (DPRD...\n",
              "2   @_1507chan itu si pelaku menerobos barikade, s...\n",
              "3   Bupati Karanganyar: Penolakan Vaksin PMK Sapi ...\n",
              "4            vaksin oh vaksin https://t.co/G2D1km3Vux\n",
              "..                                                ...\n",
              "95                @n_axie Ada vaksin ke utk influenza\n",
              "96  @StopPlandemit Ini baru bangun apa gimna ini? ...\n",
              "97  @Lisaamartatara4 @DokterTifa @PBIDI @DrEvaChan...\n",
              "98  @MprAldo Beh pencerahan nya dong gimana cara m...\n",
              "99  @KemenkesRI , banyak berita berseliweran menge...\n",
              "\n",
              "[100 rows x 1 columns]"
            ]
          },
          "execution_count": 25,
          "metadata": {},
          "output_type": "execute_result"
        }
      ],
      "source": [
        "df"
      ]
    },
    {
      "cell_type": "code",
      "execution_count": 26,
      "metadata": {
        "id": "SWhOIMYDiOQS"
      },
      "outputs": [],
      "source": [
        "#cleaning text\n",
        "import re\n",
        "import string\n",
        "\n",
        "def clean_text(tweet):\n",
        "  tweet = tweet.lower() #membuat text nya menjadi huruf kecil semua\n",
        "  tweet = re.sub('@[^\\s]+', '', tweet) #remove usernames\n",
        "  tweet = re.sub('\\[.*?\\]', '', tweet) #remove square brackets\n",
        "  tweet = re.sub('((www\\.[^\\s]+)|(https?://[^\\s]+))', '', tweet) #remove link/url\n",
        "  tweet = re.sub('[%s]' % re.escape(string.punctuation), '', tweet) #remove karakter/tanda baca yang tidak diperlukan\n",
        "  tweet = re.sub('\\w*\\d\\w*', '', tweet) #remove karakter yang tidak diperlukan\n",
        "  tweet = re.sub('[‘’“”…]', '', tweet) #remove karakter yang tidak diperlukan\n",
        "  tweet = re.sub('\\n', '', tweet) #remove karakter yang tidak diperlukan\n",
        "  return tweet\n",
        "\n",
        "tweet = lambda x: clean_text(x)"
      ]
    },
    {
      "cell_type": "code",
      "execution_count": 27,
      "metadata": {
        "id": "KS7J4QfWj8Ki"
      },
      "outputs": [],
      "source": [
        "df['clean1'] = pd.DataFrame(df.content.apply(tweet))"
      ]
    },
    {
      "cell_type": "code",
      "execution_count": 28,
      "metadata": {
        "colab": {
          "base_uri": "https://localhost:8080/",
          "height": 417
        },
        "id": "dkj3ft9GkUOQ",
        "outputId": "f3e5be53-992e-420f-9c7b-2882914a0af7"
      },
      "outputs": [
        {
          "data": {
            "text/html": [
              "<div>\n",
              "<style scoped>\n",
              "    .dataframe tbody tr th:only-of-type {\n",
              "        vertical-align: middle;\n",
              "    }\n",
              "\n",
              "    .dataframe tbody tr th {\n",
              "        vertical-align: top;\n",
              "    }\n",
              "\n",
              "    .dataframe thead th {\n",
              "        text-align: right;\n",
              "    }\n",
              "</style>\n",
              "<table border=\"1\" class=\"dataframe\">\n",
              "  <thead>\n",
              "    <tr style=\"text-align: right;\">\n",
              "      <th></th>\n",
              "      <th>content</th>\n",
              "      <th>clean1</th>\n",
              "    </tr>\n",
              "  </thead>\n",
              "  <tbody>\n",
              "    <tr>\n",
              "      <th>0</th>\n",
              "      <td>@BangPitung_AJW @DokterTifa lah , ibu saya 74 ...</td>\n",
              "      <td>lah  ibu saya  thn  disuruh vaksin sampai di...</td>\n",
              "    </tr>\n",
              "    <tr>\n",
              "      <th>1</th>\n",
              "      <td>Oleh karena itu, Dewan Perwakilan Rakyat (DPRD...</td>\n",
              "      <td>oleh karena itu dewan perwakilan rakyat dprd k...</td>\n",
              "    </tr>\n",
              "    <tr>\n",
              "      <th>2</th>\n",
              "      <td>@_1507chan itu si pelaku menerobos barikade, s...</td>\n",
              "      <td>itu si pelaku menerobos barikade sudah nyubit...</td>\n",
              "    </tr>\n",
              "    <tr>\n",
              "      <th>3</th>\n",
              "      <td>Bupati Karanganyar: Penolakan Vaksin PMK Sapi ...</td>\n",
              "      <td>bupati karanganyar penolakan vaksin pmk sapi w...</td>\n",
              "    </tr>\n",
              "    <tr>\n",
              "      <th>4</th>\n",
              "      <td>vaksin oh vaksin https://t.co/G2D1km3Vux</td>\n",
              "      <td>vaksin oh vaksin</td>\n",
              "    </tr>\n",
              "    <tr>\n",
              "      <th>...</th>\n",
              "      <td>...</td>\n",
              "      <td>...</td>\n",
              "    </tr>\n",
              "    <tr>\n",
              "      <th>95</th>\n",
              "      <td>@n_axie Ada vaksin ke utk influenza</td>\n",
              "      <td>ada vaksin ke utk influenza</td>\n",
              "    </tr>\n",
              "    <tr>\n",
              "      <th>96</th>\n",
              "      <td>@StopPlandemit Ini baru bangun apa gimna ini? ...</td>\n",
              "      <td>ini baru bangun apa gimna ini debat vaksin ud...</td>\n",
              "    </tr>\n",
              "    <tr>\n",
              "      <th>97</th>\n",
              "      <td>@Lisaamartatara4 @DokterTifa @PBIDI @DrEvaChan...</td>\n",
              "      <td>ya allah smoga  pembuat kebijakan vaksin d...</td>\n",
              "    </tr>\n",
              "    <tr>\n",
              "      <th>98</th>\n",
              "      <td>@MprAldo Beh pencerahan nya dong gimana cara m...</td>\n",
              "      <td>beh pencerahan nya dong gimana cara menolak v...</td>\n",
              "    </tr>\n",
              "    <tr>\n",
              "      <th>99</th>\n",
              "      <td>@KemenkesRI , banyak berita berseliweran menge...</td>\n",
              "      <td>banyak berita berseliweran mengenai efek sam...</td>\n",
              "    </tr>\n",
              "  </tbody>\n",
              "</table>\n",
              "<p>100 rows × 2 columns</p>\n",
              "</div>"
            ],
            "text/plain": [
              "                                              content  \\\n",
              "0   @BangPitung_AJW @DokterTifa lah , ibu saya 74 ...   \n",
              "1   Oleh karena itu, Dewan Perwakilan Rakyat (DPRD...   \n",
              "2   @_1507chan itu si pelaku menerobos barikade, s...   \n",
              "3   Bupati Karanganyar: Penolakan Vaksin PMK Sapi ...   \n",
              "4            vaksin oh vaksin https://t.co/G2D1km3Vux   \n",
              "..                                                ...   \n",
              "95                @n_axie Ada vaksin ke utk influenza   \n",
              "96  @StopPlandemit Ini baru bangun apa gimna ini? ...   \n",
              "97  @Lisaamartatara4 @DokterTifa @PBIDI @DrEvaChan...   \n",
              "98  @MprAldo Beh pencerahan nya dong gimana cara m...   \n",
              "99  @KemenkesRI , banyak berita berseliweran menge...   \n",
              "\n",
              "                                               clean1  \n",
              "0     lah  ibu saya  thn  disuruh vaksin sampai di...  \n",
              "1   oleh karena itu dewan perwakilan rakyat dprd k...  \n",
              "2    itu si pelaku menerobos barikade sudah nyubit...  \n",
              "3   bupati karanganyar penolakan vaksin pmk sapi w...  \n",
              "4                                   vaksin oh vaksin   \n",
              "..                                                ...  \n",
              "95                        ada vaksin ke utk influenza  \n",
              "96   ini baru bangun apa gimna ini debat vaksin ud...  \n",
              "97      ya allah smoga  pembuat kebijakan vaksin d...  \n",
              "98   beh pencerahan nya dong gimana cara menolak v...  \n",
              "99    banyak berita berseliweran mengenai efek sam...  \n",
              "\n",
              "[100 rows x 2 columns]"
            ]
          },
          "execution_count": 28,
          "metadata": {},
          "output_type": "execute_result"
        }
      ],
      "source": [
        "df"
      ]
    },
    {
      "cell_type": "code",
      "execution_count": 29,
      "metadata": {
        "colab": {
          "base_uri": "https://localhost:8080/"
        },
        "id": "VaUpu7cWke1U",
        "outputId": "1f388351-8f80-4876-c60e-c1541c2de2e9"
      },
      "outputs": [
        {
          "name": "stderr",
          "output_type": "stream",
          "text": [
            "[nltk_data] Downloading package stopwords to\n",
            "[nltk_data]     C:\\Users\\fandl\\AppData\\Roaming\\nltk_data...\n",
            "[nltk_data]   Package stopwords is already up-to-date!\n"
          ]
        }
      ],
      "source": [
        "import nltk\n",
        "nltk.download('stopwords')\n",
        "from nltk.corpus import stopwords\n",
        "additional = ['rt', 'rts', 'retweet']\n",
        "swords = set().union(stopwords.words('indonesian'), additional)\n",
        "\n",
        "df['clean2'] = (df['clean1'].apply(lambda x: ' '.join([word for word in x.split() if word not in (swords)])))"
      ]
    },
    {
      "cell_type": "code",
      "execution_count": 30,
      "metadata": {
        "colab": {
          "base_uri": "https://localhost:8080/",
          "height": 417
        },
        "id": "AnFtXTKml216",
        "outputId": "f72b5322-0b45-4fc7-b603-e4d01ce8780d"
      },
      "outputs": [
        {
          "data": {
            "text/html": [
              "<div>\n",
              "<style scoped>\n",
              "    .dataframe tbody tr th:only-of-type {\n",
              "        vertical-align: middle;\n",
              "    }\n",
              "\n",
              "    .dataframe tbody tr th {\n",
              "        vertical-align: top;\n",
              "    }\n",
              "\n",
              "    .dataframe thead th {\n",
              "        text-align: right;\n",
              "    }\n",
              "</style>\n",
              "<table border=\"1\" class=\"dataframe\">\n",
              "  <thead>\n",
              "    <tr style=\"text-align: right;\">\n",
              "      <th></th>\n",
              "      <th>content</th>\n",
              "      <th>clean1</th>\n",
              "      <th>clean2</th>\n",
              "    </tr>\n",
              "  </thead>\n",
              "  <tbody>\n",
              "    <tr>\n",
              "      <th>0</th>\n",
              "      <td>@BangPitung_AJW @DokterTifa lah , ibu saya 74 ...</td>\n",
              "      <td>lah  ibu saya  thn  disuruh vaksin sampai di...</td>\n",
              "      <td>thn disuruh vaksin</td>\n",
              "    </tr>\n",
              "    <tr>\n",
              "      <th>1</th>\n",
              "      <td>Oleh karena itu, Dewan Perwakilan Rakyat (DPRD...</td>\n",
              "      <td>oleh karena itu dewan perwakilan rakyat dprd k...</td>\n",
              "      <td>dewan perwakilan rakyat dprd kota semarang men...</td>\n",
              "    </tr>\n",
              "    <tr>\n",
              "      <th>2</th>\n",
              "      <td>@_1507chan itu si pelaku menerobos barikade, s...</td>\n",
              "      <td>itu si pelaku menerobos barikade sudah nyubit...</td>\n",
              "      <td>si pelaku menerobos barikade nyubit dedek berh...</td>\n",
              "    </tr>\n",
              "    <tr>\n",
              "      <th>3</th>\n",
              "      <td>Bupati Karanganyar: Penolakan Vaksin PMK Sapi ...</td>\n",
              "      <td>bupati karanganyar penolakan vaksin pmk sapi w...</td>\n",
              "      <td>bupati karanganyar penolakan vaksin pmk sapi w...</td>\n",
              "    </tr>\n",
              "    <tr>\n",
              "      <th>4</th>\n",
              "      <td>vaksin oh vaksin https://t.co/G2D1km3Vux</td>\n",
              "      <td>vaksin oh vaksin</td>\n",
              "      <td>vaksin oh vaksin</td>\n",
              "    </tr>\n",
              "    <tr>\n",
              "      <th>...</th>\n",
              "      <td>...</td>\n",
              "      <td>...</td>\n",
              "      <td>...</td>\n",
              "    </tr>\n",
              "    <tr>\n",
              "      <th>95</th>\n",
              "      <td>@n_axie Ada vaksin ke utk influenza</td>\n",
              "      <td>ada vaksin ke utk influenza</td>\n",
              "      <td>vaksin utk influenza</td>\n",
              "    </tr>\n",
              "    <tr>\n",
              "      <th>96</th>\n",
              "      <td>@StopPlandemit Ini baru bangun apa gimna ini? ...</td>\n",
              "      <td>ini baru bangun apa gimna ini debat vaksin ud...</td>\n",
              "      <td>bangun gimna debat vaksin udah nongol mengulang 😅</td>\n",
              "    </tr>\n",
              "    <tr>\n",
              "      <th>97</th>\n",
              "      <td>@Lisaamartatara4 @DokterTifa @PBIDI @DrEvaChan...</td>\n",
              "      <td>ya allah smoga  pembuat kebijakan vaksin d...</td>\n",
              "      <td>ya allah smoga pembuat kebijakan vaksin negri ...</td>\n",
              "    </tr>\n",
              "    <tr>\n",
              "      <th>98</th>\n",
              "      <td>@MprAldo Beh pencerahan nya dong gimana cara m...</td>\n",
              "      <td>beh pencerahan nya dong gimana cara menolak v...</td>\n",
              "      <td>beh pencerahan nya gimana menolak vaksin klo t...</td>\n",
              "    </tr>\n",
              "    <tr>\n",
              "      <th>99</th>\n",
              "      <td>@KemenkesRI , banyak berita berseliweran menge...</td>\n",
              "      <td>banyak berita berseliweran mengenai efek sam...</td>\n",
              "      <td>berita berseliweran efek samping vaksin pfizer...</td>\n",
              "    </tr>\n",
              "  </tbody>\n",
              "</table>\n",
              "<p>100 rows × 3 columns</p>\n",
              "</div>"
            ],
            "text/plain": [
              "                                              content  \\\n",
              "0   @BangPitung_AJW @DokterTifa lah , ibu saya 74 ...   \n",
              "1   Oleh karena itu, Dewan Perwakilan Rakyat (DPRD...   \n",
              "2   @_1507chan itu si pelaku menerobos barikade, s...   \n",
              "3   Bupati Karanganyar: Penolakan Vaksin PMK Sapi ...   \n",
              "4            vaksin oh vaksin https://t.co/G2D1km3Vux   \n",
              "..                                                ...   \n",
              "95                @n_axie Ada vaksin ke utk influenza   \n",
              "96  @StopPlandemit Ini baru bangun apa gimna ini? ...   \n",
              "97  @Lisaamartatara4 @DokterTifa @PBIDI @DrEvaChan...   \n",
              "98  @MprAldo Beh pencerahan nya dong gimana cara m...   \n",
              "99  @KemenkesRI , banyak berita berseliweran menge...   \n",
              "\n",
              "                                               clean1  \\\n",
              "0     lah  ibu saya  thn  disuruh vaksin sampai di...   \n",
              "1   oleh karena itu dewan perwakilan rakyat dprd k...   \n",
              "2    itu si pelaku menerobos barikade sudah nyubit...   \n",
              "3   bupati karanganyar penolakan vaksin pmk sapi w...   \n",
              "4                                   vaksin oh vaksin    \n",
              "..                                                ...   \n",
              "95                        ada vaksin ke utk influenza   \n",
              "96   ini baru bangun apa gimna ini debat vaksin ud...   \n",
              "97      ya allah smoga  pembuat kebijakan vaksin d...   \n",
              "98   beh pencerahan nya dong gimana cara menolak v...   \n",
              "99    banyak berita berseliweran mengenai efek sam...   \n",
              "\n",
              "                                               clean2  \n",
              "0                                  thn disuruh vaksin  \n",
              "1   dewan perwakilan rakyat dprd kota semarang men...  \n",
              "2   si pelaku menerobos barikade nyubit dedek berh...  \n",
              "3   bupati karanganyar penolakan vaksin pmk sapi w...  \n",
              "4                                    vaksin oh vaksin  \n",
              "..                                                ...  \n",
              "95                               vaksin utk influenza  \n",
              "96  bangun gimna debat vaksin udah nongol mengulang 😅  \n",
              "97  ya allah smoga pembuat kebijakan vaksin negri ...  \n",
              "98  beh pencerahan nya gimana menolak vaksin klo t...  \n",
              "99  berita berseliweran efek samping vaksin pfizer...  \n",
              "\n",
              "[100 rows x 3 columns]"
            ]
          },
          "execution_count": 30,
          "metadata": {},
          "output_type": "execute_result"
        }
      ],
      "source": [
        "df"
      ]
    },
    {
      "cell_type": "code",
      "execution_count": 31,
      "metadata": {
        "id": "Yl_osv9TmBQ2"
      },
      "outputs": [],
      "source": [
        "text = df['clean2']"
      ]
    },
    {
      "cell_type": "code",
      "execution_count": 32,
      "metadata": {
        "colab": {
          "base_uri": "https://localhost:8080/"
        },
        "id": "2trV655BmVJt",
        "outputId": "fc36494e-fdd1-4bbd-9f41-fd63c0530315"
      },
      "outputs": [],
      "source": [
        "# !pip install Sastrawi"
      ]
    },
    {
      "cell_type": "code",
      "execution_count": 33,
      "metadata": {
        "id": "-PR90doEme8Z"
      },
      "outputs": [],
      "source": [
        "from Sastrawi.Stemmer.StemmerFactory import StemmerFactory\n",
        "\n",
        "factory = StemmerFactory()\n",
        "stemmer = factory.create_stemmer()\n",
        "\n",
        "list_hasil = text\n",
        "\n",
        "output = [(stemmer.stem(token)) for token in list_hasil]"
      ]
    },
    {
      "cell_type": "code",
      "execution_count": 34,
      "metadata": {
        "colab": {
          "base_uri": "https://localhost:8080/"
        },
        "id": "TYVySzLZnU3j",
        "outputId": "0d2f1121-774e-4da7-ed5d-1814dd0706e3"
      },
      "outputs": [
        {
          "data": {
            "text/plain": [
              "['thn suruh vaksin',\n",
              " 'dewan wakil rakyat dprd kota semarang dorong pemkot semarang dinas tani terna melaksankan vaksin hewan ternakkadarlusman ternak harap lapor sehat hewan ternak',\n",
              " 'si laku terobos barikade nyubit dedek hasil jauh',\n",
              " 'bupati karanganyar tolak vaksin pmk sapi wajar',\n",
              " 'vaksin oh vaksin',\n",
              " 'yessss kasih rustiani officially vaksin hpv',\n",
              " 'uang aja kasus anak excited bgt mua beli trs kado gt ga kepake syg anak lungsur anak mending uang aja mayan tuk nambahin biaya vaksin popok',\n",
              " 'orangorang sakit kursi pimpin orangorang sehat suntik vaksin sakit mati',\n",
              " 'dosis vaksin pmk gelontor disnakan situbondo',\n",
              " 'moga punggawa yg bertanggungjawab mandat vaksin ikut satu aamiiin ayuk amin yg berkah jumat sore moga allah kabul',\n",
              " 'beritajabar dosis vaksin pmk habis pemkot depok tunggu tambah pemprov jabarkasuspmkdepok',\n",
              " 'menpan rb tinggal dunia dokter tifa duka saran terima vaksin mrna checkup buluh darah',\n",
              " 'menpan rb tinggal dunia dokter tifa duka saran terima vaksin mrna checkup buluh darah',\n",
              " '',\n",
              " 'imissu yg vaksin booster besok bareng ton',\n",
              " 'kalo dah edit tulis postingan edit kak kalo nggak ya wassalam',\n",
              " 'open adopsi kucing freedunat maret pipup udah litter box karakter bawel doyan makan aktif banget buntut melingker vaksin ya kutu tular induknyalokasi jaksel for more detail langsung yaa',\n",
              " 'kampayekan vaksin nya panggil duluan yme',\n",
              " 'cek',\n",
              " 'abis vaksin pas udah selese dokter bilang pinterr ga nang',\n",
              " 'iya bayar ganti pakan vaksin dll tp yg free adopt',\n",
              " 'ikhlas vaksin nakes gpp',\n",
              " 'halo kak kasih tau dokternyata vitamin abis vaksin gituu',\n",
              " 'ituu merknya vets special kak abis vaksin gitu vitamin dokter btw akh sender',\n",
              " 'gaada deh kak gantung dokter obar kemaren abis suntik obat vaksin kmrn',\n",
              " 'halo kak informasi wna masuk indonesia wajib minimal vaksin bawa visakitaskitap ya sesuai addendum satgas no tks lucas',\n",
              " 'emang kalo abis vaksin booster tuh bikin demam gin ya',\n",
              " 'min atur ppln wna yg masuk indonesia vaksin kali gimana ya',\n",
              " 'nonton konser udah kayak ngantri vaksin rapih banget duduk',\n",
              " 'ora vaksin ora covid sakit musiaman',\n",
              " 'sesak sgt nafas nya',\n",
              " 'duh tenan ora iki mergo vaksinserius nanya',\n",
              " 'capai target ternak sleman suntik vaksin pmk',\n",
              " 'mbak lisa vaksin dgn atg rna risiko thd multiflikasiperkembangbiakan virus rna atg vaksin tsb cegah antibodi yg bentuk atg tsbalhasil efektif',\n",
              " 'nitip sandal',\n",
              " 'kaya nggak diskon deh',\n",
              " 'camat bumiaji terima vaksin pmk',\n",
              " 'vaksin kopit waswas rekanrekan anti mandatory anti vaksin blowup informasi kait wajar manusiawi fakta lapang berhatihatilah',\n",
              " 'dokter tifa gak hoax gak hidup',\n",
              " 'maju lu scoups gua udah vaksin',\n",
              " 'halal vaksin sianida',\n",
              " 'x vaksin kali tular',\n",
              " 'masuk barang pasu',\n",
              " 'yo mosok dolan mbahas gawean tha mas',\n",
              " 'sahiiii ga saacevattt keluarin ga takut udh vaksin',\n",
              " 'beli bensin by apps beli minyak butuh bukti vaksin apps ngurus lapor pensiun ayah udah by apps kadang pikir kasi orang tua ga damping melek teknologi perangkat nya ga pada',\n",
              " 'yuk vaksinjenis vaksin sinovac pfizer astrazeneca vaksin usia atas vaksin booster usia atas',\n",
              " 'vaksin hpv',\n",
              " 'emang seriiiing gitj',\n",
              " 'bukit bintang',\n",
              " 'cemana bilang mama mall kerja',\n",
              " 'blooookkkk',\n",
              " 'iya',\n",
              " 'dokter beneran kaya dokter yg cewek yg ahli vaksin',\n",
              " 'toxic kak ammar',\n",
              " 'dipakekpas males ngejelasin p x l x tmasak sihyaudah klo gapercaya',\n",
              " 'ayo vaksin',\n",
              " 'januari februari booster vaksin udah udah booster pakde putin',\n",
              " 'ganjar tan cepat distribusi vaksin pmk',\n",
              " 'cewek aja neng cowok ya',\n",
              " 'kemarin ngucapin lupa',\n",
              " 'terima kasih orang',\n",
              " 'liat bocil cewe lawuchuu bingiitt yaaabawaannya ken nggendong heu',\n",
              " 'selamat sore kak jalan ka jarak calon tumpang milik sertifikat vaksin dosis tiga booster wajib tunjuk hasil negatif rapid test',\n",
              " 'beh sya lamar kerja surat vaksin beh gmna',\n",
              " 'gk grind abis vaksin',\n",
              " 'satu tugas tangan provinsi pulau riau kepri catat warga suntik vaksin dosis tiga kuat booster orang persen',\n",
              " 'insyaallah pilih vaksin mati',\n",
              " 'bolak rumah nyuruh udah vaksin',\n",
              " 'imunisasi anak nasional vaksin sedia perintah gratis perhati',\n",
              " '',\n",
              " '',\n",
              " 'sertifikat vaksin tiga cantikkk banget',\n",
              " 'buih sibuk indah smart city copras capres phobia dgn narasi agama tp lupa bahaya depan mata intai gokil bener media sukses kecoh duh g yg demo ya tolak mandat vaksin oh iyaaa lupa gw',\n",
              " 'selesai tinggal efek samping vaksin dosis alias brnggggssskkkkk lengan kiri gerak leluasa',\n",
              " 'lha pabrik vaksin gak vaksin',\n",
              " 'jam gin terik banget',\n",
              " 'maju gak lo gue gak takut gue udah vaksin kali',\n",
              " 'rakyat msh yg percaya bhw perintah tdk korban rakyat gk sadar bhw dg naik harga batas beli bahan pokok paksa vaksin kipi guna aplikasi bayar sulit mrk bodoh miskin',\n",
              " 'sblm wacana vaksin covid dah kena covid gak rasa skit apa hg no vaks covid kmrn suami kena covid kali sdh dosis sinovacaku yg rawat prokes gak infeksi tuh yg ktnya covid bahaya mlh yg vaksin yg gampang infeksi',\n",
              " 'babinsa kemlayan damping puskesmas vaksin dosis tniadsuaradiponegorobersamarakyattnikuat',\n",
              " 'lansia rakyat dapet vaksin iya batas anak aja vaksin',\n",
              " 'org yg mabok dogma agama gurun bego tdk pikir situ hidup mrk tau membeci bunuh',\n",
              " 'yes kota batu gelontor dosis vaksin pmk',\n",
              " 'suami bbrp infeksi covid kali vaksin dosis sinovackurawat prokeskami tidur kasur yg samaaku gk vaksin covid trinfeksimau bukti ni fearmonger lha yg gak vaksin sehat',\n",
              " 'paji maju lo gw sertifikat vaksin',\n",
              " 'vaksin campakrubella salah agenda imunisasi anak nasional bian simak jelas dokter alas kejar',\n",
              " 'blm vaksin ya',\n",
              " 'tulis result kirim reslut',\n",
              " 'bpom ri dukung vaksin merah putih daftar daftar izin guna darurat who vaksin merah putih kenal global',\n",
              " 'posisi mulia allah manusia yg turun kualitas manusia jatuh manusia dg kualitas manusia yg serendahrendahnya asfala safilin',\n",
              " 'manusia manusia ada manusia mukarram mulia allah cipta bentuk baik ahsanu taqwim',\n",
              " 'vaksin efektif meminimalisir potensi tular corona',\n",
              " 'sakit bawa ngeri kena comorbid vaksin dr virus yg serang',\n",
              " 'nyimak n no komen aja krn gk vaksin samsek',\n",
              " 'vaksin utk influenza',\n",
              " 'bangun gimna debat vaksin udah nongol ulang',\n",
              " 'ya allah smoga buat bijak vaksin negri kena azab',\n",
              " 'beh cerah nya gimana tolak vaksin klo jaring razia vaksin',\n",
              " 'berita seliwer efek samping vaksin pfizer yg sebab mati utk spy tdk panik masyarakat mohon jelas resmi kemenkes tks cc']"
            ]
          },
          "execution_count": 34,
          "metadata": {},
          "output_type": "execute_result"
        }
      ],
      "source": [
        "output"
      ]
    },
    {
      "cell_type": "code",
      "execution_count": 35,
      "metadata": {
        "id": "zp4wmDZknZE4"
      },
      "outputs": [],
      "source": [
        "df['clean3'] = output"
      ]
    },
    {
      "cell_type": "code",
      "execution_count": 36,
      "metadata": {
        "colab": {
          "base_uri": "https://localhost:8080/",
          "height": 585
        },
        "id": "YOwE3k3rndxR",
        "outputId": "78644637-787b-4b0c-b7b1-dcb63077ca39"
      },
      "outputs": [
        {
          "data": {
            "text/html": [
              "<div>\n",
              "<style scoped>\n",
              "    .dataframe tbody tr th:only-of-type {\n",
              "        vertical-align: middle;\n",
              "    }\n",
              "\n",
              "    .dataframe tbody tr th {\n",
              "        vertical-align: top;\n",
              "    }\n",
              "\n",
              "    .dataframe thead th {\n",
              "        text-align: right;\n",
              "    }\n",
              "</style>\n",
              "<table border=\"1\" class=\"dataframe\">\n",
              "  <thead>\n",
              "    <tr style=\"text-align: right;\">\n",
              "      <th></th>\n",
              "      <th>content</th>\n",
              "      <th>clean1</th>\n",
              "      <th>clean2</th>\n",
              "      <th>clean3</th>\n",
              "    </tr>\n",
              "  </thead>\n",
              "  <tbody>\n",
              "    <tr>\n",
              "      <th>0</th>\n",
              "      <td>@BangPitung_AJW @DokterTifa lah , ibu saya 74 ...</td>\n",
              "      <td>lah  ibu saya  thn  disuruh vaksin sampai di...</td>\n",
              "      <td>thn disuruh vaksin</td>\n",
              "      <td>thn suruh vaksin</td>\n",
              "    </tr>\n",
              "    <tr>\n",
              "      <th>1</th>\n",
              "      <td>Oleh karena itu, Dewan Perwakilan Rakyat (DPRD...</td>\n",
              "      <td>oleh karena itu dewan perwakilan rakyat dprd k...</td>\n",
              "      <td>dewan perwakilan rakyat dprd kota semarang men...</td>\n",
              "      <td>dewan wakil rakyat dprd kota semarang dorong p...</td>\n",
              "    </tr>\n",
              "    <tr>\n",
              "      <th>2</th>\n",
              "      <td>@_1507chan itu si pelaku menerobos barikade, s...</td>\n",
              "      <td>itu si pelaku menerobos barikade sudah nyubit...</td>\n",
              "      <td>si pelaku menerobos barikade nyubit dedek berh...</td>\n",
              "      <td>si laku terobos barikade nyubit dedek hasil jauh</td>\n",
              "    </tr>\n",
              "    <tr>\n",
              "      <th>3</th>\n",
              "      <td>Bupati Karanganyar: Penolakan Vaksin PMK Sapi ...</td>\n",
              "      <td>bupati karanganyar penolakan vaksin pmk sapi w...</td>\n",
              "      <td>bupati karanganyar penolakan vaksin pmk sapi w...</td>\n",
              "      <td>bupati karanganyar tolak vaksin pmk sapi wajar</td>\n",
              "    </tr>\n",
              "    <tr>\n",
              "      <th>4</th>\n",
              "      <td>vaksin oh vaksin https://t.co/G2D1km3Vux</td>\n",
              "      <td>vaksin oh vaksin</td>\n",
              "      <td>vaksin oh vaksin</td>\n",
              "      <td>vaksin oh vaksin</td>\n",
              "    </tr>\n",
              "    <tr>\n",
              "      <th>...</th>\n",
              "      <td>...</td>\n",
              "      <td>...</td>\n",
              "      <td>...</td>\n",
              "      <td>...</td>\n",
              "    </tr>\n",
              "    <tr>\n",
              "      <th>95</th>\n",
              "      <td>@n_axie Ada vaksin ke utk influenza</td>\n",
              "      <td>ada vaksin ke utk influenza</td>\n",
              "      <td>vaksin utk influenza</td>\n",
              "      <td>vaksin utk influenza</td>\n",
              "    </tr>\n",
              "    <tr>\n",
              "      <th>96</th>\n",
              "      <td>@StopPlandemit Ini baru bangun apa gimna ini? ...</td>\n",
              "      <td>ini baru bangun apa gimna ini debat vaksin ud...</td>\n",
              "      <td>bangun gimna debat vaksin udah nongol mengulang 😅</td>\n",
              "      <td>bangun gimna debat vaksin udah nongol ulang</td>\n",
              "    </tr>\n",
              "    <tr>\n",
              "      <th>97</th>\n",
              "      <td>@Lisaamartatara4 @DokterTifa @PBIDI @DrEvaChan...</td>\n",
              "      <td>ya allah smoga  pembuat kebijakan vaksin d...</td>\n",
              "      <td>ya allah smoga pembuat kebijakan vaksin negri ...</td>\n",
              "      <td>ya allah smoga buat bijak vaksin negri kena azab</td>\n",
              "    </tr>\n",
              "    <tr>\n",
              "      <th>98</th>\n",
              "      <td>@MprAldo Beh pencerahan nya dong gimana cara m...</td>\n",
              "      <td>beh pencerahan nya dong gimana cara menolak v...</td>\n",
              "      <td>beh pencerahan nya gimana menolak vaksin klo t...</td>\n",
              "      <td>beh cerah nya gimana tolak vaksin klo jaring r...</td>\n",
              "    </tr>\n",
              "    <tr>\n",
              "      <th>99</th>\n",
              "      <td>@KemenkesRI , banyak berita berseliweran menge...</td>\n",
              "      <td>banyak berita berseliweran mengenai efek sam...</td>\n",
              "      <td>berita berseliweran efek samping vaksin pfizer...</td>\n",
              "      <td>berita seliwer efek samping vaksin pfizer yg s...</td>\n",
              "    </tr>\n",
              "  </tbody>\n",
              "</table>\n",
              "<p>100 rows × 4 columns</p>\n",
              "</div>"
            ],
            "text/plain": [
              "                                              content  \\\n",
              "0   @BangPitung_AJW @DokterTifa lah , ibu saya 74 ...   \n",
              "1   Oleh karena itu, Dewan Perwakilan Rakyat (DPRD...   \n",
              "2   @_1507chan itu si pelaku menerobos barikade, s...   \n",
              "3   Bupati Karanganyar: Penolakan Vaksin PMK Sapi ...   \n",
              "4            vaksin oh vaksin https://t.co/G2D1km3Vux   \n",
              "..                                                ...   \n",
              "95                @n_axie Ada vaksin ke utk influenza   \n",
              "96  @StopPlandemit Ini baru bangun apa gimna ini? ...   \n",
              "97  @Lisaamartatara4 @DokterTifa @PBIDI @DrEvaChan...   \n",
              "98  @MprAldo Beh pencerahan nya dong gimana cara m...   \n",
              "99  @KemenkesRI , banyak berita berseliweran menge...   \n",
              "\n",
              "                                               clean1  \\\n",
              "0     lah  ibu saya  thn  disuruh vaksin sampai di...   \n",
              "1   oleh karena itu dewan perwakilan rakyat dprd k...   \n",
              "2    itu si pelaku menerobos barikade sudah nyubit...   \n",
              "3   bupati karanganyar penolakan vaksin pmk sapi w...   \n",
              "4                                   vaksin oh vaksin    \n",
              "..                                                ...   \n",
              "95                        ada vaksin ke utk influenza   \n",
              "96   ini baru bangun apa gimna ini debat vaksin ud...   \n",
              "97      ya allah smoga  pembuat kebijakan vaksin d...   \n",
              "98   beh pencerahan nya dong gimana cara menolak v...   \n",
              "99    banyak berita berseliweran mengenai efek sam...   \n",
              "\n",
              "                                               clean2  \\\n",
              "0                                  thn disuruh vaksin   \n",
              "1   dewan perwakilan rakyat dprd kota semarang men...   \n",
              "2   si pelaku menerobos barikade nyubit dedek berh...   \n",
              "3   bupati karanganyar penolakan vaksin pmk sapi w...   \n",
              "4                                    vaksin oh vaksin   \n",
              "..                                                ...   \n",
              "95                               vaksin utk influenza   \n",
              "96  bangun gimna debat vaksin udah nongol mengulang 😅   \n",
              "97  ya allah smoga pembuat kebijakan vaksin negri ...   \n",
              "98  beh pencerahan nya gimana menolak vaksin klo t...   \n",
              "99  berita berseliweran efek samping vaksin pfizer...   \n",
              "\n",
              "                                               clean3  \n",
              "0                                    thn suruh vaksin  \n",
              "1   dewan wakil rakyat dprd kota semarang dorong p...  \n",
              "2    si laku terobos barikade nyubit dedek hasil jauh  \n",
              "3      bupati karanganyar tolak vaksin pmk sapi wajar  \n",
              "4                                    vaksin oh vaksin  \n",
              "..                                                ...  \n",
              "95                               vaksin utk influenza  \n",
              "96        bangun gimna debat vaksin udah nongol ulang  \n",
              "97   ya allah smoga buat bijak vaksin negri kena azab  \n",
              "98  beh cerah nya gimana tolak vaksin klo jaring r...  \n",
              "99  berita seliwer efek samping vaksin pfizer yg s...  \n",
              "\n",
              "[100 rows x 4 columns]"
            ]
          },
          "execution_count": 36,
          "metadata": {},
          "output_type": "execute_result"
        }
      ],
      "source": [
        "df"
      ]
    },
    {
      "cell_type": "code",
      "execution_count": 37,
      "metadata": {
        "colab": {
          "base_uri": "https://localhost:8080/",
          "height": 585
        },
        "id": "W0Pkk81cnruO",
        "outputId": "b1aa6262-60cf-4cda-84de-94b50f81aa86"
      },
      "outputs": [
        {
          "data": {
            "text/html": [
              "<div>\n",
              "<style scoped>\n",
              "    .dataframe tbody tr th:only-of-type {\n",
              "        vertical-align: middle;\n",
              "    }\n",
              "\n",
              "    .dataframe tbody tr th {\n",
              "        vertical-align: top;\n",
              "    }\n",
              "\n",
              "    .dataframe thead th {\n",
              "        text-align: right;\n",
              "    }\n",
              "</style>\n",
              "<table border=\"1\" class=\"dataframe\">\n",
              "  <thead>\n",
              "    <tr style=\"text-align: right;\">\n",
              "      <th></th>\n",
              "      <th>content</th>\n",
              "      <th>clean1</th>\n",
              "      <th>clean2</th>\n",
              "      <th>clean3</th>\n",
              "    </tr>\n",
              "  </thead>\n",
              "  <tbody>\n",
              "    <tr>\n",
              "      <th>0</th>\n",
              "      <td>@BangPitung_AJW @DokterTifa lah , ibu saya 74 ...</td>\n",
              "      <td>lah  ibu saya  thn  disuruh vaksin sampai di...</td>\n",
              "      <td>thn disuruh vaksin</td>\n",
              "      <td>thn suruh vaksin</td>\n",
              "    </tr>\n",
              "    <tr>\n",
              "      <th>1</th>\n",
              "      <td>Oleh karena itu, Dewan Perwakilan Rakyat (DPRD...</td>\n",
              "      <td>oleh karena itu dewan perwakilan rakyat dprd k...</td>\n",
              "      <td>dewan perwakilan rakyat dprd kota semarang men...</td>\n",
              "      <td>dewan wakil rakyat dprd kota semarang dorong p...</td>\n",
              "    </tr>\n",
              "    <tr>\n",
              "      <th>2</th>\n",
              "      <td>@_1507chan itu si pelaku menerobos barikade, s...</td>\n",
              "      <td>itu si pelaku menerobos barikade sudah nyubit...</td>\n",
              "      <td>si pelaku menerobos barikade nyubit dedek berh...</td>\n",
              "      <td>si laku terobos barikade nyubit dedek hasil jauh</td>\n",
              "    </tr>\n",
              "    <tr>\n",
              "      <th>3</th>\n",
              "      <td>Bupati Karanganyar: Penolakan Vaksin PMK Sapi ...</td>\n",
              "      <td>bupati karanganyar penolakan vaksin pmk sapi w...</td>\n",
              "      <td>bupati karanganyar penolakan vaksin pmk sapi w...</td>\n",
              "      <td>bupati karanganyar tolak vaksin pmk sapi wajar</td>\n",
              "    </tr>\n",
              "    <tr>\n",
              "      <th>4</th>\n",
              "      <td>vaksin oh vaksin https://t.co/G2D1km3Vux</td>\n",
              "      <td>vaksin oh vaksin</td>\n",
              "      <td>vaksin oh vaksin</td>\n",
              "      <td>vaksin oh vaksin</td>\n",
              "    </tr>\n",
              "    <tr>\n",
              "      <th>...</th>\n",
              "      <td>...</td>\n",
              "      <td>...</td>\n",
              "      <td>...</td>\n",
              "      <td>...</td>\n",
              "    </tr>\n",
              "    <tr>\n",
              "      <th>95</th>\n",
              "      <td>@n_axie Ada vaksin ke utk influenza</td>\n",
              "      <td>ada vaksin ke utk influenza</td>\n",
              "      <td>vaksin utk influenza</td>\n",
              "      <td>vaksin utk influenza</td>\n",
              "    </tr>\n",
              "    <tr>\n",
              "      <th>96</th>\n",
              "      <td>@StopPlandemit Ini baru bangun apa gimna ini? ...</td>\n",
              "      <td>ini baru bangun apa gimna ini debat vaksin ud...</td>\n",
              "      <td>bangun gimna debat vaksin udah nongol mengulang 😅</td>\n",
              "      <td>bangun gimna debat vaksin udah nongol ulang</td>\n",
              "    </tr>\n",
              "    <tr>\n",
              "      <th>97</th>\n",
              "      <td>@Lisaamartatara4 @DokterTifa @PBIDI @DrEvaChan...</td>\n",
              "      <td>ya allah smoga  pembuat kebijakan vaksin d...</td>\n",
              "      <td>ya allah smoga pembuat kebijakan vaksin negri ...</td>\n",
              "      <td>ya allah smoga buat bijak vaksin negri kena azab</td>\n",
              "    </tr>\n",
              "    <tr>\n",
              "      <th>98</th>\n",
              "      <td>@MprAldo Beh pencerahan nya dong gimana cara m...</td>\n",
              "      <td>beh pencerahan nya dong gimana cara menolak v...</td>\n",
              "      <td>beh pencerahan nya gimana menolak vaksin klo t...</td>\n",
              "      <td>beh cerah nya gimana tolak vaksin klo jaring r...</td>\n",
              "    </tr>\n",
              "    <tr>\n",
              "      <th>99</th>\n",
              "      <td>@KemenkesRI , banyak berita berseliweran menge...</td>\n",
              "      <td>banyak berita berseliweran mengenai efek sam...</td>\n",
              "      <td>berita berseliweran efek samping vaksin pfizer...</td>\n",
              "      <td>berita seliwer efek samping vaksin pfizer yg s...</td>\n",
              "    </tr>\n",
              "  </tbody>\n",
              "</table>\n",
              "<p>100 rows × 4 columns</p>\n",
              "</div>"
            ],
            "text/plain": [
              "                                              content  \\\n",
              "0   @BangPitung_AJW @DokterTifa lah , ibu saya 74 ...   \n",
              "1   Oleh karena itu, Dewan Perwakilan Rakyat (DPRD...   \n",
              "2   @_1507chan itu si pelaku menerobos barikade, s...   \n",
              "3   Bupati Karanganyar: Penolakan Vaksin PMK Sapi ...   \n",
              "4            vaksin oh vaksin https://t.co/G2D1km3Vux   \n",
              "..                                                ...   \n",
              "95                @n_axie Ada vaksin ke utk influenza   \n",
              "96  @StopPlandemit Ini baru bangun apa gimna ini? ...   \n",
              "97  @Lisaamartatara4 @DokterTifa @PBIDI @DrEvaChan...   \n",
              "98  @MprAldo Beh pencerahan nya dong gimana cara m...   \n",
              "99  @KemenkesRI , banyak berita berseliweran menge...   \n",
              "\n",
              "                                               clean1  \\\n",
              "0     lah  ibu saya  thn  disuruh vaksin sampai di...   \n",
              "1   oleh karena itu dewan perwakilan rakyat dprd k...   \n",
              "2    itu si pelaku menerobos barikade sudah nyubit...   \n",
              "3   bupati karanganyar penolakan vaksin pmk sapi w...   \n",
              "4                                   vaksin oh vaksin    \n",
              "..                                                ...   \n",
              "95                        ada vaksin ke utk influenza   \n",
              "96   ini baru bangun apa gimna ini debat vaksin ud...   \n",
              "97      ya allah smoga  pembuat kebijakan vaksin d...   \n",
              "98   beh pencerahan nya dong gimana cara menolak v...   \n",
              "99    banyak berita berseliweran mengenai efek sam...   \n",
              "\n",
              "                                               clean2  \\\n",
              "0                                  thn disuruh vaksin   \n",
              "1   dewan perwakilan rakyat dprd kota semarang men...   \n",
              "2   si pelaku menerobos barikade nyubit dedek berh...   \n",
              "3   bupati karanganyar penolakan vaksin pmk sapi w...   \n",
              "4                                    vaksin oh vaksin   \n",
              "..                                                ...   \n",
              "95                               vaksin utk influenza   \n",
              "96  bangun gimna debat vaksin udah nongol mengulang 😅   \n",
              "97  ya allah smoga pembuat kebijakan vaksin negri ...   \n",
              "98  beh pencerahan nya gimana menolak vaksin klo t...   \n",
              "99  berita berseliweran efek samping vaksin pfizer...   \n",
              "\n",
              "                                               clean3  \n",
              "0                                    thn suruh vaksin  \n",
              "1   dewan wakil rakyat dprd kota semarang dorong p...  \n",
              "2    si laku terobos barikade nyubit dedek hasil jauh  \n",
              "3      bupati karanganyar tolak vaksin pmk sapi wajar  \n",
              "4                                    vaksin oh vaksin  \n",
              "..                                                ...  \n",
              "95                               vaksin utk influenza  \n",
              "96        bangun gimna debat vaksin udah nongol ulang  \n",
              "97   ya allah smoga buat bijak vaksin negri kena azab  \n",
              "98  beh cerah nya gimana tolak vaksin klo jaring r...  \n",
              "99  berita seliwer efek samping vaksin pfizer yg s...  \n",
              "\n",
              "[100 rows x 4 columns]"
            ]
          },
          "execution_count": 37,
          "metadata": {},
          "output_type": "execute_result"
        }
      ],
      "source": [
        "df.dropna()"
      ]
    },
    {
      "cell_type": "code",
      "execution_count": 38,
      "metadata": {
        "colab": {
          "base_uri": "https://localhost:8080/"
        },
        "id": "qsqiYK7Fn9Kv",
        "outputId": "3a262e15-ff99-4606-a577-c12cb37cc6f9"
      },
      "outputs": [
        {
          "name": "stderr",
          "output_type": "stream",
          "text": [
            "[nltk_data] Downloading package punkt to\n",
            "[nltk_data]     C:\\Users\\fandl\\AppData\\Roaming\\nltk_data...\n",
            "[nltk_data]   Package punkt is already up-to-date!\n"
          ]
        },
        {
          "data": {
            "text/plain": [
              "True"
            ]
          },
          "execution_count": 38,
          "metadata": {},
          "output_type": "execute_result"
        }
      ],
      "source": [
        "nltk.download('punkt')"
      ]
    },
    {
      "cell_type": "code",
      "execution_count": 39,
      "metadata": {
        "id": "ihEjzNLAoOVx"
      },
      "outputs": [],
      "source": [
        "df['tokens'] = pd.DataFrame(df['clean3'].apply(nltk.word_tokenize))"
      ]
    },
    {
      "cell_type": "code",
      "execution_count": 40,
      "metadata": {
        "colab": {
          "base_uri": "https://localhost:8080/",
          "height": 585
        },
        "id": "Zp999XxboWIo",
        "outputId": "35b5bb02-2333-4b6a-ac10-b577aca94fed"
      },
      "outputs": [
        {
          "data": {
            "text/html": [
              "<div>\n",
              "<style scoped>\n",
              "    .dataframe tbody tr th:only-of-type {\n",
              "        vertical-align: middle;\n",
              "    }\n",
              "\n",
              "    .dataframe tbody tr th {\n",
              "        vertical-align: top;\n",
              "    }\n",
              "\n",
              "    .dataframe thead th {\n",
              "        text-align: right;\n",
              "    }\n",
              "</style>\n",
              "<table border=\"1\" class=\"dataframe\">\n",
              "  <thead>\n",
              "    <tr style=\"text-align: right;\">\n",
              "      <th></th>\n",
              "      <th>content</th>\n",
              "      <th>clean1</th>\n",
              "      <th>clean2</th>\n",
              "      <th>clean3</th>\n",
              "      <th>tokens</th>\n",
              "    </tr>\n",
              "  </thead>\n",
              "  <tbody>\n",
              "    <tr>\n",
              "      <th>0</th>\n",
              "      <td>@BangPitung_AJW @DokterTifa lah , ibu saya 74 ...</td>\n",
              "      <td>lah  ibu saya  thn  disuruh vaksin sampai di...</td>\n",
              "      <td>thn disuruh vaksin</td>\n",
              "      <td>thn suruh vaksin</td>\n",
              "      <td>[thn, suruh, vaksin]</td>\n",
              "    </tr>\n",
              "    <tr>\n",
              "      <th>1</th>\n",
              "      <td>Oleh karena itu, Dewan Perwakilan Rakyat (DPRD...</td>\n",
              "      <td>oleh karena itu dewan perwakilan rakyat dprd k...</td>\n",
              "      <td>dewan perwakilan rakyat dprd kota semarang men...</td>\n",
              "      <td>dewan wakil rakyat dprd kota semarang dorong p...</td>\n",
              "      <td>[dewan, wakil, rakyat, dprd, kota, semarang, d...</td>\n",
              "    </tr>\n",
              "    <tr>\n",
              "      <th>2</th>\n",
              "      <td>@_1507chan itu si pelaku menerobos barikade, s...</td>\n",
              "      <td>itu si pelaku menerobos barikade sudah nyubit...</td>\n",
              "      <td>si pelaku menerobos barikade nyubit dedek berh...</td>\n",
              "      <td>si laku terobos barikade nyubit dedek hasil jauh</td>\n",
              "      <td>[si, laku, terobos, barikade, nyubit, dedek, h...</td>\n",
              "    </tr>\n",
              "    <tr>\n",
              "      <th>3</th>\n",
              "      <td>Bupati Karanganyar: Penolakan Vaksin PMK Sapi ...</td>\n",
              "      <td>bupati karanganyar penolakan vaksin pmk sapi w...</td>\n",
              "      <td>bupati karanganyar penolakan vaksin pmk sapi w...</td>\n",
              "      <td>bupati karanganyar tolak vaksin pmk sapi wajar</td>\n",
              "      <td>[bupati, karanganyar, tolak, vaksin, pmk, sapi...</td>\n",
              "    </tr>\n",
              "    <tr>\n",
              "      <th>4</th>\n",
              "      <td>vaksin oh vaksin https://t.co/G2D1km3Vux</td>\n",
              "      <td>vaksin oh vaksin</td>\n",
              "      <td>vaksin oh vaksin</td>\n",
              "      <td>vaksin oh vaksin</td>\n",
              "      <td>[vaksin, oh, vaksin]</td>\n",
              "    </tr>\n",
              "    <tr>\n",
              "      <th>...</th>\n",
              "      <td>...</td>\n",
              "      <td>...</td>\n",
              "      <td>...</td>\n",
              "      <td>...</td>\n",
              "      <td>...</td>\n",
              "    </tr>\n",
              "    <tr>\n",
              "      <th>95</th>\n",
              "      <td>@n_axie Ada vaksin ke utk influenza</td>\n",
              "      <td>ada vaksin ke utk influenza</td>\n",
              "      <td>vaksin utk influenza</td>\n",
              "      <td>vaksin utk influenza</td>\n",
              "      <td>[vaksin, utk, influenza]</td>\n",
              "    </tr>\n",
              "    <tr>\n",
              "      <th>96</th>\n",
              "      <td>@StopPlandemit Ini baru bangun apa gimna ini? ...</td>\n",
              "      <td>ini baru bangun apa gimna ini debat vaksin ud...</td>\n",
              "      <td>bangun gimna debat vaksin udah nongol mengulang 😅</td>\n",
              "      <td>bangun gimna debat vaksin udah nongol ulang</td>\n",
              "      <td>[bangun, gimna, debat, vaksin, udah, nongol, u...</td>\n",
              "    </tr>\n",
              "    <tr>\n",
              "      <th>97</th>\n",
              "      <td>@Lisaamartatara4 @DokterTifa @PBIDI @DrEvaChan...</td>\n",
              "      <td>ya allah smoga  pembuat kebijakan vaksin d...</td>\n",
              "      <td>ya allah smoga pembuat kebijakan vaksin negri ...</td>\n",
              "      <td>ya allah smoga buat bijak vaksin negri kena azab</td>\n",
              "      <td>[ya, allah, smoga, buat, bijak, vaksin, negri,...</td>\n",
              "    </tr>\n",
              "    <tr>\n",
              "      <th>98</th>\n",
              "      <td>@MprAldo Beh pencerahan nya dong gimana cara m...</td>\n",
              "      <td>beh pencerahan nya dong gimana cara menolak v...</td>\n",
              "      <td>beh pencerahan nya gimana menolak vaksin klo t...</td>\n",
              "      <td>beh cerah nya gimana tolak vaksin klo jaring r...</td>\n",
              "      <td>[beh, cerah, nya, gimana, tolak, vaksin, klo, ...</td>\n",
              "    </tr>\n",
              "    <tr>\n",
              "      <th>99</th>\n",
              "      <td>@KemenkesRI , banyak berita berseliweran menge...</td>\n",
              "      <td>banyak berita berseliweran mengenai efek sam...</td>\n",
              "      <td>berita berseliweran efek samping vaksin pfizer...</td>\n",
              "      <td>berita seliwer efek samping vaksin pfizer yg s...</td>\n",
              "      <td>[berita, seliwer, efek, samping, vaksin, pfize...</td>\n",
              "    </tr>\n",
              "  </tbody>\n",
              "</table>\n",
              "<p>100 rows × 5 columns</p>\n",
              "</div>"
            ],
            "text/plain": [
              "                                              content  \\\n",
              "0   @BangPitung_AJW @DokterTifa lah , ibu saya 74 ...   \n",
              "1   Oleh karena itu, Dewan Perwakilan Rakyat (DPRD...   \n",
              "2   @_1507chan itu si pelaku menerobos barikade, s...   \n",
              "3   Bupati Karanganyar: Penolakan Vaksin PMK Sapi ...   \n",
              "4            vaksin oh vaksin https://t.co/G2D1km3Vux   \n",
              "..                                                ...   \n",
              "95                @n_axie Ada vaksin ke utk influenza   \n",
              "96  @StopPlandemit Ini baru bangun apa gimna ini? ...   \n",
              "97  @Lisaamartatara4 @DokterTifa @PBIDI @DrEvaChan...   \n",
              "98  @MprAldo Beh pencerahan nya dong gimana cara m...   \n",
              "99  @KemenkesRI , banyak berita berseliweran menge...   \n",
              "\n",
              "                                               clean1  \\\n",
              "0     lah  ibu saya  thn  disuruh vaksin sampai di...   \n",
              "1   oleh karena itu dewan perwakilan rakyat dprd k...   \n",
              "2    itu si pelaku menerobos barikade sudah nyubit...   \n",
              "3   bupati karanganyar penolakan vaksin pmk sapi w...   \n",
              "4                                   vaksin oh vaksin    \n",
              "..                                                ...   \n",
              "95                        ada vaksin ke utk influenza   \n",
              "96   ini baru bangun apa gimna ini debat vaksin ud...   \n",
              "97      ya allah smoga  pembuat kebijakan vaksin d...   \n",
              "98   beh pencerahan nya dong gimana cara menolak v...   \n",
              "99    banyak berita berseliweran mengenai efek sam...   \n",
              "\n",
              "                                               clean2  \\\n",
              "0                                  thn disuruh vaksin   \n",
              "1   dewan perwakilan rakyat dprd kota semarang men...   \n",
              "2   si pelaku menerobos barikade nyubit dedek berh...   \n",
              "3   bupati karanganyar penolakan vaksin pmk sapi w...   \n",
              "4                                    vaksin oh vaksin   \n",
              "..                                                ...   \n",
              "95                               vaksin utk influenza   \n",
              "96  bangun gimna debat vaksin udah nongol mengulang 😅   \n",
              "97  ya allah smoga pembuat kebijakan vaksin negri ...   \n",
              "98  beh pencerahan nya gimana menolak vaksin klo t...   \n",
              "99  berita berseliweran efek samping vaksin pfizer...   \n",
              "\n",
              "                                               clean3  \\\n",
              "0                                    thn suruh vaksin   \n",
              "1   dewan wakil rakyat dprd kota semarang dorong p...   \n",
              "2    si laku terobos barikade nyubit dedek hasil jauh   \n",
              "3      bupati karanganyar tolak vaksin pmk sapi wajar   \n",
              "4                                    vaksin oh vaksin   \n",
              "..                                                ...   \n",
              "95                               vaksin utk influenza   \n",
              "96        bangun gimna debat vaksin udah nongol ulang   \n",
              "97   ya allah smoga buat bijak vaksin negri kena azab   \n",
              "98  beh cerah nya gimana tolak vaksin klo jaring r...   \n",
              "99  berita seliwer efek samping vaksin pfizer yg s...   \n",
              "\n",
              "                                               tokens  \n",
              "0                                [thn, suruh, vaksin]  \n",
              "1   [dewan, wakil, rakyat, dprd, kota, semarang, d...  \n",
              "2   [si, laku, terobos, barikade, nyubit, dedek, h...  \n",
              "3   [bupati, karanganyar, tolak, vaksin, pmk, sapi...  \n",
              "4                                [vaksin, oh, vaksin]  \n",
              "..                                                ...  \n",
              "95                           [vaksin, utk, influenza]  \n",
              "96  [bangun, gimna, debat, vaksin, udah, nongol, u...  \n",
              "97  [ya, allah, smoga, buat, bijak, vaksin, negri,...  \n",
              "98  [beh, cerah, nya, gimana, tolak, vaksin, klo, ...  \n",
              "99  [berita, seliwer, efek, samping, vaksin, pfize...  \n",
              "\n",
              "[100 rows x 5 columns]"
            ]
          },
          "execution_count": 40,
          "metadata": {},
          "output_type": "execute_result"
        }
      ],
      "source": [
        "df"
      ]
    },
    {
      "cell_type": "markdown",
      "metadata": {
        "id": "CBUP23E5owEz"
      },
      "source": [
        "## translate to english"
      ]
    },
    {
      "cell_type": "code",
      "execution_count": null,
      "metadata": {
        "colab": {
          "base_uri": "https://localhost:8080/"
        },
        "id": "KRdu25Ikozfn",
        "outputId": "75972b88-3e6a-43a0-8731-2f6caf807b78"
      },
      "outputs": [
        {
          "name": "stdout",
          "output_type": "stream",
          "text": [
            "Collecting google_trans_new\n",
            "  Downloading https://files.pythonhosted.org/packages/f9/7b/9f136106dc5824dc98185c97991d3cd9b53e70a197154dd49f7b899128f6/google_trans_new-1.1.9-py3-none-any.whl\n",
            "Installing collected packages: google-trans-new\n",
            "Successfully installed google-trans-new-1.1.9\n"
          ]
        }
      ],
      "source": [
        "!pip install google_trans_new"
      ]
    },
    {
      "cell_type": "code",
      "execution_count": 41,
      "metadata": {},
      "outputs": [
        {
          "name": "stdout",
          "output_type": "stream",
          "text": [
            "Hello China \n"
          ]
        }
      ],
      "source": [
        "from google_trans_new import google_translator  \n",
        "translator = google_translator()  \n",
        "translate_text = translator.translate('สวัสดีจีน',lang_tgt='en')  \n",
        "print(translate_text)"
      ]
    },
    {
      "cell_type": "code",
      "execution_count": 42,
      "metadata": {
        "colab": {
          "base_uri": "https://localhost:8080/"
        },
        "id": "ofrqeSsnpOH1",
        "outputId": "22f1f587-07cc-47be-f5ca-afec9c75ebde"
      },
      "outputs": [
        {
          "data": {
            "text/plain": [
              "['id', 'indonesian']"
            ]
          },
          "execution_count": 42,
          "metadata": {},
          "output_type": "execute_result"
        }
      ],
      "source": [
        "detect_text = translator.detect('apa kabar')  \n",
        "detect_text"
      ]
    },
    {
      "cell_type": "code",
      "execution_count": 43,
      "metadata": {
        "colab": {
          "base_uri": "https://localhost:8080/"
        },
        "id": "5DPI21hFp1vW",
        "outputId": "47895d47-9915-418c-fdcf-187e3a1878ce"
      },
      "outputs": [
        {
          "data": {
            "text/plain": [
              "['en', 'english']"
            ]
          },
          "execution_count": 43,
          "metadata": {},
          "output_type": "execute_result"
        }
      ],
      "source": [
        "detect_text = translator.detect('how are you')  \n",
        "detect_text"
      ]
    },
    {
      "cell_type": "code",
      "execution_count": 44,
      "metadata": {
        "colab": {
          "base_uri": "https://localhost:8080/",
          "height": 35
        },
        "id": "MNnkTzQGpoYR",
        "outputId": "bbbe2f29-ca5c-4f5b-d0f9-98c5d3fa9699"
      },
      "outputs": [
        {
          "data": {
            "text/plain": [
              "'how are you? '"
            ]
          },
          "execution_count": 44,
          "metadata": {},
          "output_type": "execute_result"
        }
      ],
      "source": [
        "translate_text = translator.translate('apa kabar?', lang_tgt='en')\n",
        "translate_text"
      ]
    },
    {
      "cell_type": "code",
      "execution_count": 45,
      "metadata": {
        "id": "ic1gg1iTqAeS"
      },
      "outputs": [],
      "source": [
        "def translate_column(text, target_language):\n",
        "  return translator.translate(text, lang_tgt=target_language)"
      ]
    },
    {
      "cell_type": "code",
      "execution_count": 48,
      "metadata": {
        "id": "ncj7I-rhqRPx"
      },
      "outputs": [],
      "source": [
        "df['clean_english'] = df['clean3'].apply(lambda x: translate_column(x, 'en'))"
      ]
    },
    {
      "cell_type": "code",
      "execution_count": 49,
      "metadata": {
        "colab": {
          "base_uri": "https://localhost:8080/",
          "height": 736
        },
        "id": "Xy9EcI9CqwoW",
        "outputId": "606f9f29-b48e-4286-cc9b-d3eb499e68cd"
      },
      "outputs": [
        {
          "data": {
            "text/html": [
              "<div>\n",
              "<style scoped>\n",
              "    .dataframe tbody tr th:only-of-type {\n",
              "        vertical-align: middle;\n",
              "    }\n",
              "\n",
              "    .dataframe tbody tr th {\n",
              "        vertical-align: top;\n",
              "    }\n",
              "\n",
              "    .dataframe thead th {\n",
              "        text-align: right;\n",
              "    }\n",
              "</style>\n",
              "<table border=\"1\" class=\"dataframe\">\n",
              "  <thead>\n",
              "    <tr style=\"text-align: right;\">\n",
              "      <th></th>\n",
              "      <th>content</th>\n",
              "      <th>clean1</th>\n",
              "      <th>clean2</th>\n",
              "      <th>clean3</th>\n",
              "      <th>tokens</th>\n",
              "      <th>clean_english</th>\n",
              "    </tr>\n",
              "  </thead>\n",
              "  <tbody>\n",
              "    <tr>\n",
              "      <th>0</th>\n",
              "      <td>@BangPitung_AJW @DokterTifa lah , ibu saya 74 ...</td>\n",
              "      <td>lah  ibu saya  thn  disuruh vaksin sampai di...</td>\n",
              "      <td>thn disuruh vaksin</td>\n",
              "      <td>thn suruh vaksin</td>\n",
              "      <td>[thn, suruh, vaksin]</td>\n",
              "      <td>Year told the vaccine</td>\n",
              "    </tr>\n",
              "    <tr>\n",
              "      <th>1</th>\n",
              "      <td>Oleh karena itu, Dewan Perwakilan Rakyat (DPRD...</td>\n",
              "      <td>oleh karena itu dewan perwakilan rakyat dprd k...</td>\n",
              "      <td>dewan perwakilan rakyat dprd kota semarang men...</td>\n",
              "      <td>dewan wakil rakyat dprd kota semarang dorong p...</td>\n",
              "      <td>[dewan, wakil, rakyat, dprd, kota, semarang, d...</td>\n",
              "      <td>Semarang City DPRD Representative Council Enco...</td>\n",
              "    </tr>\n",
              "    <tr>\n",
              "      <th>2</th>\n",
              "      <td>@_1507chan itu si pelaku menerobos barikade, s...</td>\n",
              "      <td>itu si pelaku menerobos barikade sudah nyubit...</td>\n",
              "      <td>si pelaku menerobos barikade nyubit dedek berh...</td>\n",
              "      <td>si laku terobos barikade nyubit dedek hasil jauh</td>\n",
              "      <td>[si, laku, terobos, barikade, nyubit, dedek, h...</td>\n",
              "      <td>The barricade barricade was pinched by the lon...</td>\n",
              "    </tr>\n",
              "    <tr>\n",
              "      <th>3</th>\n",
              "      <td>Bupati Karanganyar: Penolakan Vaksin PMK Sapi ...</td>\n",
              "      <td>bupati karanganyar penolakan vaksin pmk sapi w...</td>\n",
              "      <td>bupati karanganyar penolakan vaksin pmk sapi w...</td>\n",
              "      <td>bupati karanganyar tolak vaksin pmk sapi wajar</td>\n",
              "      <td>[bupati, karanganyar, tolak, vaksin, pmk, sapi...</td>\n",
              "      <td>Karanganyar Regent Rejects the PMK Cow Vaccine...</td>\n",
              "    </tr>\n",
              "    <tr>\n",
              "      <th>4</th>\n",
              "      <td>vaksin oh vaksin https://t.co/G2D1km3Vux</td>\n",
              "      <td>vaksin oh vaksin</td>\n",
              "      <td>vaksin oh vaksin</td>\n",
              "      <td>vaksin oh vaksin</td>\n",
              "      <td>[vaksin, oh, vaksin]</td>\n",
              "      <td>OH vaccine vaccine</td>\n",
              "    </tr>\n",
              "    <tr>\n",
              "      <th>...</th>\n",
              "      <td>...</td>\n",
              "      <td>...</td>\n",
              "      <td>...</td>\n",
              "      <td>...</td>\n",
              "      <td>...</td>\n",
              "      <td>...</td>\n",
              "    </tr>\n",
              "    <tr>\n",
              "      <th>95</th>\n",
              "      <td>@n_axie Ada vaksin ke utk influenza</td>\n",
              "      <td>ada vaksin ke utk influenza</td>\n",
              "      <td>vaksin utk influenza</td>\n",
              "      <td>vaksin utk influenza</td>\n",
              "      <td>[vaksin, utk, influenza]</td>\n",
              "      <td>vaccine for influenza</td>\n",
              "    </tr>\n",
              "    <tr>\n",
              "      <th>96</th>\n",
              "      <td>@StopPlandemit Ini baru bangun apa gimna ini? ...</td>\n",
              "      <td>ini baru bangun apa gimna ini debat vaksin ud...</td>\n",
              "      <td>bangun gimna debat vaksin udah nongol mengulang 😅</td>\n",
              "      <td>bangun gimna debat vaksin udah nongol ulang</td>\n",
              "      <td>[bangun, gimna, debat, vaksin, udah, nongol, u...</td>\n",
              "      <td>wake up the vaccine debate game has appeared</td>\n",
              "    </tr>\n",
              "    <tr>\n",
              "      <th>97</th>\n",
              "      <td>@Lisaamartatara4 @DokterTifa @PBIDI @DrEvaChan...</td>\n",
              "      <td>ya allah smoga  pembuat kebijakan vaksin d...</td>\n",
              "      <td>ya allah smoga pembuat kebijakan vaksin negri ...</td>\n",
              "      <td>ya allah smoga buat bijak vaksin negri kena azab</td>\n",
              "      <td>[ya, allah, smoga, buat, bijak, vaksin, negri,...</td>\n",
              "      <td>Oh God may you make the country wise to be pun...</td>\n",
              "    </tr>\n",
              "    <tr>\n",
              "      <th>98</th>\n",
              "      <td>@MprAldo Beh pencerahan nya dong gimana cara m...</td>\n",
              "      <td>beh pencerahan nya dong gimana cara menolak v...</td>\n",
              "      <td>beh pencerahan nya gimana menolak vaksin klo t...</td>\n",
              "      <td>beh cerah nya gimana tolak vaksin klo jaring r...</td>\n",
              "      <td>[beh, cerah, nya, gimana, tolak, vaksin, klo, ...</td>\n",
              "      <td>Beh is bright, how do you reject the vaccine i...</td>\n",
              "    </tr>\n",
              "    <tr>\n",
              "      <th>99</th>\n",
              "      <td>@KemenkesRI , banyak berita berseliweran menge...</td>\n",
              "      <td>banyak berita berseliweran mengenai efek sam...</td>\n",
              "      <td>berita berseliweran efek samping vaksin pfizer...</td>\n",
              "      <td>berita seliwer efek samping vaksin pfizer yg s...</td>\n",
              "      <td>[berita, seliwer, efek, samping, vaksin, pfize...</td>\n",
              "      <td>News of Seliwer Side Effects of Pfizer Vaccine...</td>\n",
              "    </tr>\n",
              "  </tbody>\n",
              "</table>\n",
              "<p>100 rows × 6 columns</p>\n",
              "</div>"
            ],
            "text/plain": [
              "                                              content  \\\n",
              "0   @BangPitung_AJW @DokterTifa lah , ibu saya 74 ...   \n",
              "1   Oleh karena itu, Dewan Perwakilan Rakyat (DPRD...   \n",
              "2   @_1507chan itu si pelaku menerobos barikade, s...   \n",
              "3   Bupati Karanganyar: Penolakan Vaksin PMK Sapi ...   \n",
              "4            vaksin oh vaksin https://t.co/G2D1km3Vux   \n",
              "..                                                ...   \n",
              "95                @n_axie Ada vaksin ke utk influenza   \n",
              "96  @StopPlandemit Ini baru bangun apa gimna ini? ...   \n",
              "97  @Lisaamartatara4 @DokterTifa @PBIDI @DrEvaChan...   \n",
              "98  @MprAldo Beh pencerahan nya dong gimana cara m...   \n",
              "99  @KemenkesRI , banyak berita berseliweran menge...   \n",
              "\n",
              "                                               clean1  \\\n",
              "0     lah  ibu saya  thn  disuruh vaksin sampai di...   \n",
              "1   oleh karena itu dewan perwakilan rakyat dprd k...   \n",
              "2    itu si pelaku menerobos barikade sudah nyubit...   \n",
              "3   bupati karanganyar penolakan vaksin pmk sapi w...   \n",
              "4                                   vaksin oh vaksin    \n",
              "..                                                ...   \n",
              "95                        ada vaksin ke utk influenza   \n",
              "96   ini baru bangun apa gimna ini debat vaksin ud...   \n",
              "97      ya allah smoga  pembuat kebijakan vaksin d...   \n",
              "98   beh pencerahan nya dong gimana cara menolak v...   \n",
              "99    banyak berita berseliweran mengenai efek sam...   \n",
              "\n",
              "                                               clean2  \\\n",
              "0                                  thn disuruh vaksin   \n",
              "1   dewan perwakilan rakyat dprd kota semarang men...   \n",
              "2   si pelaku menerobos barikade nyubit dedek berh...   \n",
              "3   bupati karanganyar penolakan vaksin pmk sapi w...   \n",
              "4                                    vaksin oh vaksin   \n",
              "..                                                ...   \n",
              "95                               vaksin utk influenza   \n",
              "96  bangun gimna debat vaksin udah nongol mengulang 😅   \n",
              "97  ya allah smoga pembuat kebijakan vaksin negri ...   \n",
              "98  beh pencerahan nya gimana menolak vaksin klo t...   \n",
              "99  berita berseliweran efek samping vaksin pfizer...   \n",
              "\n",
              "                                               clean3  \\\n",
              "0                                    thn suruh vaksin   \n",
              "1   dewan wakil rakyat dprd kota semarang dorong p...   \n",
              "2    si laku terobos barikade nyubit dedek hasil jauh   \n",
              "3      bupati karanganyar tolak vaksin pmk sapi wajar   \n",
              "4                                    vaksin oh vaksin   \n",
              "..                                                ...   \n",
              "95                               vaksin utk influenza   \n",
              "96        bangun gimna debat vaksin udah nongol ulang   \n",
              "97   ya allah smoga buat bijak vaksin negri kena azab   \n",
              "98  beh cerah nya gimana tolak vaksin klo jaring r...   \n",
              "99  berita seliwer efek samping vaksin pfizer yg s...   \n",
              "\n",
              "                                               tokens  \\\n",
              "0                                [thn, suruh, vaksin]   \n",
              "1   [dewan, wakil, rakyat, dprd, kota, semarang, d...   \n",
              "2   [si, laku, terobos, barikade, nyubit, dedek, h...   \n",
              "3   [bupati, karanganyar, tolak, vaksin, pmk, sapi...   \n",
              "4                                [vaksin, oh, vaksin]   \n",
              "..                                                ...   \n",
              "95                           [vaksin, utk, influenza]   \n",
              "96  [bangun, gimna, debat, vaksin, udah, nongol, u...   \n",
              "97  [ya, allah, smoga, buat, bijak, vaksin, negri,...   \n",
              "98  [beh, cerah, nya, gimana, tolak, vaksin, klo, ...   \n",
              "99  [berita, seliwer, efek, samping, vaksin, pfize...   \n",
              "\n",
              "                                        clean_english  \n",
              "0                              Year told the vaccine   \n",
              "1   Semarang City DPRD Representative Council Enco...  \n",
              "2   The barricade barricade was pinched by the lon...  \n",
              "3   Karanganyar Regent Rejects the PMK Cow Vaccine...  \n",
              "4                                 OH vaccine vaccine   \n",
              "..                                                ...  \n",
              "95                             vaccine for influenza   \n",
              "96      wake up the vaccine debate game has appeared   \n",
              "97  Oh God may you make the country wise to be pun...  \n",
              "98  Beh is bright, how do you reject the vaccine i...  \n",
              "99  News of Seliwer Side Effects of Pfizer Vaccine...  \n",
              "\n",
              "[100 rows x 6 columns]"
            ]
          },
          "execution_count": 49,
          "metadata": {},
          "output_type": "execute_result"
        }
      ],
      "source": [
        "df"
      ]
    },
    {
      "cell_type": "code",
      "execution_count": 51,
      "metadata": {
        "id": "cveepkE7q7Zi"
      },
      "outputs": [],
      "source": [
        "df.to_csv('dataset/dataset_clean.csv')"
      ]
    },
    {
      "cell_type": "markdown",
      "metadata": {
        "id": "SXgfA3jsrsBH"
      },
      "source": [
        "# Day 4 - Modelling with unsupervised learning & Visualization"
      ]
    },
    {
      "cell_type": "code",
      "execution_count": null,
      "metadata": {
        "id": "E3kyjY76rzgT"
      },
      "outputs": [],
      "source": [
        "import pandas as pd"
      ]
    },
    {
      "cell_type": "code",
      "execution_count": null,
      "metadata": {
        "id": "UpSrI4hhsFHc"
      },
      "outputs": [],
      "source": [
        "df = pd.read_csv('/content/drive/MyDrive/mini-bootcamp-bisaai/dataset_clean_label.csv')"
      ]
    },
    {
      "cell_type": "code",
      "execution_count": null,
      "metadata": {
        "colab": {
          "base_uri": "https://localhost:8080/",
          "height": 388
        },
        "id": "GiWgp4VVsLG-",
        "outputId": "7b67295e-c0ef-43ac-c1e1-849b3ecd8c25"
      },
      "outputs": [
        {
          "data": {
            "text/html": [
              "<div>\n",
              "<style scoped>\n",
              "    .dataframe tbody tr th:only-of-type {\n",
              "        vertical-align: middle;\n",
              "    }\n",
              "\n",
              "    .dataframe tbody tr th {\n",
              "        vertical-align: top;\n",
              "    }\n",
              "\n",
              "    .dataframe thead th {\n",
              "        text-align: right;\n",
              "    }\n",
              "</style>\n",
              "<table border=\"1\" class=\"dataframe\">\n",
              "  <thead>\n",
              "    <tr style=\"text-align: right;\">\n",
              "      <th></th>\n",
              "      <th>Unnamed: 0</th>\n",
              "      <th>content</th>\n",
              "      <th>clean1</th>\n",
              "      <th>clean2</th>\n",
              "      <th>clean3</th>\n",
              "      <th>tokens</th>\n",
              "      <th>clean_english</th>\n",
              "      <th>label</th>\n",
              "    </tr>\n",
              "  </thead>\n",
              "  <tbody>\n",
              "    <tr>\n",
              "      <th>0</th>\n",
              "      <td>0</td>\n",
              "      <td>@Rakisdianrd loh ngga boleh kak? kemarin ibu a...</td>\n",
              "      <td>loh ngga boleh kak kemarin ibu aku habis vaksin</td>\n",
              "      <td>loh ngga kak kemarin habis vaksin</td>\n",
              "      <td>loh ngga kak kemarin habis vaksin</td>\n",
              "      <td>['loh', 'ngga', 'kak', 'kemarin', 'habis', 'va...</td>\n",
              "      <td>I didn't miss yesterday's vaccine</td>\n",
              "      <td>neutral</td>\n",
              "    </tr>\n",
              "    <tr>\n",
              "      <th>1</th>\n",
              "      <td>1</td>\n",
              "      <td>vaksin gabisa dikasih obat kapsul aja apa? gas...</td>\n",
              "      <td>vaksin gabisa dikasih obat kapsul aja apa gasu...</td>\n",
              "      <td>vaksin gabisa dikasih obat kapsul aja gasuka j...</td>\n",
              "      <td>vaksin gabisa kasih obat kapsul aja gasuka jar...</td>\n",
              "      <td>['vaksin', 'gabisa', 'kasih', 'obat', 'kapsul'...</td>\n",
              "      <td>the vaccine can't give capsule medicine just g...</td>\n",
              "      <td>negative</td>\n",
              "    </tr>\n",
              "    <tr>\n",
              "      <th>2</th>\n",
              "      <td>2</td>\n",
              "      <td>Hari tu pon p cucuk vaksin tempat dia cam deka...</td>\n",
              "      <td>hari tu pon p cucuk vaksin tempat dia cam deka...</td>\n",
              "      <td>tu pon p cucuk vaksin cam concert 😭😭😭😭</td>\n",
              "      <td>tu pon p cucuk vaksin cam concert</td>\n",
              "      <td>['tu', 'pon', 'p', 'cucuk', 'vaksin', 'cam', '...</td>\n",
              "      <td>you pon p cucuk vaksin cam concert</td>\n",
              "      <td>neutral</td>\n",
              "    </tr>\n",
              "    <tr>\n",
              "      <th>3</th>\n",
              "      <td>3</td>\n",
              "      <td>Abis ditelp mama..\\n\\nMom: Gk pulang toh kak? ...</td>\n",
              "      <td>abis ditelp mamamom gk pulang toh kak me gk ma...</td>\n",
              "      <td>abis ditelp mamamom gk pulang kak me gk ma abi...</td>\n",
              "      <td>abis ditelp mamamom gk pulang kak me gk ma abi...</td>\n",
              "      <td>['abis', 'ditelp', 'mamamom', 'gk', 'pulang', ...</td>\n",
              "      <td>Abis Ditelp Mamamom GK Returns to Sis Me Gk Ab...</td>\n",
              "      <td>negative</td>\n",
              "    </tr>\n",
              "    <tr>\n",
              "      <th>4</th>\n",
              "      <td>4</td>\n",
              "      <td>Terus gw bls dong \" kami juga yg udah di vaksi...</td>\n",
              "      <td>terus gw bls dong  kami juga yg udah di vaksin...</td>\n",
              "      <td>gw bls yg udah vaksin hak dilindungi aman yg k...</td>\n",
              "      <td>gw bls yg udah vaksin hak lindung aman yg kera...</td>\n",
              "      <td>['gw', 'bls', 'yg', 'udah', 'vaksin', 'hak', '...</td>\n",
              "      <td>I've bls the vaccine protected rights that are...</td>\n",
              "      <td>negative</td>\n",
              "    </tr>\n",
              "  </tbody>\n",
              "</table>\n",
              "</div>"
            ],
            "text/plain": [
              "   Unnamed: 0  ...     label\n",
              "0           0  ...   neutral\n",
              "1           1  ...  negative\n",
              "2           2  ...   neutral\n",
              "3           3  ...  negative\n",
              "4           4  ...  negative\n",
              "\n",
              "[5 rows x 8 columns]"
            ]
          },
          "execution_count": 3,
          "metadata": {
            "tags": []
          },
          "output_type": "execute_result"
        }
      ],
      "source": [
        "df.head()"
      ]
    },
    {
      "cell_type": "code",
      "execution_count": null,
      "metadata": {
        "colab": {
          "base_uri": "https://localhost:8080/",
          "height": 786
        },
        "id": "iG9PNZn9sP2x",
        "outputId": "d076eb23-2430-48ed-e1f2-34ea070b14ff"
      },
      "outputs": [
        {
          "data": {
            "text/html": [
              "<div>\n",
              "<style scoped>\n",
              "    .dataframe tbody tr th:only-of-type {\n",
              "        vertical-align: middle;\n",
              "    }\n",
              "\n",
              "    .dataframe tbody tr th {\n",
              "        vertical-align: top;\n",
              "    }\n",
              "\n",
              "    .dataframe thead th {\n",
              "        text-align: right;\n",
              "    }\n",
              "</style>\n",
              "<table border=\"1\" class=\"dataframe\">\n",
              "  <thead>\n",
              "    <tr style=\"text-align: right;\">\n",
              "      <th></th>\n",
              "      <th>Unnamed: 0</th>\n",
              "      <th>content</th>\n",
              "      <th>clean1</th>\n",
              "      <th>clean2</th>\n",
              "      <th>clean3</th>\n",
              "      <th>tokens</th>\n",
              "      <th>clean_english</th>\n",
              "      <th>label</th>\n",
              "    </tr>\n",
              "  </thead>\n",
              "  <tbody>\n",
              "    <tr>\n",
              "      <th>0</th>\n",
              "      <td>0</td>\n",
              "      <td>@Rakisdianrd loh ngga boleh kak? kemarin ibu a...</td>\n",
              "      <td>loh ngga boleh kak kemarin ibu aku habis vaksin</td>\n",
              "      <td>loh ngga kak kemarin habis vaksin</td>\n",
              "      <td>loh ngga kak kemarin habis vaksin</td>\n",
              "      <td>['loh', 'ngga', 'kak', 'kemarin', 'habis', 'va...</td>\n",
              "      <td>I didn't miss yesterday's vaccine</td>\n",
              "      <td>neutral</td>\n",
              "    </tr>\n",
              "    <tr>\n",
              "      <th>1</th>\n",
              "      <td>1</td>\n",
              "      <td>vaksin gabisa dikasih obat kapsul aja apa? gas...</td>\n",
              "      <td>vaksin gabisa dikasih obat kapsul aja apa gasu...</td>\n",
              "      <td>vaksin gabisa dikasih obat kapsul aja gasuka j...</td>\n",
              "      <td>vaksin gabisa kasih obat kapsul aja gasuka jar...</td>\n",
              "      <td>['vaksin', 'gabisa', 'kasih', 'obat', 'kapsul'...</td>\n",
              "      <td>the vaccine can't give capsule medicine just g...</td>\n",
              "      <td>negative</td>\n",
              "    </tr>\n",
              "    <tr>\n",
              "      <th>2</th>\n",
              "      <td>2</td>\n",
              "      <td>Hari tu pon p cucuk vaksin tempat dia cam deka...</td>\n",
              "      <td>hari tu pon p cucuk vaksin tempat dia cam deka...</td>\n",
              "      <td>tu pon p cucuk vaksin cam concert 😭😭😭😭</td>\n",
              "      <td>tu pon p cucuk vaksin cam concert</td>\n",
              "      <td>['tu', 'pon', 'p', 'cucuk', 'vaksin', 'cam', '...</td>\n",
              "      <td>you pon p cucuk vaksin cam concert</td>\n",
              "      <td>neutral</td>\n",
              "    </tr>\n",
              "    <tr>\n",
              "      <th>3</th>\n",
              "      <td>3</td>\n",
              "      <td>Abis ditelp mama..\\n\\nMom: Gk pulang toh kak? ...</td>\n",
              "      <td>abis ditelp mamamom gk pulang toh kak me gk ma...</td>\n",
              "      <td>abis ditelp mamamom gk pulang kak me gk ma abi...</td>\n",
              "      <td>abis ditelp mamamom gk pulang kak me gk ma abi...</td>\n",
              "      <td>['abis', 'ditelp', 'mamamom', 'gk', 'pulang', ...</td>\n",
              "      <td>Abis Ditelp Mamamom GK Returns to Sis Me Gk Ab...</td>\n",
              "      <td>negative</td>\n",
              "    </tr>\n",
              "    <tr>\n",
              "      <th>4</th>\n",
              "      <td>4</td>\n",
              "      <td>Terus gw bls dong \" kami juga yg udah di vaksi...</td>\n",
              "      <td>terus gw bls dong  kami juga yg udah di vaksin...</td>\n",
              "      <td>gw bls yg udah vaksin hak dilindungi aman yg k...</td>\n",
              "      <td>gw bls yg udah vaksin hak lindung aman yg kera...</td>\n",
              "      <td>['gw', 'bls', 'yg', 'udah', 'vaksin', 'hak', '...</td>\n",
              "      <td>I've bls the vaccine protected rights that are...</td>\n",
              "      <td>negative</td>\n",
              "    </tr>\n",
              "    <tr>\n",
              "      <th>...</th>\n",
              "      <td>...</td>\n",
              "      <td>...</td>\n",
              "      <td>...</td>\n",
              "      <td>...</td>\n",
              "      <td>...</td>\n",
              "      <td>...</td>\n",
              "      <td>...</td>\n",
              "      <td>...</td>\n",
              "    </tr>\n",
              "    <tr>\n",
              "      <th>95</th>\n",
              "      <td>95</td>\n",
              "      <td>Btw ada yg bilang \" say no to vaksin\". Plis ba...</td>\n",
              "      <td>btw ada yg bilang  say no to vaksin plis bange...</td>\n",
              "      <td>btw yg bilang say no to vaksin plis banget kag...</td>\n",
              "      <td>btw yg bilang say no to vaksin plis banget kag...</td>\n",
              "      <td>['btw', 'yg', 'bilang', 'say', 'no', 'to', 'va...</td>\n",
              "      <td>btw who says say no to vaccine because it's re...</td>\n",
              "      <td>positive</td>\n",
              "    </tr>\n",
              "    <tr>\n",
              "      <th>96</th>\n",
              "      <td>96</td>\n",
              "      <td>@aimaanz Wehh asal do demam teruk tetiba? Cucu...</td>\n",
              "      <td>wehh asal do demam teruk tetiba cucuk vaksin ke</td>\n",
              "      <td>wehh do demam teruk tetiba cucuk vaksin</td>\n",
              "      <td>wehh do demam teruk tetiba cucuk vaksin</td>\n",
              "      <td>['wehh', 'do', 'demam', 'teruk', 'tetiba', 'cu...</td>\n",
              "      <td>wehh do severe fever fever tilib</td>\n",
              "      <td>negative</td>\n",
              "    </tr>\n",
              "    <tr>\n",
              "      <th>97</th>\n",
              "      <td>97</td>\n",
              "      <td>mereka yg sudah di vaksin juga akan mau kalau ...</td>\n",
              "      <td>mereka yg sudah di vaksin juga akan mau kalau ...</td>\n",
              "      <td>yg vaksin pasang chip the mark of the beast da...</td>\n",
              "      <td>yg vaksin pasang chip the mark of the beast da...</td>\n",
              "      <td>['yg', 'vaksin', 'pasang', 'chip', 'the', 'mar...</td>\n",
              "      <td>the vaccine attach the chip the mark of the BE...</td>\n",
              "      <td>negative</td>\n",
              "    </tr>\n",
              "    <tr>\n",
              "      <th>98</th>\n",
              "      <td>98</td>\n",
              "      <td>Serbuan Vaksin Polres Simalungun Laksanakan Di...</td>\n",
              "      <td>serbuan vaksin polres simalungun laksanakan di...</td>\n",
              "      <td>serbuan vaksin polres simalungun laksanakan</td>\n",
              "      <td>serbu vaksin polres simalungun laksana</td>\n",
              "      <td>['serbu', 'vaksin', 'polres', 'simalungun', 'l...</td>\n",
              "      <td>Simalungun Police Vaccine Assault Like</td>\n",
              "      <td>negative</td>\n",
              "    </tr>\n",
              "    <tr>\n",
              "      <th>99</th>\n",
              "      <td>99</td>\n",
              "      <td>tadi pas meeting di kampus dosen nyuruh vaksin...</td>\n",
              "      <td>tadi pas meeting di kampus dosen nyuruh vaksin...</td>\n",
              "      <td>pas meeting kampus dosen nyuruh vaksin rs mump...</td>\n",
              "      <td>pas meeting kampus dosen nyuruh vaksin rs mump...</td>\n",
              "      <td>['pas', 'meeting', 'kampus', 'dosen', 'nyuruh'...</td>\n",
              "      <td>PAS MEETING Campus Lecturer Mengingan Vaccine ...</td>\n",
              "      <td>negative</td>\n",
              "    </tr>\n",
              "  </tbody>\n",
              "</table>\n",
              "<p>100 rows × 8 columns</p>\n",
              "</div>"
            ],
            "text/plain": [
              "    Unnamed: 0  ...     label\n",
              "0            0  ...   neutral\n",
              "1            1  ...  negative\n",
              "2            2  ...   neutral\n",
              "3            3  ...  negative\n",
              "4            4  ...  negative\n",
              "..         ...  ...       ...\n",
              "95          95  ...  positive\n",
              "96          96  ...  negative\n",
              "97          97  ...  negative\n",
              "98          98  ...  negative\n",
              "99          99  ...  negative\n",
              "\n",
              "[100 rows x 8 columns]"
            ]
          },
          "execution_count": 4,
          "metadata": {
            "tags": []
          },
          "output_type": "execute_result"
        }
      ],
      "source": [
        "df "
      ]
    },
    {
      "cell_type": "markdown",
      "metadata": {
        "id": "BPA5YWNksTyX"
      },
      "source": [
        "## Modelling with textblob"
      ]
    },
    {
      "cell_type": "code",
      "execution_count": null,
      "metadata": {
        "id": "s5Zx91UvsXnC"
      },
      "outputs": [],
      "source": [
        "from textblob import TextBlob"
      ]
    },
    {
      "cell_type": "code",
      "execution_count": null,
      "metadata": {
        "id": "Zh_nKPVtstAg"
      },
      "outputs": [],
      "source": [
        "df['clean_english'] = df['clean_english'].astype('str')\n",
        "def get_polarity(text):\n",
        "  return TextBlob(text).sentiment.polarity"
      ]
    },
    {
      "cell_type": "code",
      "execution_count": null,
      "metadata": {
        "id": "_L4G0VDQtKTw"
      },
      "outputs": [],
      "source": [
        "df['polarity'] = df['clean_english'].apply(get_polarity)"
      ]
    },
    {
      "cell_type": "code",
      "execution_count": null,
      "metadata": {
        "colab": {
          "base_uri": "https://localhost:8080/",
          "height": 820
        },
        "id": "xsQOVd0AtUiy",
        "outputId": "baf7e90e-a62b-4b17-eda9-888f63926022"
      },
      "outputs": [
        {
          "data": {
            "text/html": [
              "<div>\n",
              "<style scoped>\n",
              "    .dataframe tbody tr th:only-of-type {\n",
              "        vertical-align: middle;\n",
              "    }\n",
              "\n",
              "    .dataframe tbody tr th {\n",
              "        vertical-align: top;\n",
              "    }\n",
              "\n",
              "    .dataframe thead th {\n",
              "        text-align: right;\n",
              "    }\n",
              "</style>\n",
              "<table border=\"1\" class=\"dataframe\">\n",
              "  <thead>\n",
              "    <tr style=\"text-align: right;\">\n",
              "      <th></th>\n",
              "      <th>Unnamed: 0</th>\n",
              "      <th>content</th>\n",
              "      <th>clean1</th>\n",
              "      <th>clean2</th>\n",
              "      <th>clean3</th>\n",
              "      <th>tokens</th>\n",
              "      <th>clean_english</th>\n",
              "      <th>label</th>\n",
              "      <th>polarity</th>\n",
              "    </tr>\n",
              "  </thead>\n",
              "  <tbody>\n",
              "    <tr>\n",
              "      <th>0</th>\n",
              "      <td>0</td>\n",
              "      <td>@Rakisdianrd loh ngga boleh kak? kemarin ibu a...</td>\n",
              "      <td>loh ngga boleh kak kemarin ibu aku habis vaksin</td>\n",
              "      <td>loh ngga kak kemarin habis vaksin</td>\n",
              "      <td>loh ngga kak kemarin habis vaksin</td>\n",
              "      <td>['loh', 'ngga', 'kak', 'kemarin', 'habis', 'va...</td>\n",
              "      <td>I didn't miss yesterday's vaccine</td>\n",
              "      <td>neutral</td>\n",
              "      <td>0.000000</td>\n",
              "    </tr>\n",
              "    <tr>\n",
              "      <th>1</th>\n",
              "      <td>1</td>\n",
              "      <td>vaksin gabisa dikasih obat kapsul aja apa? gas...</td>\n",
              "      <td>vaksin gabisa dikasih obat kapsul aja apa gasu...</td>\n",
              "      <td>vaksin gabisa dikasih obat kapsul aja gasuka j...</td>\n",
              "      <td>vaksin gabisa kasih obat kapsul aja gasuka jar...</td>\n",
              "      <td>['vaksin', 'gabisa', 'kasih', 'obat', 'kapsul'...</td>\n",
              "      <td>the vaccine can't give capsule medicine just g...</td>\n",
              "      <td>negative</td>\n",
              "      <td>0.000000</td>\n",
              "    </tr>\n",
              "    <tr>\n",
              "      <th>2</th>\n",
              "      <td>2</td>\n",
              "      <td>Hari tu pon p cucuk vaksin tempat dia cam deka...</td>\n",
              "      <td>hari tu pon p cucuk vaksin tempat dia cam deka...</td>\n",
              "      <td>tu pon p cucuk vaksin cam concert 😭😭😭😭</td>\n",
              "      <td>tu pon p cucuk vaksin cam concert</td>\n",
              "      <td>['tu', 'pon', 'p', 'cucuk', 'vaksin', 'cam', '...</td>\n",
              "      <td>you pon p cucuk vaksin cam concert</td>\n",
              "      <td>neutral</td>\n",
              "      <td>0.000000</td>\n",
              "    </tr>\n",
              "    <tr>\n",
              "      <th>3</th>\n",
              "      <td>3</td>\n",
              "      <td>Abis ditelp mama..\\n\\nMom: Gk pulang toh kak? ...</td>\n",
              "      <td>abis ditelp mamamom gk pulang toh kak me gk ma...</td>\n",
              "      <td>abis ditelp mamamom gk pulang kak me gk ma abi...</td>\n",
              "      <td>abis ditelp mamamom gk pulang kak me gk ma abi...</td>\n",
              "      <td>['abis', 'ditelp', 'mamamom', 'gk', 'pulang', ...</td>\n",
              "      <td>Abis Ditelp Mamamom GK Returns to Sis Me Gk Ab...</td>\n",
              "      <td>negative</td>\n",
              "      <td>0.166667</td>\n",
              "    </tr>\n",
              "    <tr>\n",
              "      <th>4</th>\n",
              "      <td>4</td>\n",
              "      <td>Terus gw bls dong \" kami juga yg udah di vaksi...</td>\n",
              "      <td>terus gw bls dong  kami juga yg udah di vaksin...</td>\n",
              "      <td>gw bls yg udah vaksin hak dilindungi aman yg k...</td>\n",
              "      <td>gw bls yg udah vaksin hak lindung aman yg kera...</td>\n",
              "      <td>['gw', 'bls', 'yg', 'udah', 'vaksin', 'hak', '...</td>\n",
              "      <td>I've bls the vaccine protected rights that are...</td>\n",
              "      <td>negative</td>\n",
              "      <td>0.000000</td>\n",
              "    </tr>\n",
              "    <tr>\n",
              "      <th>...</th>\n",
              "      <td>...</td>\n",
              "      <td>...</td>\n",
              "      <td>...</td>\n",
              "      <td>...</td>\n",
              "      <td>...</td>\n",
              "      <td>...</td>\n",
              "      <td>...</td>\n",
              "      <td>...</td>\n",
              "      <td>...</td>\n",
              "    </tr>\n",
              "    <tr>\n",
              "      <th>95</th>\n",
              "      <td>95</td>\n",
              "      <td>Btw ada yg bilang \" say no to vaksin\". Plis ba...</td>\n",
              "      <td>btw ada yg bilang  say no to vaksin plis bange...</td>\n",
              "      <td>btw yg bilang say no to vaksin plis banget kag...</td>\n",
              "      <td>btw yg bilang say no to vaksin plis banget kag...</td>\n",
              "      <td>['btw', 'yg', 'bilang', 'say', 'no', 'to', 'va...</td>\n",
              "      <td>btw who says say no to vaccine because it's re...</td>\n",
              "      <td>positive</td>\n",
              "      <td>-0.100000</td>\n",
              "    </tr>\n",
              "    <tr>\n",
              "      <th>96</th>\n",
              "      <td>96</td>\n",
              "      <td>@aimaanz Wehh asal do demam teruk tetiba? Cucu...</td>\n",
              "      <td>wehh asal do demam teruk tetiba cucuk vaksin ke</td>\n",
              "      <td>wehh do demam teruk tetiba cucuk vaksin</td>\n",
              "      <td>wehh do demam teruk tetiba cucuk vaksin</td>\n",
              "      <td>['wehh', 'do', 'demam', 'teruk', 'tetiba', 'cu...</td>\n",
              "      <td>wehh do severe fever fever tilib</td>\n",
              "      <td>negative</td>\n",
              "      <td>0.000000</td>\n",
              "    </tr>\n",
              "    <tr>\n",
              "      <th>97</th>\n",
              "      <td>97</td>\n",
              "      <td>mereka yg sudah di vaksin juga akan mau kalau ...</td>\n",
              "      <td>mereka yg sudah di vaksin juga akan mau kalau ...</td>\n",
              "      <td>yg vaksin pasang chip the mark of the beast da...</td>\n",
              "      <td>yg vaksin pasang chip the mark of the beast da...</td>\n",
              "      <td>['yg', 'vaksin', 'pasang', 'chip', 'the', 'mar...</td>\n",
              "      <td>the vaccine attach the chip the mark of the BE...</td>\n",
              "      <td>negative</td>\n",
              "      <td>0.000000</td>\n",
              "    </tr>\n",
              "    <tr>\n",
              "      <th>98</th>\n",
              "      <td>98</td>\n",
              "      <td>Serbuan Vaksin Polres Simalungun Laksanakan Di...</td>\n",
              "      <td>serbuan vaksin polres simalungun laksanakan di...</td>\n",
              "      <td>serbuan vaksin polres simalungun laksanakan</td>\n",
              "      <td>serbu vaksin polres simalungun laksana</td>\n",
              "      <td>['serbu', 'vaksin', 'polres', 'simalungun', 'l...</td>\n",
              "      <td>Simalungun Police Vaccine Assault Like</td>\n",
              "      <td>negative</td>\n",
              "      <td>0.000000</td>\n",
              "    </tr>\n",
              "    <tr>\n",
              "      <th>99</th>\n",
              "      <td>99</td>\n",
              "      <td>tadi pas meeting di kampus dosen nyuruh vaksin...</td>\n",
              "      <td>tadi pas meeting di kampus dosen nyuruh vaksin...</td>\n",
              "      <td>pas meeting kampus dosen nyuruh vaksin rs mump...</td>\n",
              "      <td>pas meeting kampus dosen nyuruh vaksin rs mump...</td>\n",
              "      <td>['pas', 'meeting', 'kampus', 'dosen', 'nyuruh'...</td>\n",
              "      <td>PAS MEETING Campus Lecturer Mengingan Vaccine ...</td>\n",
              "      <td>negative</td>\n",
              "      <td>0.300000</td>\n",
              "    </tr>\n",
              "  </tbody>\n",
              "</table>\n",
              "<p>100 rows × 9 columns</p>\n",
              "</div>"
            ],
            "text/plain": [
              "    Unnamed: 0  ...  polarity\n",
              "0            0  ...  0.000000\n",
              "1            1  ...  0.000000\n",
              "2            2  ...  0.000000\n",
              "3            3  ...  0.166667\n",
              "4            4  ...  0.000000\n",
              "..         ...  ...       ...\n",
              "95          95  ... -0.100000\n",
              "96          96  ...  0.000000\n",
              "97          97  ...  0.000000\n",
              "98          98  ...  0.000000\n",
              "99          99  ...  0.300000\n",
              "\n",
              "[100 rows x 9 columns]"
            ]
          },
          "execution_count": 8,
          "metadata": {
            "tags": []
          },
          "output_type": "execute_result"
        }
      ],
      "source": [
        "df"
      ]
    },
    {
      "cell_type": "code",
      "execution_count": null,
      "metadata": {
        "id": "DsDQ8JK0tdil"
      },
      "outputs": [],
      "source": [
        "df['sentimen_textblob']=''\n",
        "df.loc[df.polarity>0,'sentimen_textblob']='positive'\n",
        "df.loc[df.polarity==0,'sentimen_textblob']='neutral'\n",
        "df.loc[df.polarity<0,'sentimen_textblob']='negative'"
      ]
    },
    {
      "cell_type": "code",
      "execution_count": null,
      "metadata": {
        "colab": {
          "base_uri": "https://localhost:8080/",
          "height": 988
        },
        "id": "AwZBPQVLuAxX",
        "outputId": "2cbeb560-c70f-4602-e6a1-35c650c7d8b8"
      },
      "outputs": [
        {
          "data": {
            "text/html": [
              "<div>\n",
              "<style scoped>\n",
              "    .dataframe tbody tr th:only-of-type {\n",
              "        vertical-align: middle;\n",
              "    }\n",
              "\n",
              "    .dataframe tbody tr th {\n",
              "        vertical-align: top;\n",
              "    }\n",
              "\n",
              "    .dataframe thead th {\n",
              "        text-align: right;\n",
              "    }\n",
              "</style>\n",
              "<table border=\"1\" class=\"dataframe\">\n",
              "  <thead>\n",
              "    <tr style=\"text-align: right;\">\n",
              "      <th></th>\n",
              "      <th>Unnamed: 0</th>\n",
              "      <th>content</th>\n",
              "      <th>clean1</th>\n",
              "      <th>clean2</th>\n",
              "      <th>clean3</th>\n",
              "      <th>tokens</th>\n",
              "      <th>clean_english</th>\n",
              "      <th>label</th>\n",
              "      <th>polarity</th>\n",
              "      <th>sentimen_textblob</th>\n",
              "    </tr>\n",
              "  </thead>\n",
              "  <tbody>\n",
              "    <tr>\n",
              "      <th>0</th>\n",
              "      <td>0</td>\n",
              "      <td>@Rakisdianrd loh ngga boleh kak? kemarin ibu a...</td>\n",
              "      <td>loh ngga boleh kak kemarin ibu aku habis vaksin</td>\n",
              "      <td>loh ngga kak kemarin habis vaksin</td>\n",
              "      <td>loh ngga kak kemarin habis vaksin</td>\n",
              "      <td>['loh', 'ngga', 'kak', 'kemarin', 'habis', 'va...</td>\n",
              "      <td>I didn't miss yesterday's vaccine</td>\n",
              "      <td>neutral</td>\n",
              "      <td>0.000000</td>\n",
              "      <td>neutral</td>\n",
              "    </tr>\n",
              "    <tr>\n",
              "      <th>1</th>\n",
              "      <td>1</td>\n",
              "      <td>vaksin gabisa dikasih obat kapsul aja apa? gas...</td>\n",
              "      <td>vaksin gabisa dikasih obat kapsul aja apa gasu...</td>\n",
              "      <td>vaksin gabisa dikasih obat kapsul aja gasuka j...</td>\n",
              "      <td>vaksin gabisa kasih obat kapsul aja gasuka jar...</td>\n",
              "      <td>['vaksin', 'gabisa', 'kasih', 'obat', 'kapsul'...</td>\n",
              "      <td>the vaccine can't give capsule medicine just g...</td>\n",
              "      <td>negative</td>\n",
              "      <td>0.000000</td>\n",
              "      <td>neutral</td>\n",
              "    </tr>\n",
              "    <tr>\n",
              "      <th>2</th>\n",
              "      <td>2</td>\n",
              "      <td>Hari tu pon p cucuk vaksin tempat dia cam deka...</td>\n",
              "      <td>hari tu pon p cucuk vaksin tempat dia cam deka...</td>\n",
              "      <td>tu pon p cucuk vaksin cam concert 😭😭😭😭</td>\n",
              "      <td>tu pon p cucuk vaksin cam concert</td>\n",
              "      <td>['tu', 'pon', 'p', 'cucuk', 'vaksin', 'cam', '...</td>\n",
              "      <td>you pon p cucuk vaksin cam concert</td>\n",
              "      <td>neutral</td>\n",
              "      <td>0.000000</td>\n",
              "      <td>neutral</td>\n",
              "    </tr>\n",
              "    <tr>\n",
              "      <th>3</th>\n",
              "      <td>3</td>\n",
              "      <td>Abis ditelp mama..\\n\\nMom: Gk pulang toh kak? ...</td>\n",
              "      <td>abis ditelp mamamom gk pulang toh kak me gk ma...</td>\n",
              "      <td>abis ditelp mamamom gk pulang kak me gk ma abi...</td>\n",
              "      <td>abis ditelp mamamom gk pulang kak me gk ma abi...</td>\n",
              "      <td>['abis', 'ditelp', 'mamamom', 'gk', 'pulang', ...</td>\n",
              "      <td>Abis Ditelp Mamamom GK Returns to Sis Me Gk Ab...</td>\n",
              "      <td>negative</td>\n",
              "      <td>0.166667</td>\n",
              "      <td>positive</td>\n",
              "    </tr>\n",
              "    <tr>\n",
              "      <th>4</th>\n",
              "      <td>4</td>\n",
              "      <td>Terus gw bls dong \" kami juga yg udah di vaksi...</td>\n",
              "      <td>terus gw bls dong  kami juga yg udah di vaksin...</td>\n",
              "      <td>gw bls yg udah vaksin hak dilindungi aman yg k...</td>\n",
              "      <td>gw bls yg udah vaksin hak lindung aman yg kera...</td>\n",
              "      <td>['gw', 'bls', 'yg', 'udah', 'vaksin', 'hak', '...</td>\n",
              "      <td>I've bls the vaccine protected rights that are...</td>\n",
              "      <td>negative</td>\n",
              "      <td>0.000000</td>\n",
              "      <td>neutral</td>\n",
              "    </tr>\n",
              "    <tr>\n",
              "      <th>...</th>\n",
              "      <td>...</td>\n",
              "      <td>...</td>\n",
              "      <td>...</td>\n",
              "      <td>...</td>\n",
              "      <td>...</td>\n",
              "      <td>...</td>\n",
              "      <td>...</td>\n",
              "      <td>...</td>\n",
              "      <td>...</td>\n",
              "      <td>...</td>\n",
              "    </tr>\n",
              "    <tr>\n",
              "      <th>95</th>\n",
              "      <td>95</td>\n",
              "      <td>Btw ada yg bilang \" say no to vaksin\". Plis ba...</td>\n",
              "      <td>btw ada yg bilang  say no to vaksin plis bange...</td>\n",
              "      <td>btw yg bilang say no to vaksin plis banget kag...</td>\n",
              "      <td>btw yg bilang say no to vaksin plis banget kag...</td>\n",
              "      <td>['btw', 'yg', 'bilang', 'say', 'no', 'to', 'va...</td>\n",
              "      <td>btw who says say no to vaccine because it's re...</td>\n",
              "      <td>positive</td>\n",
              "      <td>-0.100000</td>\n",
              "      <td>negative</td>\n",
              "    </tr>\n",
              "    <tr>\n",
              "      <th>96</th>\n",
              "      <td>96</td>\n",
              "      <td>@aimaanz Wehh asal do demam teruk tetiba? Cucu...</td>\n",
              "      <td>wehh asal do demam teruk tetiba cucuk vaksin ke</td>\n",
              "      <td>wehh do demam teruk tetiba cucuk vaksin</td>\n",
              "      <td>wehh do demam teruk tetiba cucuk vaksin</td>\n",
              "      <td>['wehh', 'do', 'demam', 'teruk', 'tetiba', 'cu...</td>\n",
              "      <td>wehh do severe fever fever tilib</td>\n",
              "      <td>negative</td>\n",
              "      <td>0.000000</td>\n",
              "      <td>neutral</td>\n",
              "    </tr>\n",
              "    <tr>\n",
              "      <th>97</th>\n",
              "      <td>97</td>\n",
              "      <td>mereka yg sudah di vaksin juga akan mau kalau ...</td>\n",
              "      <td>mereka yg sudah di vaksin juga akan mau kalau ...</td>\n",
              "      <td>yg vaksin pasang chip the mark of the beast da...</td>\n",
              "      <td>yg vaksin pasang chip the mark of the beast da...</td>\n",
              "      <td>['yg', 'vaksin', 'pasang', 'chip', 'the', 'mar...</td>\n",
              "      <td>the vaccine attach the chip the mark of the BE...</td>\n",
              "      <td>negative</td>\n",
              "      <td>0.000000</td>\n",
              "      <td>neutral</td>\n",
              "    </tr>\n",
              "    <tr>\n",
              "      <th>98</th>\n",
              "      <td>98</td>\n",
              "      <td>Serbuan Vaksin Polres Simalungun Laksanakan Di...</td>\n",
              "      <td>serbuan vaksin polres simalungun laksanakan di...</td>\n",
              "      <td>serbuan vaksin polres simalungun laksanakan</td>\n",
              "      <td>serbu vaksin polres simalungun laksana</td>\n",
              "      <td>['serbu', 'vaksin', 'polres', 'simalungun', 'l...</td>\n",
              "      <td>Simalungun Police Vaccine Assault Like</td>\n",
              "      <td>negative</td>\n",
              "      <td>0.000000</td>\n",
              "      <td>neutral</td>\n",
              "    </tr>\n",
              "    <tr>\n",
              "      <th>99</th>\n",
              "      <td>99</td>\n",
              "      <td>tadi pas meeting di kampus dosen nyuruh vaksin...</td>\n",
              "      <td>tadi pas meeting di kampus dosen nyuruh vaksin...</td>\n",
              "      <td>pas meeting kampus dosen nyuruh vaksin rs mump...</td>\n",
              "      <td>pas meeting kampus dosen nyuruh vaksin rs mump...</td>\n",
              "      <td>['pas', 'meeting', 'kampus', 'dosen', 'nyuruh'...</td>\n",
              "      <td>PAS MEETING Campus Lecturer Mengingan Vaccine ...</td>\n",
              "      <td>negative</td>\n",
              "      <td>0.300000</td>\n",
              "      <td>positive</td>\n",
              "    </tr>\n",
              "  </tbody>\n",
              "</table>\n",
              "<p>100 rows × 10 columns</p>\n",
              "</div>"
            ],
            "text/plain": [
              "    Unnamed: 0  ... sentimen_textblob\n",
              "0            0  ...           neutral\n",
              "1            1  ...           neutral\n",
              "2            2  ...           neutral\n",
              "3            3  ...          positive\n",
              "4            4  ...           neutral\n",
              "..         ...  ...               ...\n",
              "95          95  ...          negative\n",
              "96          96  ...           neutral\n",
              "97          97  ...           neutral\n",
              "98          98  ...           neutral\n",
              "99          99  ...          positive\n",
              "\n",
              "[100 rows x 10 columns]"
            ]
          },
          "execution_count": 10,
          "metadata": {
            "tags": []
          },
          "output_type": "execute_result"
        }
      ],
      "source": [
        "df"
      ]
    },
    {
      "cell_type": "code",
      "execution_count": null,
      "metadata": {
        "colab": {
          "base_uri": "https://localhost:8080/"
        },
        "id": "r-KVRa0tuJZ4",
        "outputId": "b027b1b4-ca1a-4490-addb-2bd8d8d49d50"
      },
      "outputs": [
        {
          "data": {
            "text/plain": [
              "neutral     52\n",
              "positive    33\n",
              "negative    15\n",
              "Name: sentimen_textblob, dtype: int64"
            ]
          },
          "execution_count": 11,
          "metadata": {
            "tags": []
          },
          "output_type": "execute_result"
        }
      ],
      "source": [
        "df['sentimen_textblob'].value_counts()"
      ]
    },
    {
      "cell_type": "code",
      "execution_count": null,
      "metadata": {
        "colab": {
          "base_uri": "https://localhost:8080/"
        },
        "id": "LNJZUjzGuX2R",
        "outputId": "595f4348-54bf-45dc-fc65-6b5e80c5d2bc"
      },
      "outputs": [
        {
          "data": {
            "text/plain": [
              "neutral     41\n",
              "positive    32\n",
              "negative    27\n",
              "Name: label, dtype: int64"
            ]
          },
          "execution_count": 12,
          "metadata": {
            "tags": []
          },
          "output_type": "execute_result"
        }
      ],
      "source": [
        "df['label'].value_counts()"
      ]
    },
    {
      "cell_type": "code",
      "execution_count": null,
      "metadata": {
        "colab": {
          "base_uri": "https://localhost:8080/",
          "height": 332
        },
        "id": "5EVWTIBxutK6",
        "outputId": "268db83e-144c-48f7-c891-dc463c90b9ca"
      },
      "outputs": [
        {
          "data": {
            "text/plain": [
              "<matplotlib.axes._subplots.AxesSubplot at 0x7fae59312a10>"
            ]
          },
          "execution_count": 13,
          "metadata": {
            "tags": []
          },
          "output_type": "execute_result"
        },
        {
          "data": {
            "image/png": "[encoded data removed]",
            "text/plain": [
              "<Figure size 432x288 with 1 Axes>"
            ]
          },
          "metadata": {
            "needs_background": "light",
            "tags": []
          },
          "output_type": "display_data"
        }
      ],
      "source": [
        "df.sentimen_textblob.value_counts().plot(kind='bar', title='Sentiment Analysis with Textblob')"
      ]
    },
    {
      "cell_type": "code",
      "execution_count": null,
      "metadata": {
        "colab": {
          "base_uri": "https://localhost:8080/",
          "height": 281
        },
        "id": "MAm7Ww9AvGFL",
        "outputId": "ef81d379-35b9-44e7-8f0e-bd41dbb62752"
      },
      "outputs": [
        {
          "data": {
            "text/plain": [
              "<matplotlib.axes._subplots.AxesSubplot at 0x7fae592eb450>"
            ]
          },
          "execution_count": 14,
          "metadata": {
            "tags": []
          },
          "output_type": "execute_result"
        },
        {
          "data": {
            "image/png": "[encoded data removed]",
            "text/plain": [
              "<Figure size 432x288 with 1 Axes>"
            ]
          },
          "metadata": {
            "tags": []
          },
          "output_type": "display_data"
        }
      ],
      "source": [
        "df.sentimen_textblob.value_counts().plot(kind='pie', title='Sentiment Analysis with Textblob')"
      ]
    },
    {
      "cell_type": "markdown",
      "metadata": {
        "id": "P13fN8-mvceT"
      },
      "source": [
        "## Modelling with Vader"
      ]
    },
    {
      "cell_type": "code",
      "execution_count": null,
      "metadata": {
        "id": "soRKwjN_veT6"
      },
      "outputs": [],
      "source": [
        "from nltk.sentiment.vader import SentimentIntensityAnalyzer\n",
        "from nltk.sentiment.util import *"
      ]
    },
    {
      "cell_type": "code",
      "execution_count": null,
      "metadata": {
        "colab": {
          "base_uri": "https://localhost:8080/"
        },
        "id": "PGoAP9VtvutZ",
        "outputId": "007d88ea-6e49-4eef-fbb1-4b1956e93323"
      },
      "outputs": [
        {
          "name": "stdout",
          "output_type": "stream",
          "text": [
            "[nltk_data] Downloading package vader_lexicon to /root/nltk_data...\n"
          ]
        }
      ],
      "source": [
        "import nltk\n",
        "nltk.download('vader_lexicon')\n",
        "from nltk.sentiment.vader import SentimentIntensityAnalyzer\n",
        "sid = SentimentIntensityAnalyzer()"
      ]
    },
    {
      "cell_type": "code",
      "execution_count": null,
      "metadata": {
        "id": "blTdZbhsv-85"
      },
      "outputs": [],
      "source": [
        "df['scores'] = df['clean_english'].apply(lambda new_text: sid.polarity_scores(new_text))"
      ]
    },
    {
      "cell_type": "code",
      "execution_count": null,
      "metadata": {
        "colab": {
          "base_uri": "https://localhost:8080/",
          "height": 1000
        },
        "id": "lzUhOaMVwNpB",
        "outputId": "52e8d12e-5b2f-4bab-d7ec-68748155884b"
      },
      "outputs": [
        {
          "data": {
            "text/html": [
              "<div>\n",
              "<style scoped>\n",
              "    .dataframe tbody tr th:only-of-type {\n",
              "        vertical-align: middle;\n",
              "    }\n",
              "\n",
              "    .dataframe tbody tr th {\n",
              "        vertical-align: top;\n",
              "    }\n",
              "\n",
              "    .dataframe thead th {\n",
              "        text-align: right;\n",
              "    }\n",
              "</style>\n",
              "<table border=\"1\" class=\"dataframe\">\n",
              "  <thead>\n",
              "    <tr style=\"text-align: right;\">\n",
              "      <th></th>\n",
              "      <th>Unnamed: 0</th>\n",
              "      <th>content</th>\n",
              "      <th>clean1</th>\n",
              "      <th>clean2</th>\n",
              "      <th>clean3</th>\n",
              "      <th>tokens</th>\n",
              "      <th>clean_english</th>\n",
              "      <th>label</th>\n",
              "      <th>polarity</th>\n",
              "      <th>sentimen_textblob</th>\n",
              "      <th>scores</th>\n",
              "    </tr>\n",
              "  </thead>\n",
              "  <tbody>\n",
              "    <tr>\n",
              "      <th>0</th>\n",
              "      <td>0</td>\n",
              "      <td>@Rakisdianrd loh ngga boleh kak? kemarin ibu a...</td>\n",
              "      <td>loh ngga boleh kak kemarin ibu aku habis vaksin</td>\n",
              "      <td>loh ngga kak kemarin habis vaksin</td>\n",
              "      <td>loh ngga kak kemarin habis vaksin</td>\n",
              "      <td>['loh', 'ngga', 'kak', 'kemarin', 'habis', 'va...</td>\n",
              "      <td>I didn't miss yesterday's vaccine</td>\n",
              "      <td>neutral</td>\n",
              "      <td>0.000000</td>\n",
              "      <td>neutral</td>\n",
              "      <td>{'neg': 0.0, 'neu': 0.675, 'pos': 0.325, 'comp...</td>\n",
              "    </tr>\n",
              "    <tr>\n",
              "      <th>1</th>\n",
              "      <td>1</td>\n",
              "      <td>vaksin gabisa dikasih obat kapsul aja apa? gas...</td>\n",
              "      <td>vaksin gabisa dikasih obat kapsul aja apa gasu...</td>\n",
              "      <td>vaksin gabisa dikasih obat kapsul aja gasuka j...</td>\n",
              "      <td>vaksin gabisa kasih obat kapsul aja gasuka jar...</td>\n",
              "      <td>['vaksin', 'gabisa', 'kasih', 'obat', 'kapsul'...</td>\n",
              "      <td>the vaccine can't give capsule medicine just g...</td>\n",
              "      <td>negative</td>\n",
              "      <td>0.000000</td>\n",
              "      <td>neutral</td>\n",
              "      <td>{'neg': 0.0, 'neu': 0.8, 'pos': 0.2, 'compound...</td>\n",
              "    </tr>\n",
              "    <tr>\n",
              "      <th>2</th>\n",
              "      <td>2</td>\n",
              "      <td>Hari tu pon p cucuk vaksin tempat dia cam deka...</td>\n",
              "      <td>hari tu pon p cucuk vaksin tempat dia cam deka...</td>\n",
              "      <td>tu pon p cucuk vaksin cam concert 😭😭😭😭</td>\n",
              "      <td>tu pon p cucuk vaksin cam concert</td>\n",
              "      <td>['tu', 'pon', 'p', 'cucuk', 'vaksin', 'cam', '...</td>\n",
              "      <td>you pon p cucuk vaksin cam concert</td>\n",
              "      <td>neutral</td>\n",
              "      <td>0.000000</td>\n",
              "      <td>neutral</td>\n",
              "      <td>{'neg': 0.0, 'neu': 1.0, 'pos': 0.0, 'compound...</td>\n",
              "    </tr>\n",
              "    <tr>\n",
              "      <th>3</th>\n",
              "      <td>3</td>\n",
              "      <td>Abis ditelp mama..\\n\\nMom: Gk pulang toh kak? ...</td>\n",
              "      <td>abis ditelp mamamom gk pulang toh kak me gk ma...</td>\n",
              "      <td>abis ditelp mamamom gk pulang kak me gk ma abi...</td>\n",
              "      <td>abis ditelp mamamom gk pulang kak me gk ma abi...</td>\n",
              "      <td>['abis', 'ditelp', 'mamamom', 'gk', 'pulang', ...</td>\n",
              "      <td>Abis Ditelp Mamamom GK Returns to Sis Me Gk Ab...</td>\n",
              "      <td>negative</td>\n",
              "      <td>0.166667</td>\n",
              "      <td>positive</td>\n",
              "      <td>{'neg': 0.0, 'neu': 0.835, 'pos': 0.165, 'comp...</td>\n",
              "    </tr>\n",
              "    <tr>\n",
              "      <th>4</th>\n",
              "      <td>4</td>\n",
              "      <td>Terus gw bls dong \" kami juga yg udah di vaksi...</td>\n",
              "      <td>terus gw bls dong  kami juga yg udah di vaksin...</td>\n",
              "      <td>gw bls yg udah vaksin hak dilindungi aman yg k...</td>\n",
              "      <td>gw bls yg udah vaksin hak lindung aman yg kera...</td>\n",
              "      <td>['gw', 'bls', 'yg', 'udah', 'vaksin', 'hak', '...</td>\n",
              "      <td>I've bls the vaccine protected rights that are...</td>\n",
              "      <td>negative</td>\n",
              "      <td>0.000000</td>\n",
              "      <td>neutral</td>\n",
              "      <td>{'neg': 0.233, 'neu': 0.572, 'pos': 0.195, 'co...</td>\n",
              "    </tr>\n",
              "    <tr>\n",
              "      <th>...</th>\n",
              "      <td>...</td>\n",
              "      <td>...</td>\n",
              "      <td>...</td>\n",
              "      <td>...</td>\n",
              "      <td>...</td>\n",
              "      <td>...</td>\n",
              "      <td>...</td>\n",
              "      <td>...</td>\n",
              "      <td>...</td>\n",
              "      <td>...</td>\n",
              "      <td>...</td>\n",
              "    </tr>\n",
              "    <tr>\n",
              "      <th>95</th>\n",
              "      <td>95</td>\n",
              "      <td>Btw ada yg bilang \" say no to vaksin\". Plis ba...</td>\n",
              "      <td>btw ada yg bilang  say no to vaksin plis bange...</td>\n",
              "      <td>btw yg bilang say no to vaksin plis banget kag...</td>\n",
              "      <td>btw yg bilang say no to vaksin plis banget kag...</td>\n",
              "      <td>['btw', 'yg', 'bilang', 'say', 'no', 'to', 'va...</td>\n",
              "      <td>btw who says say no to vaccine because it's re...</td>\n",
              "      <td>positive</td>\n",
              "      <td>-0.100000</td>\n",
              "      <td>negative</td>\n",
              "      <td>{'neg': 0.239, 'neu': 0.761, 'pos': 0.0, 'comp...</td>\n",
              "    </tr>\n",
              "    <tr>\n",
              "      <th>96</th>\n",
              "      <td>96</td>\n",
              "      <td>@aimaanz Wehh asal do demam teruk tetiba? Cucu...</td>\n",
              "      <td>wehh asal do demam teruk tetiba cucuk vaksin ke</td>\n",
              "      <td>wehh do demam teruk tetiba cucuk vaksin</td>\n",
              "      <td>wehh do demam teruk tetiba cucuk vaksin</td>\n",
              "      <td>['wehh', 'do', 'demam', 'teruk', 'tetiba', 'cu...</td>\n",
              "      <td>wehh do severe fever fever tilib</td>\n",
              "      <td>negative</td>\n",
              "      <td>0.000000</td>\n",
              "      <td>neutral</td>\n",
              "      <td>{'neg': 0.342, 'neu': 0.658, 'pos': 0.0, 'comp...</td>\n",
              "    </tr>\n",
              "    <tr>\n",
              "      <th>97</th>\n",
              "      <td>97</td>\n",
              "      <td>mereka yg sudah di vaksin juga akan mau kalau ...</td>\n",
              "      <td>mereka yg sudah di vaksin juga akan mau kalau ...</td>\n",
              "      <td>yg vaksin pasang chip the mark of the beast da...</td>\n",
              "      <td>yg vaksin pasang chip the mark of the beast da...</td>\n",
              "      <td>['yg', 'vaksin', 'pasang', 'chip', 'the', 'mar...</td>\n",
              "      <td>the vaccine attach the chip the mark of the BE...</td>\n",
              "      <td>negative</td>\n",
              "      <td>0.000000</td>\n",
              "      <td>neutral</td>\n",
              "      <td>{'neg': 0.0, 'neu': 1.0, 'pos': 0.0, 'compound...</td>\n",
              "    </tr>\n",
              "    <tr>\n",
              "      <th>98</th>\n",
              "      <td>98</td>\n",
              "      <td>Serbuan Vaksin Polres Simalungun Laksanakan Di...</td>\n",
              "      <td>serbuan vaksin polres simalungun laksanakan di...</td>\n",
              "      <td>serbuan vaksin polres simalungun laksanakan</td>\n",
              "      <td>serbu vaksin polres simalungun laksana</td>\n",
              "      <td>['serbu', 'vaksin', 'polres', 'simalungun', 'l...</td>\n",
              "      <td>Simalungun Police Vaccine Assault Like</td>\n",
              "      <td>negative</td>\n",
              "      <td>0.000000</td>\n",
              "      <td>neutral</td>\n",
              "      <td>{'neg': 0.409, 'neu': 0.323, 'pos': 0.269, 'co...</td>\n",
              "    </tr>\n",
              "    <tr>\n",
              "      <th>99</th>\n",
              "      <td>99</td>\n",
              "      <td>tadi pas meeting di kampus dosen nyuruh vaksin...</td>\n",
              "      <td>tadi pas meeting di kampus dosen nyuruh vaksin...</td>\n",
              "      <td>pas meeting kampus dosen nyuruh vaksin rs mump...</td>\n",
              "      <td>pas meeting kampus dosen nyuruh vaksin rs mump...</td>\n",
              "      <td>['pas', 'meeting', 'kampus', 'dosen', 'nyuruh'...</td>\n",
              "      <td>PAS MEETING Campus Lecturer Mengingan Vaccine ...</td>\n",
              "      <td>negative</td>\n",
              "      <td>0.300000</td>\n",
              "      <td>positive</td>\n",
              "      <td>{'neg': 0.068, 'neu': 0.645, 'pos': 0.287, 'co...</td>\n",
              "    </tr>\n",
              "  </tbody>\n",
              "</table>\n",
              "<p>100 rows × 11 columns</p>\n",
              "</div>"
            ],
            "text/plain": [
              "    Unnamed: 0  ...                                             scores\n",
              "0            0  ...  {'neg': 0.0, 'neu': 0.675, 'pos': 0.325, 'comp...\n",
              "1            1  ...  {'neg': 0.0, 'neu': 0.8, 'pos': 0.2, 'compound...\n",
              "2            2  ...  {'neg': 0.0, 'neu': 1.0, 'pos': 0.0, 'compound...\n",
              "3            3  ...  {'neg': 0.0, 'neu': 0.835, 'pos': 0.165, 'comp...\n",
              "4            4  ...  {'neg': 0.233, 'neu': 0.572, 'pos': 0.195, 'co...\n",
              "..         ...  ...                                                ...\n",
              "95          95  ...  {'neg': 0.239, 'neu': 0.761, 'pos': 0.0, 'comp...\n",
              "96          96  ...  {'neg': 0.342, 'neu': 0.658, 'pos': 0.0, 'comp...\n",
              "97          97  ...  {'neg': 0.0, 'neu': 1.0, 'pos': 0.0, 'compound...\n",
              "98          98  ...  {'neg': 0.409, 'neu': 0.323, 'pos': 0.269, 'co...\n",
              "99          99  ...  {'neg': 0.068, 'neu': 0.645, 'pos': 0.287, 'co...\n",
              "\n",
              "[100 rows x 11 columns]"
            ]
          },
          "execution_count": 19,
          "metadata": {
            "tags": []
          },
          "output_type": "execute_result"
        }
      ],
      "source": [
        "df"
      ]
    },
    {
      "cell_type": "code",
      "execution_count": null,
      "metadata": {
        "id": "8HJxd83ywb6O"
      },
      "outputs": [],
      "source": [
        "df['compound'] = df['scores'].apply(lambda score_dict: score_dict['compound'])\n",
        "df['sentimen_vader']=''\n",
        "df.loc[df.compound>0,'sentimen_vader']='positive'\n",
        "df.loc[df.compound==0,'sentimen_vader']='neutral'\n",
        "df.loc[df.compound<0,'sentimen_vader']='negative'"
      ]
    },
    {
      "cell_type": "code",
      "execution_count": null,
      "metadata": {
        "colab": {
          "base_uri": "https://localhost:8080/",
          "height": 1000
        },
        "id": "nUL2sHyixASH",
        "outputId": "7cda9c8d-eaa5-420e-8195-90bd1bf89f0c"
      },
      "outputs": [
        {
          "data": {
            "text/html": [
              "<div>\n",
              "<style scoped>\n",
              "    .dataframe tbody tr th:only-of-type {\n",
              "        vertical-align: middle;\n",
              "    }\n",
              "\n",
              "    .dataframe tbody tr th {\n",
              "        vertical-align: top;\n",
              "    }\n",
              "\n",
              "    .dataframe thead th {\n",
              "        text-align: right;\n",
              "    }\n",
              "</style>\n",
              "<table border=\"1\" class=\"dataframe\">\n",
              "  <thead>\n",
              "    <tr style=\"text-align: right;\">\n",
              "      <th></th>\n",
              "      <th>Unnamed: 0</th>\n",
              "      <th>content</th>\n",
              "      <th>clean1</th>\n",
              "      <th>clean2</th>\n",
              "      <th>clean3</th>\n",
              "      <th>tokens</th>\n",
              "      <th>clean_english</th>\n",
              "      <th>label</th>\n",
              "      <th>polarity</th>\n",
              "      <th>sentimen_textblob</th>\n",
              "      <th>scores</th>\n",
              "      <th>compound</th>\n",
              "      <th>sentimen_vader</th>\n",
              "    </tr>\n",
              "  </thead>\n",
              "  <tbody>\n",
              "    <tr>\n",
              "      <th>0</th>\n",
              "      <td>0</td>\n",
              "      <td>@Rakisdianrd loh ngga boleh kak? kemarin ibu a...</td>\n",
              "      <td>loh ngga boleh kak kemarin ibu aku habis vaksin</td>\n",
              "      <td>loh ngga kak kemarin habis vaksin</td>\n",
              "      <td>loh ngga kak kemarin habis vaksin</td>\n",
              "      <td>['loh', 'ngga', 'kak', 'kemarin', 'habis', 'va...</td>\n",
              "      <td>I didn't miss yesterday's vaccine</td>\n",
              "      <td>neutral</td>\n",
              "      <td>0.000000</td>\n",
              "      <td>neutral</td>\n",
              "      <td>{'neg': 0.0, 'neu': 0.675, 'pos': 0.325, 'comp...</td>\n",
              "      <td>0.1139</td>\n",
              "      <td>positive</td>\n",
              "    </tr>\n",
              "    <tr>\n",
              "      <th>1</th>\n",
              "      <td>1</td>\n",
              "      <td>vaksin gabisa dikasih obat kapsul aja apa? gas...</td>\n",
              "      <td>vaksin gabisa dikasih obat kapsul aja apa gasu...</td>\n",
              "      <td>vaksin gabisa dikasih obat kapsul aja gasuka j...</td>\n",
              "      <td>vaksin gabisa kasih obat kapsul aja gasuka jar...</td>\n",
              "      <td>['vaksin', 'gabisa', 'kasih', 'obat', 'kapsul'...</td>\n",
              "      <td>the vaccine can't give capsule medicine just g...</td>\n",
              "      <td>negative</td>\n",
              "      <td>0.000000</td>\n",
              "      <td>neutral</td>\n",
              "      <td>{'neg': 0.0, 'neu': 0.8, 'pos': 0.2, 'compound...</td>\n",
              "      <td>0.3612</td>\n",
              "      <td>positive</td>\n",
              "    </tr>\n",
              "    <tr>\n",
              "      <th>2</th>\n",
              "      <td>2</td>\n",
              "      <td>Hari tu pon p cucuk vaksin tempat dia cam deka...</td>\n",
              "      <td>hari tu pon p cucuk vaksin tempat dia cam deka...</td>\n",
              "      <td>tu pon p cucuk vaksin cam concert 😭😭😭😭</td>\n",
              "      <td>tu pon p cucuk vaksin cam concert</td>\n",
              "      <td>['tu', 'pon', 'p', 'cucuk', 'vaksin', 'cam', '...</td>\n",
              "      <td>you pon p cucuk vaksin cam concert</td>\n",
              "      <td>neutral</td>\n",
              "      <td>0.000000</td>\n",
              "      <td>neutral</td>\n",
              "      <td>{'neg': 0.0, 'neu': 1.0, 'pos': 0.0, 'compound...</td>\n",
              "      <td>0.0000</td>\n",
              "      <td>neutral</td>\n",
              "    </tr>\n",
              "    <tr>\n",
              "      <th>3</th>\n",
              "      <td>3</td>\n",
              "      <td>Abis ditelp mama..\\n\\nMom: Gk pulang toh kak? ...</td>\n",
              "      <td>abis ditelp mamamom gk pulang toh kak me gk ma...</td>\n",
              "      <td>abis ditelp mamamom gk pulang kak me gk ma abi...</td>\n",
              "      <td>abis ditelp mamamom gk pulang kak me gk ma abi...</td>\n",
              "      <td>['abis', 'ditelp', 'mamamom', 'gk', 'pulang', ...</td>\n",
              "      <td>Abis Ditelp Mamamom GK Returns to Sis Me Gk Ab...</td>\n",
              "      <td>negative</td>\n",
              "      <td>0.166667</td>\n",
              "      <td>positive</td>\n",
              "      <td>{'neg': 0.0, 'neu': 0.835, 'pos': 0.165, 'comp...</td>\n",
              "      <td>0.8176</td>\n",
              "      <td>positive</td>\n",
              "    </tr>\n",
              "    <tr>\n",
              "      <th>4</th>\n",
              "      <td>4</td>\n",
              "      <td>Terus gw bls dong \" kami juga yg udah di vaksi...</td>\n",
              "      <td>terus gw bls dong  kami juga yg udah di vaksin...</td>\n",
              "      <td>gw bls yg udah vaksin hak dilindungi aman yg k...</td>\n",
              "      <td>gw bls yg udah vaksin hak lindung aman yg kera...</td>\n",
              "      <td>['gw', 'bls', 'yg', 'udah', 'vaksin', 'hak', '...</td>\n",
              "      <td>I've bls the vaccine protected rights that are...</td>\n",
              "      <td>negative</td>\n",
              "      <td>0.000000</td>\n",
              "      <td>neutral</td>\n",
              "      <td>{'neg': 0.233, 'neu': 0.572, 'pos': 0.195, 'co...</td>\n",
              "      <td>-0.0284</td>\n",
              "      <td>negative</td>\n",
              "    </tr>\n",
              "    <tr>\n",
              "      <th>...</th>\n",
              "      <td>...</td>\n",
              "      <td>...</td>\n",
              "      <td>...</td>\n",
              "      <td>...</td>\n",
              "      <td>...</td>\n",
              "      <td>...</td>\n",
              "      <td>...</td>\n",
              "      <td>...</td>\n",
              "      <td>...</td>\n",
              "      <td>...</td>\n",
              "      <td>...</td>\n",
              "      <td>...</td>\n",
              "      <td>...</td>\n",
              "    </tr>\n",
              "    <tr>\n",
              "      <th>95</th>\n",
              "      <td>95</td>\n",
              "      <td>Btw ada yg bilang \" say no to vaksin\". Plis ba...</td>\n",
              "      <td>btw ada yg bilang  say no to vaksin plis bange...</td>\n",
              "      <td>btw yg bilang say no to vaksin plis banget kag...</td>\n",
              "      <td>btw yg bilang say no to vaksin plis banget kag...</td>\n",
              "      <td>['btw', 'yg', 'bilang', 'say', 'no', 'to', 'va...</td>\n",
              "      <td>btw who says say no to vaccine because it's re...</td>\n",
              "      <td>positive</td>\n",
              "      <td>-0.100000</td>\n",
              "      <td>negative</td>\n",
              "      <td>{'neg': 0.239, 'neu': 0.761, 'pos': 0.0, 'comp...</td>\n",
              "      <td>-0.7845</td>\n",
              "      <td>negative</td>\n",
              "    </tr>\n",
              "    <tr>\n",
              "      <th>96</th>\n",
              "      <td>96</td>\n",
              "      <td>@aimaanz Wehh asal do demam teruk tetiba? Cucu...</td>\n",
              "      <td>wehh asal do demam teruk tetiba cucuk vaksin ke</td>\n",
              "      <td>wehh do demam teruk tetiba cucuk vaksin</td>\n",
              "      <td>wehh do demam teruk tetiba cucuk vaksin</td>\n",
              "      <td>['wehh', 'do', 'demam', 'teruk', 'tetiba', 'cu...</td>\n",
              "      <td>wehh do severe fever fever tilib</td>\n",
              "      <td>negative</td>\n",
              "      <td>0.000000</td>\n",
              "      <td>neutral</td>\n",
              "      <td>{'neg': 0.342, 'neu': 0.658, 'pos': 0.0, 'comp...</td>\n",
              "      <td>-0.3818</td>\n",
              "      <td>negative</td>\n",
              "    </tr>\n",
              "    <tr>\n",
              "      <th>97</th>\n",
              "      <td>97</td>\n",
              "      <td>mereka yg sudah di vaksin juga akan mau kalau ...</td>\n",
              "      <td>mereka yg sudah di vaksin juga akan mau kalau ...</td>\n",
              "      <td>yg vaksin pasang chip the mark of the beast da...</td>\n",
              "      <td>yg vaksin pasang chip the mark of the beast da...</td>\n",
              "      <td>['yg', 'vaksin', 'pasang', 'chip', 'the', 'mar...</td>\n",
              "      <td>the vaccine attach the chip the mark of the BE...</td>\n",
              "      <td>negative</td>\n",
              "      <td>0.000000</td>\n",
              "      <td>neutral</td>\n",
              "      <td>{'neg': 0.0, 'neu': 1.0, 'pos': 0.0, 'compound...</td>\n",
              "      <td>0.0000</td>\n",
              "      <td>neutral</td>\n",
              "    </tr>\n",
              "    <tr>\n",
              "      <th>98</th>\n",
              "      <td>98</td>\n",
              "      <td>Serbuan Vaksin Polres Simalungun Laksanakan Di...</td>\n",
              "      <td>serbuan vaksin polres simalungun laksanakan di...</td>\n",
              "      <td>serbuan vaksin polres simalungun laksanakan</td>\n",
              "      <td>serbu vaksin polres simalungun laksana</td>\n",
              "      <td>['serbu', 'vaksin', 'polres', 'simalungun', 'l...</td>\n",
              "      <td>Simalungun Police Vaccine Assault Like</td>\n",
              "      <td>negative</td>\n",
              "      <td>0.000000</td>\n",
              "      <td>neutral</td>\n",
              "      <td>{'neg': 0.409, 'neu': 0.323, 'pos': 0.269, 'co...</td>\n",
              "      <td>-0.3182</td>\n",
              "      <td>negative</td>\n",
              "    </tr>\n",
              "    <tr>\n",
              "      <th>99</th>\n",
              "      <td>99</td>\n",
              "      <td>tadi pas meeting di kampus dosen nyuruh vaksin...</td>\n",
              "      <td>tadi pas meeting di kampus dosen nyuruh vaksin...</td>\n",
              "      <td>pas meeting kampus dosen nyuruh vaksin rs mump...</td>\n",
              "      <td>pas meeting kampus dosen nyuruh vaksin rs mump...</td>\n",
              "      <td>['pas', 'meeting', 'kampus', 'dosen', 'nyuruh'...</td>\n",
              "      <td>PAS MEETING Campus Lecturer Mengingan Vaccine ...</td>\n",
              "      <td>negative</td>\n",
              "      <td>0.300000</td>\n",
              "      <td>positive</td>\n",
              "      <td>{'neg': 0.068, 'neu': 0.645, 'pos': 0.287, 'co...</td>\n",
              "      <td>0.7783</td>\n",
              "      <td>positive</td>\n",
              "    </tr>\n",
              "  </tbody>\n",
              "</table>\n",
              "<p>100 rows × 13 columns</p>\n",
              "</div>"
            ],
            "text/plain": [
              "    Unnamed: 0  ... sentimen_vader\n",
              "0            0  ...       positive\n",
              "1            1  ...       positive\n",
              "2            2  ...        neutral\n",
              "3            3  ...       positive\n",
              "4            4  ...       negative\n",
              "..         ...  ...            ...\n",
              "95          95  ...       negative\n",
              "96          96  ...       negative\n",
              "97          97  ...        neutral\n",
              "98          98  ...       negative\n",
              "99          99  ...       positive\n",
              "\n",
              "[100 rows x 13 columns]"
            ]
          },
          "execution_count": 22,
          "metadata": {
            "tags": []
          },
          "output_type": "execute_result"
        }
      ],
      "source": [
        "df"
      ]
    },
    {
      "cell_type": "code",
      "execution_count": null,
      "metadata": {
        "colab": {
          "base_uri": "https://localhost:8080/"
        },
        "id": "aJNjs0GQxPmf",
        "outputId": "92c3702e-7594-4db7-fda3-bb83238f1cdf"
      },
      "outputs": [
        {
          "data": {
            "text/plain": [
              "neutral     39\n",
              "positive    38\n",
              "negative    23\n",
              "Name: sentimen_vader, dtype: int64"
            ]
          },
          "execution_count": 23,
          "metadata": {
            "tags": []
          },
          "output_type": "execute_result"
        }
      ],
      "source": [
        "df['sentimen_vader'].value_counts()"
      ]
    },
    {
      "cell_type": "code",
      "execution_count": null,
      "metadata": {
        "colab": {
          "base_uri": "https://localhost:8080/"
        },
        "id": "--pnAHyBxYLg",
        "outputId": "c35196d0-1dc8-47cc-a093-0e980736bd8c"
      },
      "outputs": [
        {
          "data": {
            "text/plain": [
              "neutral     41\n",
              "positive    32\n",
              "negative    27\n",
              "Name: label, dtype: int64"
            ]
          },
          "execution_count": 24,
          "metadata": {
            "tags": []
          },
          "output_type": "execute_result"
        }
      ],
      "source": [
        "df['label'].value_counts()"
      ]
    },
    {
      "cell_type": "code",
      "execution_count": null,
      "metadata": {
        "colab": {
          "base_uri": "https://localhost:8080/"
        },
        "id": "Y4lJf1vlxbTW",
        "outputId": "ba823621-c050-4cbb-e563-297b56f2fdc6"
      },
      "outputs": [
        {
          "data": {
            "text/plain": [
              "neutral     52\n",
              "positive    33\n",
              "negative    15\n",
              "Name: sentimen_textblob, dtype: int64"
            ]
          },
          "execution_count": 25,
          "metadata": {
            "tags": []
          },
          "output_type": "execute_result"
        }
      ],
      "source": [
        "df['sentimen_textblob'].value_counts()"
      ]
    },
    {
      "cell_type": "code",
      "execution_count": null,
      "metadata": {
        "colab": {
          "base_uri": "https://localhost:8080/",
          "height": 332
        },
        "id": "-t4IbokoxkOY",
        "outputId": "78cfb13a-3673-4155-ecd7-a95cdced1ab1"
      },
      "outputs": [
        {
          "data": {
            "text/plain": [
              "<matplotlib.axes._subplots.AxesSubplot at 0x7fae576a3110>"
            ]
          },
          "execution_count": 26,
          "metadata": {
            "tags": []
          },
          "output_type": "execute_result"
        },
        {
          "data": {
            "image/png": "[encoded data removed]",
            "text/plain": [
              "<Figure size 432x288 with 1 Axes>"
            ]
          },
          "metadata": {
            "needs_background": "light",
            "tags": []
          },
          "output_type": "display_data"
        }
      ],
      "source": [
        "df.sentimen_vader.value_counts().plot(kind='bar', title='Sentiment Analysis with Vader')"
      ]
    },
    {
      "cell_type": "code",
      "execution_count": null,
      "metadata": {
        "colab": {
          "base_uri": "https://localhost:8080/",
          "height": 281
        },
        "id": "Cz6j3w6RxtsR",
        "outputId": "6257d77e-eea4-4cce-fc33-69c7c5262582"
      },
      "outputs": [
        {
          "data": {
            "text/plain": [
              "<matplotlib.axes._subplots.AxesSubplot at 0x7fae57698d90>"
            ]
          },
          "execution_count": 27,
          "metadata": {
            "tags": []
          },
          "output_type": "execute_result"
        },
        {
          "data": {
            "image/png": "[encoded data removed]",
            "text/plain": [
              "<Figure size 432x288 with 1 Axes>"
            ]
          },
          "metadata": {
            "tags": []
          },
          "output_type": "display_data"
        }
      ],
      "source": [
        "df.sentimen_vader.value_counts().plot(kind='pie', title='Sentiment Analysis with Vader')"
      ]
    },
    {
      "cell_type": "markdown",
      "metadata": {
        "id": "qGi2n7ULx2q8"
      },
      "source": [
        "## Accuracy"
      ]
    },
    {
      "cell_type": "markdown",
      "metadata": {
        "id": "AmxjkGJRx5D3"
      },
      "source": [
        "### acurracy textblob"
      ]
    },
    {
      "cell_type": "code",
      "execution_count": null,
      "metadata": {
        "id": "NPHzg0xlx-HI"
      },
      "outputs": [],
      "source": [
        "from sklearn.metrics import accuracy_score,classification_report,confusion_matrix"
      ]
    },
    {
      "cell_type": "code",
      "execution_count": null,
      "metadata": {
        "colab": {
          "base_uri": "https://localhost:8080/"
        },
        "id": "tVIZk248yWHD",
        "outputId": "e24c9715-af1a-41de-8b4d-d9d15437be4e"
      },
      "outputs": [
        {
          "data": {
            "text/plain": [
              "0.57"
            ]
          },
          "execution_count": 29,
          "metadata": {
            "tags": []
          },
          "output_type": "execute_result"
        }
      ],
      "source": [
        "accuracy_score(df['label'],df['sentimen_textblob'])"
      ]
    },
    {
      "cell_type": "code",
      "execution_count": null,
      "metadata": {
        "colab": {
          "base_uri": "https://localhost:8080/"
        },
        "id": "YnOg0gEFyoM7",
        "outputId": "832e9a9d-0dcd-4a23-d63f-d011ec76e108"
      },
      "outputs": [
        {
          "name": "stdout",
          "output_type": "stream",
          "text": [
            "              precision    recall  f1-score   support\n",
            "\n",
            "    negative       0.40      0.22      0.29        27\n",
            "     neutral       0.63      0.80      0.71        41\n",
            "    positive       0.55      0.56      0.55        32\n",
            "\n",
            "    accuracy                           0.57       100\n",
            "   macro avg       0.53      0.53      0.52       100\n",
            "weighted avg       0.54      0.57      0.55       100\n",
            "\n"
          ]
        }
      ],
      "source": [
        "print(classification_report(df['label'],df['sentimen_textblob']))"
      ]
    },
    {
      "cell_type": "code",
      "execution_count": null,
      "metadata": {
        "colab": {
          "base_uri": "https://localhost:8080/"
        },
        "id": "PnqGDPrBzKuA",
        "outputId": "6e2bea92-7b3b-47b2-9aa7-ccb09c04ff42"
      },
      "outputs": [
        {
          "name": "stdout",
          "output_type": "stream",
          "text": [
            "[[ 6 10 11]\n",
            " [ 4 33  4]\n",
            " [ 5  9 18]]\n"
          ]
        }
      ],
      "source": [
        "cm_pred = confusion_matrix(df['label'],df['sentimen_textblob'])\n",
        "print(cm_pred)"
      ]
    },
    {
      "cell_type": "code",
      "execution_count": null,
      "metadata": {
        "colab": {
          "base_uri": "https://localhost:8080/"
        },
        "id": "XGZozhZO0aM-",
        "outputId": "c39fb6d5-f50d-46fa-e24f-151570626182"
      },
      "outputs": [
        {
          "data": {
            "text/plain": [
              "neutral     52\n",
              "positive    33\n",
              "negative    15\n",
              "Name: sentimen_textblob, dtype: int64"
            ]
          },
          "execution_count": 33,
          "metadata": {
            "tags": []
          },
          "output_type": "execute_result"
        }
      ],
      "source": [
        "df['sentimen_textblob'].value_counts()"
      ]
    },
    {
      "cell_type": "code",
      "execution_count": null,
      "metadata": {
        "colab": {
          "base_uri": "https://localhost:8080/",
          "height": 428
        },
        "id": "jJMlQvBazbhw",
        "outputId": "47fc6349-38df-4632-dbd2-2c1a778bcbcd"
      },
      "outputs": [
        {
          "data": {
            "image/png": "[encoded data removed]",
            "text/plain": [
              "<Figure size 720x504 with 1 Axes>"
            ]
          },
          "metadata": {
            "needs_background": "light",
            "tags": []
          },
          "output_type": "display_data"
        }
      ],
      "source": [
        "import seaborn as sn\n",
        "import matplotlib.pyplot as plt\n",
        "\n",
        "df_cm_pred = pd.DataFrame(cm_pred, index = [i for i in [\"Negative\", \"Neutral\", \"Positive\"]],\n",
        "                          columns = [i for i in ['Negative', 'Neutral', 'Positive']])\n",
        "\n",
        "plt.figure(figsize = (10,7))\n",
        "sn.heatmap(df_cm_pred, annot=True, cbar=False, fmt=\"d\")\n",
        "plt.savefig('/content/drive/MyDrive/mini-bootcamp-bisaai/confusion_matrix_textblob.jpg')"
      ]
    },
    {
      "cell_type": "code",
      "execution_count": null,
      "metadata": {
        "colab": {
          "base_uri": "https://localhost:8080/"
        },
        "id": "5rzwHP1F08Ix",
        "outputId": "722d497d-87d8-4c0a-e5c5-6e9fde56d341"
      },
      "outputs": [
        {
          "data": {
            "text/plain": [
              "0.5454545454545454"
            ]
          },
          "execution_count": 35,
          "metadata": {
            "tags": []
          },
          "output_type": "execute_result"
        }
      ],
      "source": [
        "18/33"
      ]
    },
    {
      "cell_type": "code",
      "execution_count": null,
      "metadata": {
        "colab": {
          "base_uri": "https://localhost:8080/"
        },
        "id": "w2Hrm1t41Fdw",
        "outputId": "12e6f0ea-cb8e-4791-abac-97ccfef53594"
      },
      "outputs": [
        {
          "data": {
            "text/plain": [
              "0.5625"
            ]
          },
          "execution_count": 36,
          "metadata": {
            "tags": []
          },
          "output_type": "execute_result"
        }
      ],
      "source": [
        "18/32"
      ]
    },
    {
      "cell_type": "markdown",
      "metadata": {
        "id": "UEOVYKb21NQ6"
      },
      "source": [
        "### accuracy vader"
      ]
    },
    {
      "cell_type": "code",
      "execution_count": null,
      "metadata": {
        "colab": {
          "base_uri": "https://localhost:8080/"
        },
        "id": "Ivi-iIpF1Ot0",
        "outputId": "c34cd4b9-fe8a-42b8-f464-d58146e23a40"
      },
      "outputs": [
        {
          "data": {
            "text/plain": [
              "0.74"
            ]
          },
          "execution_count": 37,
          "metadata": {
            "tags": []
          },
          "output_type": "execute_result"
        }
      ],
      "source": [
        "accuracy_score(df['label'],df['sentimen_vader'])"
      ]
    },
    {
      "cell_type": "code",
      "execution_count": null,
      "metadata": {
        "colab": {
          "base_uri": "https://localhost:8080/"
        },
        "id": "BcHDZCV51ikx",
        "outputId": "3e4c0bd9-8e79-46fd-ee6f-e30557c5c085"
      },
      "outputs": [
        {
          "name": "stdout",
          "output_type": "stream",
          "text": [
            "              precision    recall  f1-score   support\n",
            "\n",
            "    negative       0.65      0.56      0.60        27\n",
            "     neutral       0.85      0.80      0.83        41\n",
            "    positive       0.68      0.81      0.74        32\n",
            "\n",
            "    accuracy                           0.74       100\n",
            "   macro avg       0.73      0.72      0.72       100\n",
            "weighted avg       0.74      0.74      0.74       100\n",
            "\n"
          ]
        }
      ],
      "source": [
        "print(classification_report(df['label'],df['sentimen_vader']))"
      ]
    },
    {
      "cell_type": "code",
      "execution_count": null,
      "metadata": {
        "colab": {
          "base_uri": "https://localhost:8080/"
        },
        "id": "OqpgB-kZ1tSZ",
        "outputId": "4d540c00-d7fb-411e-d625-0cd3ba89cd5c"
      },
      "outputs": [
        {
          "name": "stdout",
          "output_type": "stream",
          "text": [
            "[[15  4  8]\n",
            " [ 4 33  4]\n",
            " [ 4  2 26]]\n"
          ]
        }
      ],
      "source": [
        "cm_pred = confusion_matrix(df['label'],df['sentimen_vader'])\n",
        "print(cm_pred)"
      ]
    },
    {
      "cell_type": "code",
      "execution_count": null,
      "metadata": {
        "colab": {
          "base_uri": "https://localhost:8080/",
          "height": 428
        },
        "id": "G60sPK0d15In",
        "outputId": "417ef57d-0e58-4d96-a7a6-9cf59ac4e48a"
      },
      "outputs": [
        {
          "data": {
            "image/png": "[encoded data removed]",
            "text/plain": [
              "<Figure size 720x504 with 1 Axes>"
            ]
          },
          "metadata": {
            "needs_background": "light",
            "tags": []
          },
          "output_type": "display_data"
        }
      ],
      "source": [
        "import seaborn as sn\n",
        "import matplotlib.pyplot as plt\n",
        "\n",
        "df_cm_pred = pd.DataFrame(cm_pred, index = [i for i in [\"Negative\", \"Neutral\", \"Positive\"]],\n",
        "                          columns = [i for i in [\"Negative\", \"Neutral\", \"Positive\"]])\n",
        "\n",
        "plt.figure(figsize = (10,7))\n",
        "sn.heatmap(df_cm_pred, annot=True, cbar=False, fmt=\"d\")\n",
        "plt.savefig('/content/drive/MyDrive/mini-bootcamp/confusion_matrix_vader.jpg')"
      ]
    },
    {
      "cell_type": "code",
      "execution_count": null,
      "metadata": {
        "colab": {
          "base_uri": "https://localhost:8080/"
        },
        "id": "NZM3emUp2CRW",
        "outputId": "8f5b3842-aa41-4d48-a834-0b167f539bd3"
      },
      "outputs": [
        {
          "data": {
            "text/plain": [
              "0.6842105263157895"
            ]
          },
          "execution_count": 41,
          "metadata": {
            "tags": []
          },
          "output_type": "execute_result"
        }
      ],
      "source": [
        "26/38"
      ]
    },
    {
      "cell_type": "code",
      "execution_count": null,
      "metadata": {
        "colab": {
          "base_uri": "https://localhost:8080/"
        },
        "id": "f2zdNThV2MFT",
        "outputId": "16c39e45-6552-4f2a-fa53-09f672bd5c17"
      },
      "outputs": [
        {
          "data": {
            "text/plain": [
              "0.8125"
            ]
          },
          "execution_count": 42,
          "metadata": {
            "tags": []
          },
          "output_type": "execute_result"
        }
      ],
      "source": [
        "26/32"
      ]
    },
    {
      "cell_type": "code",
      "execution_count": null,
      "metadata": {
        "id": "dEw2gZBg3iQ6"
      },
      "outputs": [],
      "source": [
        "df.to_csv('/content/drive/MyDrive/mini-bootcamp-bisaai/hasil_analisis_sentimen.csv', index=None)"
      ]
    },
    {
      "cell_type": "markdown",
      "metadata": {
        "id": "5pfZ-B065GXH"
      },
      "source": [
        "# Day 5 - Final Project"
      ]
    },
    {
      "cell_type": "markdown",
      "metadata": {
        "id": "gHb0W1Gi70Mu"
      },
      "source": [
        "1. Membuat dataset Twitter menggunakan kata kunci yang berbeda, kemudian save dengan nama 'dataset_katakunci.csv'\n",
        "2. Melakukan Cleaning Data dari dataset yang sudah di scraping tadi, kemudian save dengan nama 'dataset_katakunci_clean_english.csv'\n",
        "3. Labeling secara manual dari dataset yang telah di cleaning, kemudian save dengan nama 'dataset_katakunci_label.csv'\n",
        "4. Melakukan proses Modelling Analisis Sentimen menggunakan unsupervised learning dengan membandingkan metode textblob & vader sentiment serta mencari akurasi dari kedua metode tersebut dengan membandingkan dari label manual\n",
        "5. Buat suatu visualisasi analisis yang telah dihasilkan\n",
        "6. 4 orang peserta terpilih dan teraktif dari setiap kelas akan melakukan presentasi pada Day 5\n",
        "7. Semangat !"
      ]
    }
  ],
  "metadata": {
    "colab": {
      "collapsed_sections": [
        "GFB1i4nUXbL5",
        "mFhbHwRaXsXm",
        "vOBfcq3UUN4C",
        "i2dzFKluUUK2",
        "m7Bdq21VctIt",
        "xcOQTnSAc7dA"
      ],
      "name": "minibootcamp.ipynb",
      "provenance": []
    },
    "kernelspec": {
      "display_name": "Python 3.9.7 ('env': venv)",
      "language": "python",
      "name": "python3"
    },
    "language_info": {
      "codemirror_mode": {
        "name": "ipython",
        "version": 3
      },
      "file_extension": ".py",
      "mimetype": "text/x-python",
      "name": "python",
      "nbconvert_exporter": "python",
      "pygments_lexer": "ipython3",
      "version": "3.9.7"
    },
    "vscode": {
      "interpreter": {
        "hash": "37f6a94d0a68daebf1f32b2dc401540bd40931aca38f19e9fc25365b6f4d8746"
      }
    }
  },
  "nbformat": 4,
  "nbformat_minor": 0
}
